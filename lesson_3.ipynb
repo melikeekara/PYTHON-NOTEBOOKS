{
  "nbformat": 4,
  "nbformat_minor": 0,
  "metadata": {
    "colab": {
      "provenance": [],
      "authorship_tag": "ABX9TyMs++tdFK8or2VI4HOsZCe7",
      "include_colab_link": true
    },
    "kernelspec": {
      "name": "python3",
      "display_name": "Python 3"
    },
    "language_info": {
      "name": "python"
    }
  },
  "cells": [
    {
      "cell_type": "markdown",
      "metadata": {
        "id": "view-in-github",
        "colab_type": "text"
      },
      "source": [
        "<a href=\"https://colab.research.google.com/github/melikeekara/PYTHON-NOTEBOOKS/blob/main/lesson_3.ipynb\" target=\"_parent\"><img src=\"https://colab.research.google.com/assets/colab-badge.svg\" alt=\"Open In Colab\"/></a>"
      ]
    },
    {
      "cell_type": "markdown",
      "source": [
        "# Yeni Bölüm\n",
        "\n",
        "*   CONDITIONS\n",
        "*   LOOPS\n",
        "*   FUNCTIONS\n",
        "\n",
        "\n",
        "\n"
      ],
      "metadata": {
        "id": "GatePeccxERS"
      }
    },
    {
      "cell_type": "markdown",
      "source": [
        "# Python Conditions and If Statements\n",
        "These conditions can be used in several ways, most commanly in \"if statements\" and loops.\n",
        "An \"if statement\" is written by using the if keyword."
      ],
      "metadata": {
        "id": "SWVVy0C9p2ZC"
      }
    },
    {
      "cell_type": "code",
      "source": [
        "a=33\n",
        "b=200\n",
        "if b>a:\n",
        "  print(\"b is greather than a\")"
      ],
      "metadata": {
        "id": "BZPaEv-FxSk_",
        "colab": {
          "base_uri": "https://localhost:8080/"
        },
        "outputId": "892d8978-94e3-484e-ec96-193cf466e69c"
      },
      "execution_count": null,
      "outputs": [
        {
          "output_type": "stream",
          "name": "stdout",
          "text": [
            "b is greather than a\n"
          ]
        }
      ]
    },
    {
      "cell_type": "code",
      "source": [
        "a=int(input(\"write a variable:\"))"
      ],
      "metadata": {
        "colab": {
          "base_uri": "https://localhost:8080/"
        },
        "id": "hI1yam3xqW18",
        "outputId": "eab42e6d-409f-4087-9b91-2e4594a3a4f1"
      },
      "execution_count": null,
      "outputs": [
        {
          "name": "stdout",
          "output_type": "stream",
          "text": [
            "write a variable:20\n"
          ]
        }
      ]
    },
    {
      "cell_type": "code",
      "source": [
        "b=int(input(\"write b variable:\"))"
      ],
      "metadata": {
        "colab": {
          "base_uri": "https://localhost:8080/"
        },
        "id": "ryZFSSG3sPEQ",
        "outputId": "d04724d4-64f3-42b2-e2f7-0a31d92034a6"
      },
      "execution_count": null,
      "outputs": [
        {
          "name": "stdout",
          "output_type": "stream",
          "text": [
            "write b variable:25\n"
          ]
        }
      ]
    },
    {
      "cell_type": "code",
      "source": [
        "if a<b:\n",
        "  print(\"a is less than b\")"
      ],
      "metadata": {
        "colab": {
          "base_uri": "https://localhost:8080/"
        },
        "id": "4kI4t_3osaXi",
        "outputId": "7f67fc30-bca6-4d09-f00c-e13a2e70e778"
      },
      "execution_count": null,
      "outputs": [
        {
          "output_type": "stream",
          "name": "stdout",
          "text": [
            "a is less than b\n"
          ]
        }
      ]
    },
    {
      "cell_type": "markdown",
      "source": [
        "# Elif\n",
        "The elif keyword is pythons way of saying \"if the previous conditions were not true, try this condition.\""
      ],
      "metadata": {
        "id": "c8BSvxgIqXLw"
      }
    },
    {
      "cell_type": "code",
      "source": [
        "x=33\n",
        "y=33\n",
        "if y>x:\n",
        "  print(\"y is greater than x\")\n",
        "elif x==y:\n",
        "  print(\"x and y equal\")"
      ],
      "metadata": {
        "colab": {
          "base_uri": "https://localhost:8080/"
        },
        "id": "4XDvxCNsp08-",
        "outputId": "07a1b022-a7c1-4ad3-a3eb-994a3d66a13c"
      },
      "execution_count": null,
      "outputs": [
        {
          "output_type": "stream",
          "name": "stdout",
          "text": [
            "x and y equal\n"
          ]
        }
      ]
    },
    {
      "cell_type": "code",
      "source": [
        "a=int(input(\"a value is:\"))"
      ],
      "metadata": {
        "colab": {
          "base_uri": "https://localhost:8080/"
        },
        "id": "wkSKbE8R4rvo",
        "outputId": "abd95d01-1095-4e92-d9af-ca5ac4f4f105"
      },
      "execution_count": null,
      "outputs": [
        {
          "name": "stdout",
          "output_type": "stream",
          "text": [
            "a value is:5\n"
          ]
        }
      ]
    },
    {
      "cell_type": "code",
      "source": [
        "b=int(input(\"b value is:\"))"
      ],
      "metadata": {
        "colab": {
          "base_uri": "https://localhost:8080/"
        },
        "id": "QjPtaYK_4200",
        "outputId": "71dc5a39-f2be-45f8-be27-fe094bc01d03"
      },
      "execution_count": null,
      "outputs": [
        {
          "name": "stdout",
          "output_type": "stream",
          "text": [
            "b value is:150\n"
          ]
        }
      ]
    },
    {
      "cell_type": "code",
      "source": [
        "if a==b:\n",
        "  print(\"a and b are equal\")\n",
        "elif a>b:\n",
        "  print(\"a is greater than b\")\n",
        "elif a<b:\n",
        "  print(\"a is less than b\")\n",
        "else:\n",
        "  print(\"that is enough\")\n"
      ],
      "metadata": {
        "colab": {
          "base_uri": "https://localhost:8080/"
        },
        "id": "m7KOklh54_7q",
        "outputId": "63a493be-d921-4c06-8652-9d85d6e1690b"
      },
      "execution_count": null,
      "outputs": [
        {
          "output_type": "stream",
          "name": "stdout",
          "text": [
            "a is less than b\n"
          ]
        }
      ]
    },
    {
      "cell_type": "markdown",
      "source": [
        "# Else\n",
        "The else keyword catches anything which isn't caught by the preceeding conditions."
      ],
      "metadata": {
        "id": "w89MdjlRp1Gx"
      }
    },
    {
      "cell_type": "code",
      "source": [
        "a=200\n",
        "b=33\n",
        "if b>a:\n",
        "   print(\"b is greather than a\")\n",
        "else:\n",
        "  print(\"a is equal or greater than b\")\n"
      ],
      "metadata": {
        "colab": {
          "base_uri": "https://localhost:8080/"
        },
        "id": "LyTGxRrTrVUv",
        "outputId": "846b6df6-7c3f-48a5-a614-92e4f9b52d79"
      },
      "execution_count": null,
      "outputs": [
        {
          "output_type": "stream",
          "name": "stdout",
          "text": [
            "a is equal or greater than b\n"
          ]
        }
      ]
    },
    {
      "cell_type": "code",
      "source": [
        "age=int(input(\"write your age:\"))"
      ],
      "metadata": {
        "colab": {
          "base_uri": "https://localhost:8080/"
        },
        "id": "iUuXo0P_9Uj6",
        "outputId": "0e5a68b5-82f8-4f90-b11e-91890ebed97f"
      },
      "execution_count": null,
      "outputs": [
        {
          "name": "stdout",
          "output_type": "stream",
          "text": [
            "write your age:40\n"
          ]
        }
      ]
    },
    {
      "cell_type": "code",
      "source": [
        "if age>18:\n",
        "  print(\"you can login the system\")\n",
        "elif age==18:\n",
        "  print(\"You can login the system\")\n",
        "else:\n",
        "  print(\"sory you canot login system\")"
      ],
      "metadata": {
        "colab": {
          "base_uri": "https://localhost:8080/"
        },
        "id": "KhvDJauY9iPa",
        "outputId": "d0a7f777-ec14-487d-b157-719c0228b310"
      },
      "execution_count": null,
      "outputs": [
        {
          "output_type": "stream",
          "name": "stdout",
          "text": [
            "you can login the system\n"
          ]
        }
      ]
    },
    {
      "cell_type": "code",
      "source": [
        "a=20\n",
        "b=25\n",
        "\n",
        "if b>a: print(\"b is greater than a\")"
      ],
      "metadata": {
        "colab": {
          "base_uri": "https://localhost:8080/"
        },
        "id": "Wbe1u-eL9Umb",
        "outputId": "4b0a14c9-618a-41d2-a68f-5f50d499897c"
      },
      "execution_count": null,
      "outputs": [
        {
          "output_type": "stream",
          "name": "stdout",
          "text": [
            "b is greater than a\n"
          ]
        }
      ]
    },
    {
      "cell_type": "code",
      "source": [
        "x=10\n",
        "y=10\n",
        "if x==y: (\"x and y are equal\")"
      ],
      "metadata": {
        "id": "Mk_Qmjcy9Up3"
      },
      "execution_count": null,
      "outputs": []
    },
    {
      "cell_type": "code",
      "source": [
        "a=2\n",
        "b=330\n",
        "print(\"A\") if a>b else print(\"B\")"
      ],
      "metadata": {
        "id": "ucyK0DhJ-rYb",
        "colab": {
          "base_uri": "https://localhost:8080/"
        },
        "outputId": "ee7dfd3d-a07a-4fc7-ac38-776e3d80421a"
      },
      "execution_count": null,
      "outputs": [
        {
          "output_type": "stream",
          "name": "stdout",
          "text": [
            "B\n"
          ]
        }
      ]
    },
    {
      "cell_type": "markdown",
      "source": [
        "aşşağıdaki üstekinin uzun hali..."
      ],
      "metadata": {
        "id": "b0YsdXn1_gyn"
      }
    },
    {
      "cell_type": "code",
      "source": [
        "a=2\n",
        "b=330\n",
        "if (a>b):\n",
        "  print(\"A\")\n",
        "else:\n",
        "  print(\"B\")"
      ],
      "metadata": {
        "id": "l4XedjZg_Qa8",
        "colab": {
          "base_uri": "https://localhost:8080/"
        },
        "outputId": "948756ca-3308-4996-b064-c82722b43b02"
      },
      "execution_count": null,
      "outputs": [
        {
          "output_type": "stream",
          "name": "stdout",
          "text": [
            "B\n"
          ]
        }
      ]
    },
    {
      "cell_type": "markdown",
      "source": [
        "# And\n",
        "The and keyword is a logical operator, and is used to combine conditional statements."
      ],
      "metadata": {
        "id": "SA0wscOsrVrT"
      }
    },
    {
      "cell_type": "code",
      "source": [
        "a=200\n",
        "b=33\n",
        "c=500\n",
        "\n",
        "if a>b and c>a:\n",
        "  print(\"a is greater than b and c greater than a\")"
      ],
      "metadata": {
        "id": "nX7vKKASA3Vp",
        "colab": {
          "base_uri": "https://localhost:8080/"
        },
        "outputId": "c52530f7-94c1-44ac-d9ae-824dc75cbe48"
      },
      "execution_count": null,
      "outputs": [
        {
          "output_type": "stream",
          "name": "stdout",
          "text": [
            "a is greater than b and c greater than a\n"
          ]
        }
      ]
    },
    {
      "cell_type": "markdown",
      "source": [
        "# Or\n",
        "The or keyword is a logical operator, and is used to combine condiitional statements.\n",
        "sadece 1 tane doğru olması yeterlii"
      ],
      "metadata": {
        "id": "9nOww02OBiSP"
      }
    },
    {
      "cell_type": "code",
      "source": [
        "a=200\n",
        "b=33\n",
        "c=500\n",
        "\n",
        "if a>b or a>c:\n",
        "  print(\"a is greater than or a greater than c\")"
      ],
      "metadata": {
        "colab": {
          "base_uri": "https://localhost:8080/"
        },
        "id": "gtoVLsXbBkbs",
        "outputId": "a0e442bc-d654-47af-cbb8-7ea8a9f6bc55"
      },
      "execution_count": null,
      "outputs": [
        {
          "output_type": "stream",
          "name": "stdout",
          "text": [
            "a is greater than or a greater than c\n"
          ]
        }
      ]
    },
    {
      "cell_type": "markdown",
      "source": [
        "# Nested if \n",
        "You can have if statements inside if statements, this is called nested if statements."
      ],
      "metadata": {
        "id": "ivV9Ec2TCNGy"
      }
    },
    {
      "cell_type": "code",
      "source": [
        "x=41\n",
        "if x>10:\n",
        "  print(\"Above on\")\n",
        "  if x>20: \n",
        "    print(\"and also above 20\")\n",
        "  else:\n",
        "    print(\"but not above 20\")"
      ],
      "metadata": {
        "colab": {
          "base_uri": "https://localhost:8080/"
        },
        "id": "5-pWZme5CdgK",
        "outputId": "02fbcc0f-fbb1-478a-fa3c-e6434bbcf100"
      },
      "execution_count": null,
      "outputs": [
        {
          "output_type": "stream",
          "name": "stdout",
          "text": [
            "Above on\n",
            "and also above 20\n"
          ]
        }
      ]
    },
    {
      "cell_type": "code",
      "source": [
        "number=int(input(\"Select a number:\"))"
      ],
      "metadata": {
        "colab": {
          "base_uri": "https://localhost:8080/"
        },
        "id": "wwjaYLVTDQ4c",
        "outputId": "afef75f0-c46a-406f-c028-61c3b912391b"
      },
      "execution_count": null,
      "outputs": [
        {
          "name": "stdout",
          "output_type": "stream",
          "text": [
            "Select a number:7\n"
          ]
        }
      ]
    },
    {
      "cell_type": "code",
      "source": [
        "number=int(input(\"Select a number:\"))\n",
        "if number<10:\n",
        "  print(\"You can enter this game\")\n",
        "  if number==5:\n",
        "    print(\"CONG. You find the targer number\")\n",
        "  else:\n",
        "    print(\"You lose\")"
      ],
      "metadata": {
        "colab": {
          "base_uri": "https://localhost:8080/"
        },
        "id": "TsbBs2DIDa26",
        "outputId": "1e08da97-edc9-4b10-f70e-72f06f8a4401"
      },
      "execution_count": null,
      "outputs": [
        {
          "name": "stdout",
          "output_type": "stream",
          "text": [
            "Select a number:11\n"
          ]
        }
      ]
    },
    {
      "cell_type": "markdown",
      "source": [
        "# Python Loops\n",
        "Python has a two loop commands:\n",
        "*   while loops\n",
        "*   for loops\n",
        "\n"
      ],
      "metadata": {
        "id": "26EPSbT7C8S9"
      }
    },
    {
      "cell_type": "markdown",
      "source": [
        "# The while Loop\n",
        "With the while loop we can execute a set of statements as long as a condition is true.\n"
      ],
      "metadata": {
        "id": "57N_BdyCEMND"
      }
    },
    {
      "cell_type": "code",
      "source": [
        "i=1 \n",
        "while i<6:\n",
        "  print(i)\n",
        "  i+=1"
      ],
      "metadata": {
        "colab": {
          "base_uri": "https://localhost:8080/"
        },
        "id": "t1tOO_-ICd-_",
        "outputId": "ac8f5f24-2b57-4f16-8b70-fec0be21c465"
      },
      "execution_count": null,
      "outputs": [
        {
          "output_type": "stream",
          "name": "stdout",
          "text": [
            "1\n",
            "2\n",
            "3\n",
            "4\n",
            "5\n"
          ]
        }
      ]
    },
    {
      "cell_type": "code",
      "source": [
        "x=10\n",
        "while x<13:\n",
        "  print(x)\n",
        "  x+=1"
      ],
      "metadata": {
        "colab": {
          "base_uri": "https://localhost:8080/"
        },
        "id": "MQrvYC-TMYRq",
        "outputId": "110999b3-7c72-4a85-8aab-cc5e356875b4"
      },
      "execution_count": null,
      "outputs": [
        {
          "output_type": "stream",
          "name": "stdout",
          "text": [
            "10\n",
            "11\n",
            "12\n"
          ]
        }
      ]
    },
    {
      "cell_type": "markdown",
      "source": [
        "# The break Statement\n",
        "With the break statement we can stop the loop even if the while condition is true:"
      ],
      "metadata": {
        "id": "v4pvFUAYFC2i"
      }
    },
    {
      "cell_type": "code",
      "source": [
        "i=1\n",
        "while i<6:\n",
        "  print(i)\n",
        "  if i==3:\n",
        "    break\n",
        "  i+=1"
      ],
      "metadata": {
        "colab": {
          "base_uri": "https://localhost:8080/"
        },
        "id": "yoi6NUp9MrTp",
        "outputId": "8af85686-5722-4ed6-91e6-53e32c97b91f"
      },
      "execution_count": null,
      "outputs": [
        {
          "output_type": "stream",
          "name": "stdout",
          "text": [
            "1\n",
            "2\n",
            "3\n"
          ]
        }
      ]
    },
    {
      "cell_type": "markdown",
      "source": [
        "# The continue Statements\n",
        "With the break statement we can stop the current iteration, and continue with the next:"
      ],
      "metadata": {
        "id": "RiDU2H7fFWoz"
      }
    },
    {
      "cell_type": "code",
      "source": [
        "i=0\n",
        "while i<6:\n",
        "  i+=1\n",
        "  if i==3:\n",
        "    continue\n",
        "  print(i)"
      ],
      "metadata": {
        "colab": {
          "base_uri": "https://localhost:8080/"
        },
        "id": "de6Iu0uzNrBh",
        "outputId": "78e6a503-d5dd-45a0-f26b-5a80c09ad46b"
      },
      "execution_count": null,
      "outputs": [
        {
          "output_type": "stream",
          "name": "stdout",
          "text": [
            "1\n",
            "2\n",
            "4\n",
            "5\n",
            "6\n"
          ]
        }
      ]
    },
    {
      "cell_type": "markdown",
      "source": [
        "# The else statements\n",
        "With the else statement we can run a block of code once when the condition no longer is true."
      ],
      "metadata": {
        "id": "LpW7LcpQFWsI"
      }
    },
    {
      "cell_type": "code",
      "source": [
        "i=1\n",
        "while i<6:\n",
        "  print(i)\n",
        "  i+=1\n",
        "else:\n",
        "  print(\"i is no longer less than 6\")"
      ],
      "metadata": {
        "colab": {
          "base_uri": "https://localhost:8080/"
        },
        "id": "45KJJQ5ANqRe",
        "outputId": "3b9bbc0d-87bd-45a1-e2da-8319c56fb2df"
      },
      "execution_count": null,
      "outputs": [
        {
          "output_type": "stream",
          "name": "stdout",
          "text": [
            "1\n",
            "2\n",
            "3\n",
            "4\n",
            "5\n",
            "i is no longer less than 6\n"
          ]
        }
      ]
    },
    {
      "cell_type": "markdown",
      "source": [
        "# Python For Loops\n",
        "A for loop is used for iterating over a sequence (that is either a list, a tuple, a dictionary, a set or a string).\n",
        "This is less like the for keyword in other programming languages, and works more like an iterator method as found in other object-oriented programming languages.\n",
        "With the for loop we can execute a set of statements, once for each item in a list, tuple, set etc."
      ],
      "metadata": {
        "id": "2Lo7Dc01PHjI"
      }
    },
    {
      "cell_type": "code",
      "source": [
        "fruits=[\"apple\", \"banana\", \"cherry\"]\n",
        "for x in fruits:\n",
        "  print(x)"
      ],
      "metadata": {
        "colab": {
          "base_uri": "https://localhost:8080/"
        },
        "id": "1N_p_vcdRYLh",
        "outputId": "b2ef9c81-6515-4d37-d6c5-5d94a9a2810e"
      },
      "execution_count": null,
      "outputs": [
        {
          "output_type": "stream",
          "name": "stdout",
          "text": [
            "apple\n",
            "banana\n",
            "cherry\n"
          ]
        }
      ]
    },
    {
      "cell_type": "code",
      "source": [
        "cars=[\"bmw\",\"mercedes\",\"audi\"]\n",
        "\n",
        "cars.append(\"porsche\")"
      ],
      "metadata": {
        "id": "WO6vSIYtSPmQ"
      },
      "execution_count": null,
      "outputs": []
    },
    {
      "cell_type": "code",
      "source": [
        "cars"
      ],
      "metadata": {
        "colab": {
          "base_uri": "https://localhost:8080/"
        },
        "id": "B-QG6XJGSPom",
        "outputId": "f0c346f9-66f5-4132-f93c-2861b79a37c7"
      },
      "execution_count": null,
      "outputs": [
        {
          "output_type": "execute_result",
          "data": {
            "text/plain": [
              "['bmw', 'mercedes', 'audi', 'porsche']"
            ]
          },
          "metadata": {},
          "execution_count": 11
        }
      ]
    },
    {
      "cell_type": "code",
      "source": [
        "car=input(\"what is your car?\")"
      ],
      "metadata": {
        "colab": {
          "base_uri": "https://localhost:8080/"
        },
        "id": "OmdzeFwFSPr8",
        "outputId": "cd4fa037-abde-48ce-89b2-9479f63d5a35"
      },
      "execution_count": null,
      "outputs": [
        {
          "name": "stdout",
          "output_type": "stream",
          "text": [
            "what is your car?ford\n"
          ]
        }
      ]
    },
    {
      "cell_type": "code",
      "source": [
        "cars.append(car)"
      ],
      "metadata": {
        "id": "RD-GXakITABl"
      },
      "execution_count": null,
      "outputs": []
    },
    {
      "cell_type": "code",
      "source": [
        "for i in cars:\n",
        "  print(i)"
      ],
      "metadata": {
        "colab": {
          "base_uri": "https://localhost:8080/"
        },
        "id": "eGBvCCBBTAKH",
        "outputId": "fdc43c79-f0d4-4ee3-b17d-02e3f21645da"
      },
      "execution_count": null,
      "outputs": [
        {
          "output_type": "stream",
          "name": "stdout",
          "text": [
            "bmw\n",
            "mercedes\n",
            "audi\n",
            "porsche\n",
            "ford\n"
          ]
        }
      ]
    },
    {
      "cell_type": "code",
      "source": [
        "for x in \"banana\":\n",
        "  print(x)"
      ],
      "metadata": {
        "colab": {
          "base_uri": "https://localhost:8080/"
        },
        "id": "-6I6Y1IUTV3T",
        "outputId": "eb31b28d-13c9-4c68-b211-1238ec0635d2"
      },
      "execution_count": null,
      "outputs": [
        {
          "output_type": "stream",
          "name": "stdout",
          "text": [
            "b\n",
            "a\n",
            "n\n",
            "a\n",
            "n\n",
            "a\n"
          ]
        }
      ]
    },
    {
      "cell_type": "code",
      "source": [
        "b=\"banana\"\n",
        "for x in b:\n",
        "  print(x)"
      ],
      "metadata": {
        "colab": {
          "base_uri": "https://localhost:8080/"
        },
        "id": "TqzWLQpjTxdo",
        "outputId": "3ec80668-e1fd-40cc-97ae-36b45f810211"
      },
      "execution_count": null,
      "outputs": [
        {
          "output_type": "stream",
          "name": "stdout",
          "text": [
            "b\n",
            "a\n",
            "n\n",
            "a\n",
            "n\n",
            "a\n"
          ]
        }
      ]
    },
    {
      "cell_type": "markdown",
      "source": [
        "# The break Statement\n",
        "\n",
        "With the break statement we can stop the loop before it has looped through all the items:"
      ],
      "metadata": {
        "id": "-Ytum8uJQe_H"
      }
    },
    {
      "cell_type": "code",
      "source": [
        "fruits=[\"apple\", \"banana\", \"cherry\"]\n",
        "for x in fruits:\n",
        "  print(x)\n",
        "  if x==\"banana\":\n",
        "    break"
      ],
      "metadata": {
        "colab": {
          "base_uri": "https://localhost:8080/"
        },
        "id": "uFVFipbuUFNz",
        "outputId": "80d7c9d7-6f77-492d-92b2-e86b3fc26103"
      },
      "execution_count": null,
      "outputs": [
        {
          "output_type": "stream",
          "name": "stdout",
          "text": [
            "apple\n",
            "banana\n"
          ]
        }
      ]
    },
    {
      "cell_type": "markdown",
      "source": [
        "# The continue Statement\n",
        "\n",
        "With the continue statement we can stop the current iteration of the loop, and continue with the next"
      ],
      "metadata": {
        "id": "b0SYxrrJQjTx"
      }
    },
    {
      "cell_type": "code",
      "source": [
        "fruits=[\"apple\", \"banana\", \"cherry\"]\n",
        "for x in fruits:\n",
        "  if x==\"banana\":\n",
        "    continue\n",
        "  print(x)"
      ],
      "metadata": {
        "colab": {
          "base_uri": "https://localhost:8080/"
        },
        "id": "jX9EEZARUhOl",
        "outputId": "224cf1c8-15eb-4a57-c326-29b64b00a2ae"
      },
      "execution_count": null,
      "outputs": [
        {
          "output_type": "stream",
          "name": "stdout",
          "text": [
            "apple\n",
            "cherry\n"
          ]
        }
      ]
    },
    {
      "cell_type": "markdown",
      "source": [
        "# The range() Function\n",
        "\n",
        "To loop through a set of code a specified number of times, we can use the range() function. The range() function returns a sequence of numbers, starting from 0 by default, and increments by 1 (by default), and ends at a specified number"
      ],
      "metadata": {
        "id": "3FVHeSRzQpxq"
      }
    },
    {
      "cell_type": "code",
      "source": [
        "for x in range(6):\n",
        "  print(x)"
      ],
      "metadata": {
        "colab": {
          "base_uri": "https://localhost:8080/"
        },
        "id": "Ar1Q2pUhVJmp",
        "outputId": "72117e45-6191-46eb-a528-05326feb0d58"
      },
      "execution_count": null,
      "outputs": [
        {
          "output_type": "stream",
          "name": "stdout",
          "text": [
            "0\n",
            "1\n",
            "2\n",
            "3\n",
            "4\n",
            "5\n"
          ]
        }
      ]
    },
    {
      "cell_type": "code",
      "source": [
        "for x in range(2,6):\n",
        "  print(x)"
      ],
      "metadata": {
        "colab": {
          "base_uri": "https://localhost:8080/"
        },
        "id": "TWm_h6HUVYNX",
        "outputId": "06760628-5933-42f0-d73c-78ef0f18c5b0"
      },
      "execution_count": null,
      "outputs": [
        {
          "output_type": "stream",
          "name": "stdout",
          "text": [
            "2\n",
            "3\n",
            "4\n",
            "5\n"
          ]
        }
      ]
    },
    {
      "cell_type": "code",
      "source": [
        "for x in range(2,30,3):\n",
        "  print(x)"
      ],
      "metadata": {
        "colab": {
          "base_uri": "https://localhost:8080/"
        },
        "id": "L0NQ_0bwVk5N",
        "outputId": "645e77d5-71aa-4bd8-98bd-7b6a999dcb16"
      },
      "execution_count": null,
      "outputs": [
        {
          "output_type": "stream",
          "name": "stdout",
          "text": [
            "2\n",
            "5\n",
            "8\n",
            "11\n",
            "14\n",
            "17\n",
            "20\n",
            "23\n",
            "26\n",
            "29\n"
          ]
        }
      ]
    },
    {
      "cell_type": "markdown",
      "source": [
        "range(start number, stop number, step number 'mesela 3 dersek 3 3 artırır.')"
      ],
      "metadata": {
        "id": "KZJhRwnNVyO6"
      }
    },
    {
      "cell_type": "markdown",
      "source": [
        "# Else in For Loop\n",
        "\n",
        "The else keyword in a for loop specifies a block of code to be executed when the loop is finished\n",
        "\n"
      ],
      "metadata": {
        "id": "VCwj3Hi_QxFv"
      }
    },
    {
      "cell_type": "code",
      "source": [
        "for x in range(6):\n",
        "  print(x)\n",
        "else:\n",
        "  print(\"Finally finished\")"
      ],
      "metadata": {
        "colab": {
          "base_uri": "https://localhost:8080/"
        },
        "id": "3RxIPYyiWE7s",
        "outputId": "aeb61eef-d97f-41fb-a4fa-ead01e15fa87"
      },
      "execution_count": null,
      "outputs": [
        {
          "output_type": "stream",
          "name": "stdout",
          "text": [
            "0\n",
            "1\n",
            "2\n",
            "3\n",
            "4\n",
            "5\n",
            "Finally finished\n"
          ]
        }
      ]
    },
    {
      "cell_type": "markdown",
      "source": [
        "# Nested Loops\n",
        "A nested loop is inside a loop\n",
        "The \"inner loop\" will be executed one time for each iteration of the \"outer loop\"."
      ],
      "metadata": {
        "id": "ISRLblLYQ0pd"
      }
    },
    {
      "cell_type": "code",
      "source": [
        "adj=[\"red\",\"pink\",\"yellow\"]\n",
        "fruits=[\"apple\", \"banana\", \"cherry\"]\n",
        "\n",
        "for x in adj:\n",
        "  for y in fruits:\n",
        "    print(x,y)"
      ],
      "metadata": {
        "colab": {
          "base_uri": "https://localhost:8080/"
        },
        "id": "AKVg6ThJWmoB",
        "outputId": "243ae797-8f6d-446e-e0e8-424647b2d78c"
      },
      "execution_count": null,
      "outputs": [
        {
          "output_type": "stream",
          "name": "stdout",
          "text": [
            "red apple\n",
            "red banana\n",
            "red cherry\n",
            "pink apple\n",
            "pink banana\n",
            "pink cherry\n",
            "yellow apple\n",
            "yellow banana\n",
            "yellow cherry\n"
          ]
        }
      ]
    },
    {
      "cell_type": "markdown",
      "source": [
        "# The pass Statement\n",
        "for loops cannot be empty, but if you for some reason have a for loop with no content, put in the pass statements to avoid getting an error."
      ],
      "metadata": {
        "id": "-xzPG4RRVLCy"
      }
    },
    {
      "cell_type": "code",
      "source": [
        "for i in [0,1,2]:\n",
        "  pass"
      ],
      "metadata": {
        "id": "IYexKb6kXWtW"
      },
      "execution_count": null,
      "outputs": []
    },
    {
      "cell_type": "code",
      "source": [
        "numbers=[1,2,3]\n",
        "for x in numbers:\n",
        "  #other devoloper will write here\n",
        "  pass"
      ],
      "metadata": {
        "id": "xkNgM592XqSD"
      },
      "execution_count": null,
      "outputs": []
    },
    {
      "cell_type": "code",
      "source": [
        "for y in fruits:\n",
        "  pass"
      ],
      "metadata": {
        "id": "txeMRkwnYHpc"
      },
      "execution_count": null,
      "outputs": []
    },
    {
      "cell_type": "markdown",
      "source": [
        "WORKING WITH LISTS"
      ],
      "metadata": {
        "id": "JCRTacqeYOIc"
      }
    }
  ]
}