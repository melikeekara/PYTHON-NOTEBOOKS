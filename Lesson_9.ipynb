{
  "nbformat": 4,
  "nbformat_minor": 0,
  "metadata": {
    "colab": {
      "provenance": [],
      "authorship_tag": "ABX9TyNu/4fLhqcEqqSiF0YL8InB",
      "include_colab_link": true
    },
    "kernelspec": {
      "name": "python3",
      "display_name": "Python 3"
    },
    "language_info": {
      "name": "python"
    }
  },
  "cells": [
    {
      "cell_type": "markdown",
      "metadata": {
        "id": "view-in-github",
        "colab_type": "text"
      },
      "source": [
        "<a href=\"https://colab.research.google.com/github/melikeekara/PYTHON-NOTEBOOKS/blob/main/Lesson_9.ipynb\" target=\"_parent\"><img src=\"https://colab.research.google.com/assets/colab-badge.svg\" alt=\"Open In Colab\"/></a>"
      ]
    },
    {
      "cell_type": "markdown",
      "source": [
        "# Overriding"
      ],
      "metadata": {
        "id": "0XpZ6aL1dJ4w"
      }
    },
    {
      "cell_type": "markdown",
      "source": [
        " **Üzerine Yazma-Öncekini İptal Etme)\n",
        "Eğer alt sınıfta ana sınıftan metotları aynı isimde tanımlarsak alt sınıftaki üst sınıftakini iptal eder ve alt sınıftaki aktif olur.**  **Method*  overriding is an ability of any object-oriented programming language that allows a subclass or child class to provide a specific implementation of a method that is already provided by one of its super-classes or parent classes. When a method in a subclass has the same name, same parameters or signature and same return type(or sub-type) as a method in its super-class, then the method in the subclass is said to override the method in the super-class.\n",
        "![image.png](data:image/png;base64,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)"
      ],
      "metadata": {
        "id": "mWefYtTXdPax"
      }
    },
    {
      "cell_type": "code",
      "source": [
        "class Animal:\n",
        "  #constructor\n",
        "  def __init__(self,data):\n",
        "    self.data=data\n",
        "    print(self.data, \"Animal parent class is created\")\n",
        "\n",
        "  def move(self):\n",
        "    print(self.data, \" can move\")\n",
        "\n",
        "  def eat(self):\n",
        "    print(self.data, \" can eat\")"
      ],
      "metadata": {
        "id": "P8fLI46SdrL_"
      },
      "execution_count": null,
      "outputs": []
    },
    {
      "cell_type": "code",
      "source": [
        "class Dog(Animal):\n",
        "  def __init__(self):\n",
        "    print(\"Dog clas created\")\n",
        "\n",
        "  def move(self):\n",
        "    print(\"Dog can move\")\n",
        "\n",
        "  def bark(self):\n",
        "    print(\"Dog can bark\")\n"
      ],
      "metadata": {
        "id": "jxenKBGifk37"
      },
      "execution_count": null,
      "outputs": []
    },
    {
      "cell_type": "code",
      "source": [
        "animal=Animal(\"Cat\")"
      ],
      "metadata": {
        "colab": {
          "base_uri": "https://localhost:8080/"
        },
        "id": "WInRg02_hMbo",
        "outputId": "5f792835-ae82-4091-fcfd-c4ed37851eec"
      },
      "execution_count": null,
      "outputs": [
        {
          "output_type": "stream",
          "name": "stdout",
          "text": [
            "Cat Animal parent class is created\n"
          ]
        }
      ]
    },
    {
      "cell_type": "code",
      "source": [
        "animal.move()"
      ],
      "metadata": {
        "colab": {
          "base_uri": "https://localhost:8080/"
        },
        "id": "v_RYCsz8imFu",
        "outputId": "b880d3f4-94e9-4b06-d842-18240e17ed21"
      },
      "execution_count": null,
      "outputs": [
        {
          "output_type": "stream",
          "name": "stdout",
          "text": [
            "Cat  can move\n"
          ]
        }
      ]
    },
    {
      "cell_type": "code",
      "source": [
        "animal.data"
      ],
      "metadata": {
        "colab": {
          "base_uri": "https://localhost:8080/",
          "height": 36
        },
        "id": "CqVv_rbKiUVX",
        "outputId": "fdabc2ab-268c-4535-83d4-6d104e3cc44c"
      },
      "execution_count": null,
      "outputs": [
        {
          "output_type": "execute_result",
          "data": {
            "text/plain": [
              "'Cat'"
            ],
            "application/vnd.google.colaboratory.intrinsic+json": {
              "type": "string"
            }
          },
          "metadata": {},
          "execution_count": 8
        }
      ]
    },
    {
      "cell_type": "code",
      "source": [
        "animal.eat()"
      ],
      "metadata": {
        "colab": {
          "base_uri": "https://localhost:8080/"
        },
        "id": "ZzdFIYkuiUaD",
        "outputId": "2f192b53-138d-476d-9f21-7c43b9dcd15e"
      },
      "execution_count": null,
      "outputs": [
        {
          "output_type": "stream",
          "name": "stdout",
          "text": [
            "Cat  can eat\n"
          ]
        }
      ]
    },
    {
      "cell_type": "code",
      "source": [
        "dog=Dog()"
      ],
      "metadata": {
        "colab": {
          "base_uri": "https://localhost:8080/"
        },
        "id": "yK86zy07iUdr",
        "outputId": "2281e0b5-ec7f-4509-f82b-1fdd4e2b8950"
      },
      "execution_count": null,
      "outputs": [
        {
          "output_type": "stream",
          "name": "stdout",
          "text": [
            "Dog clas created\n"
          ]
        }
      ]
    },
    {
      "cell_type": "code",
      "source": [
        "dog.bark()"
      ],
      "metadata": {
        "colab": {
          "base_uri": "https://localhost:8080/"
        },
        "id": "73w5HaYiiU3z",
        "outputId": "b2748d38-ad9d-45aa-94b2-22144e15cbce"
      },
      "execution_count": null,
      "outputs": [
        {
          "output_type": "stream",
          "name": "stdout",
          "text": [
            "Dog can bark\n"
          ]
        }
      ]
    },
    {
      "cell_type": "code",
      "source": [
        "dog.eat()"
      ],
      "metadata": {
        "colab": {
          "base_uri": "https://localhost:8080/",
          "height": 252
        },
        "id": "3HMtSP5hiU_5",
        "outputId": "68c57a29-c0a0-4f27-953a-ff5be41cf875"
      },
      "execution_count": null,
      "outputs": [
        {
          "output_type": "error",
          "ename": "AttributeError",
          "evalue": "ignored",
          "traceback": [
            "\u001b[0;31m---------------------------------------------------------------------------\u001b[0m",
            "\u001b[0;31mAttributeError\u001b[0m                            Traceback (most recent call last)",
            "\u001b[0;32m<ipython-input-12-5d53a4120c20>\u001b[0m in \u001b[0;36m<cell line: 1>\u001b[0;34m()\u001b[0m\n\u001b[0;32m----> 1\u001b[0;31m \u001b[0mdog\u001b[0m\u001b[0;34m.\u001b[0m\u001b[0meat\u001b[0m\u001b[0;34m(\u001b[0m\u001b[0;34m)\u001b[0m\u001b[0;34m\u001b[0m\u001b[0;34m\u001b[0m\u001b[0m\n\u001b[0m",
            "\u001b[0;32m<ipython-input-4-7db76f73be62>\u001b[0m in \u001b[0;36meat\u001b[0;34m(self)\u001b[0m\n\u001b[1;32m      9\u001b[0m \u001b[0;34m\u001b[0m\u001b[0m\n\u001b[1;32m     10\u001b[0m   \u001b[0;32mdef\u001b[0m \u001b[0meat\u001b[0m\u001b[0;34m(\u001b[0m\u001b[0mself\u001b[0m\u001b[0;34m)\u001b[0m\u001b[0;34m:\u001b[0m\u001b[0;34m\u001b[0m\u001b[0;34m\u001b[0m\u001b[0m\n\u001b[0;32m---> 11\u001b[0;31m     \u001b[0mprint\u001b[0m\u001b[0;34m(\u001b[0m\u001b[0mself\u001b[0m\u001b[0;34m.\u001b[0m\u001b[0mdata\u001b[0m\u001b[0;34m,\u001b[0m \u001b[0;34m\" can eat\"\u001b[0m\u001b[0;34m)\u001b[0m\u001b[0;34m\u001b[0m\u001b[0;34m\u001b[0m\u001b[0m\n\u001b[0m",
            "\u001b[0;31mAttributeError\u001b[0m: 'Dog' object has no attribute 'data'"
          ]
        }
      ]
    },
    {
      "cell_type": "code",
      "source": [
        "dog.move()"
      ],
      "metadata": {
        "colab": {
          "base_uri": "https://localhost:8080/"
        },
        "id": "E1DTjd7njoLY",
        "outputId": "761d5bce-8e61-4795-d3a6-1935bd72ff0b"
      },
      "execution_count": null,
      "outputs": [
        {
          "output_type": "stream",
          "name": "stdout",
          "text": [
            "Dog can move\n"
          ]
        }
      ]
    },
    {
      "cell_type": "code",
      "source": [
        "dog.eat()"
      ],
      "metadata": {
        "colab": {
          "base_uri": "https://localhost:8080/",
          "height": 252
        },
        "id": "sNWodhuIjoOo",
        "outputId": "d3728078-8e36-4bab-d4a7-1dd215c76b01"
      },
      "execution_count": null,
      "outputs": [
        {
          "output_type": "error",
          "ename": "AttributeError",
          "evalue": "ignored",
          "traceback": [
            "\u001b[0;31m---------------------------------------------------------------------------\u001b[0m",
            "\u001b[0;31mAttributeError\u001b[0m                            Traceback (most recent call last)",
            "\u001b[0;32m<ipython-input-14-5d53a4120c20>\u001b[0m in \u001b[0;36m<cell line: 1>\u001b[0;34m()\u001b[0m\n\u001b[0;32m----> 1\u001b[0;31m \u001b[0mdog\u001b[0m\u001b[0;34m.\u001b[0m\u001b[0meat\u001b[0m\u001b[0;34m(\u001b[0m\u001b[0;34m)\u001b[0m\u001b[0;34m\u001b[0m\u001b[0;34m\u001b[0m\u001b[0m\n\u001b[0m",
            "\u001b[0;32m<ipython-input-4-7db76f73be62>\u001b[0m in \u001b[0;36meat\u001b[0;34m(self)\u001b[0m\n\u001b[1;32m      9\u001b[0m \u001b[0;34m\u001b[0m\u001b[0m\n\u001b[1;32m     10\u001b[0m   \u001b[0;32mdef\u001b[0m \u001b[0meat\u001b[0m\u001b[0;34m(\u001b[0m\u001b[0mself\u001b[0m\u001b[0;34m)\u001b[0m\u001b[0;34m:\u001b[0m\u001b[0;34m\u001b[0m\u001b[0;34m\u001b[0m\u001b[0m\n\u001b[0;32m---> 11\u001b[0;31m     \u001b[0mprint\u001b[0m\u001b[0;34m(\u001b[0m\u001b[0mself\u001b[0m\u001b[0;34m.\u001b[0m\u001b[0mdata\u001b[0m\u001b[0;34m,\u001b[0m \u001b[0;34m\" can eat\"\u001b[0m\u001b[0;34m)\u001b[0m\u001b[0;34m\u001b[0m\u001b[0;34m\u001b[0m\u001b[0m\n\u001b[0m",
            "\u001b[0;31mAttributeError\u001b[0m: 'Dog' object has no attribute 'data'"
          ]
        }
      ]
    },
    {
      "cell_type": "code",
      "source": [
        "dog.move()"
      ],
      "metadata": {
        "colab": {
          "base_uri": "https://localhost:8080/"
        },
        "id": "uqP28NAFj3ya",
        "outputId": "f8de778d-f7bf-4ac0-a4fe-927cf85b58f3"
      },
      "execution_count": null,
      "outputs": [
        {
          "output_type": "stream",
          "name": "stdout",
          "text": [
            "Dog can move\n"
          ]
        }
      ]
    },
    {
      "cell_type": "markdown",
      "source": [
        "# New Class"
      ],
      "metadata": {
        "id": "VvDv02tNlTFi"
      }
    },
    {
      "cell_type": "code",
      "source": [
        "class Parent:\n",
        "  #constructor\n",
        "  \n",
        "  def __init__(self):\n",
        "    self.value=\"Inside Parent\"\n",
        "\n",
        "  def show(self):\n",
        "    print(self.value)\n",
        "\n",
        "class Child(Parent):\n",
        "  def __init__(self):\n",
        "    self.value=\"Insıde Child\"\n",
        "\n",
        "  def show(self):\n",
        "    print(self.value)"
      ],
      "metadata": {
        "id": "QlIrFUP2j32g"
      },
      "execution_count": 2,
      "outputs": []
    },
    {
      "cell_type": "code",
      "source": [
        "obj=Parent()"
      ],
      "metadata": {
        "id": "bCOzUQ_dj36O"
      },
      "execution_count": 3,
      "outputs": []
    },
    {
      "cell_type": "code",
      "source": [
        "obj.value"
      ],
      "metadata": {
        "id": "Jo2KnxHHj392",
        "colab": {
          "base_uri": "https://localhost:8080/",
          "height": 36
        },
        "outputId": "3e56e81b-250c-4582-8947-2cb515ce52cb"
      },
      "execution_count": 4,
      "outputs": [
        {
          "output_type": "execute_result",
          "data": {
            "text/plain": [
              "'Inside Parent'"
            ],
            "application/vnd.google.colaboratory.intrinsic+json": {
              "type": "string"
            }
          },
          "metadata": {},
          "execution_count": 4
        }
      ]
    },
    {
      "cell_type": "code",
      "source": [
        "obj.show()"
      ],
      "metadata": {
        "id": "YiOV8sNhjoRf",
        "colab": {
          "base_uri": "https://localhost:8080/"
        },
        "outputId": "fbcd0318-8127-435a-b2d3-cac1b63cf15f"
      },
      "execution_count": 6,
      "outputs": [
        {
          "output_type": "stream",
          "name": "stdout",
          "text": [
            "Inside Parent\n"
          ]
        }
      ]
    },
    {
      "cell_type": "code",
      "source": [
        "obj2=Child()"
      ],
      "metadata": {
        "id": "AttqykO1M7f6"
      },
      "execution_count": 7,
      "outputs": []
    },
    {
      "cell_type": "code",
      "source": [
        "obj2.show()"
      ],
      "metadata": {
        "colab": {
          "base_uri": "https://localhost:8080/"
        },
        "id": "NRu1Gu7ONFef",
        "outputId": "cf58ec09-ab36-4b62-a637-39bcc47bec07"
      },
      "execution_count": 8,
      "outputs": [
        {
          "output_type": "stream",
          "name": "stdout",
          "text": [
            "Insıde Child\n"
          ]
        }
      ]
    },
    {
      "cell_type": "markdown",
      "source": [
        "we overrriding metho!!!"
      ],
      "metadata": {
        "id": "MTj4AZT8NKO3"
      }
    },
    {
      "cell_type": "code",
      "source": [
        "obj.show()\n",
        "obj2.show()"
      ],
      "metadata": {
        "colab": {
          "base_uri": "https://localhost:8080/"
        },
        "id": "nvlP6yANNFhi",
        "outputId": "167a8519-406b-439d-c3c6-14af9645130a"
      },
      "execution_count": 9,
      "outputs": [
        {
          "output_type": "stream",
          "name": "stdout",
          "text": [
            "Inside Parent\n",
            "Insıde Child\n"
          ]
        }
      ]
    },
    {
      "cell_type": "markdown",
      "source": [
        "New Class"
      ],
      "metadata": {
        "id": "JbAocCNQNUgZ"
      }
    },
    {
      "cell_type": "code",
      "source": [
        "class Animal:\n",
        "\n",
        "  def toString(self):\n",
        "    print(\"animal\")\n",
        "\n",
        "class Monkey(Animal):\n",
        "\n",
        "  def toString(self):\n",
        "    print(\"monkey\")"
      ],
      "metadata": {
        "id": "I0158zEVNFkc"
      },
      "execution_count": 10,
      "outputs": []
    },
    {
      "cell_type": "code",
      "source": [
        "obj1=Animal()\n",
        "obj2=Monkey()"
      ],
      "metadata": {
        "id": "UYYIh57ANFnL"
      },
      "execution_count": 11,
      "outputs": []
    },
    {
      "cell_type": "code",
      "source": [
        "obj1.toString()\n",
        "obj2.toString()"
      ],
      "metadata": {
        "colab": {
          "base_uri": "https://localhost:8080/"
        },
        "id": "4S1a3_7rNFqF",
        "outputId": "95c69833-90c1-4d17-b037-e4233b75a163"
      },
      "execution_count": 12,
      "outputs": [
        {
          "output_type": "stream",
          "name": "stdout",
          "text": [
            "animal\n",
            "monkey\n"
          ]
        }
      ]
    },
    {
      "cell_type": "markdown",
      "source": [
        "New Class"
      ],
      "metadata": {
        "id": "c9yBBFJOOKZt"
      }
    },
    {
      "cell_type": "code",
      "source": [
        "class Parent:\n",
        "  #Parent's show method\n",
        "  def display(self):\n",
        "    print(\"Inside parent\")\n",
        "\n",
        "#Inherited or Subclass\n",
        "class Child(Parent):\n",
        "  #Child's class show method\n",
        "  def show(self):\n",
        "    print(\"Inside Child\")\n",
        "\n",
        "#Inherited or Subclass\n",
        "class GrandChild(Child):\n",
        "  #chils's show method\n",
        "  def show(self):\n",
        "    print(\"Inside GrandChild\")\n"
      ],
      "metadata": {
        "id": "JGJkH1bfNFsZ"
      },
      "execution_count": 14,
      "outputs": []
    },
    {
      "cell_type": "code",
      "source": [
        "obj1=GrandChild()"
      ],
      "metadata": {
        "id": "xs7M7BLFOL9G"
      },
      "execution_count": 15,
      "outputs": []
    },
    {
      "cell_type": "code",
      "source": [
        "obj1.display()"
      ],
      "metadata": {
        "colab": {
          "base_uri": "https://localhost:8080/"
        },
        "id": "xBtsyWbtOMAH",
        "outputId": "329e83e8-8636-4ad2-bc26-654a160614fa"
      },
      "execution_count": 16,
      "outputs": [
        {
          "output_type": "stream",
          "name": "stdout",
          "text": [
            "Inside parent\n"
          ]
        }
      ]
    },
    {
      "cell_type": "code",
      "source": [
        "obj1.show()"
      ],
      "metadata": {
        "colab": {
          "base_uri": "https://localhost:8080/"
        },
        "id": "fQnixwXxOMC0",
        "outputId": "d2f6b75d-132b-4668-aa06-9f5ddcac00b9"
      },
      "execution_count": 17,
      "outputs": [
        {
          "output_type": "stream",
          "name": "stdout",
          "text": [
            "Inside GrandChild\n"
          ]
        }
      ]
    },
    {
      "cell_type": "markdown",
      "source": [
        "New Class"
      ],
      "metadata": {
        "id": "111faDJ8PosF"
      }
    },
    {
      "cell_type": "code",
      "source": [
        "class Parent:\n",
        "  #constructor\n",
        "  def __init__(self):\n",
        "    self.value=5\n",
        "\n",
        "  def get_value(self):\n",
        "    return self.value\n",
        "\n",
        "class Child(Parent):\n",
        "  def get_value(self):\n",
        "    return self.value+1\n"
      ],
      "metadata": {
        "id": "1c8cl78xPNen"
      },
      "execution_count": 18,
      "outputs": []
    },
    {
      "cell_type": "code",
      "source": [
        "obj=Child()"
      ],
      "metadata": {
        "id": "guPvEPJOOMFd"
      },
      "execution_count": 19,
      "outputs": []
    },
    {
      "cell_type": "code",
      "source": [
        "obj.get_value()"
      ],
      "metadata": {
        "colab": {
          "base_uri": "https://localhost:8080/"
        },
        "id": "MOtWAB0aQIWc",
        "outputId": "71c91058-b736-40a7-fce8-7527866399d7"
      },
      "execution_count": 21,
      "outputs": [
        {
          "output_type": "execute_result",
          "data": {
            "text/plain": [
              "6"
            ]
          },
          "metadata": {},
          "execution_count": 21
        }
      ]
    },
    {
      "cell_type": "markdown",
      "source": [
        "New Class"
      ],
      "metadata": {
        "id": "OASGOxZvQS4_"
      }
    },
    {
      "cell_type": "code",
      "source": [
        "import datetime\n",
        "\n",
        "class Logger:\n",
        "  def log(self,message):\n",
        "    print(message)\n",
        "\n",
        "class TimetampLogger(Logger):\n",
        "  def log(self,message):\n",
        "    message=\"{ts} {msg}\".format(ts=datetime.datetime.now().isoformat(),msg=message)\n",
        "    print(message)"
      ],
      "metadata": {
        "id": "JcrYdsgrQIZW"
      },
      "execution_count": 23,
      "outputs": []
    },
    {
      "cell_type": "code",
      "source": [
        "obj=Logger()"
      ],
      "metadata": {
        "id": "UqfbBsHQQIb7"
      },
      "execution_count": 25,
      "outputs": []
    },
    {
      "cell_type": "code",
      "source": [
        "obj.log(\"Overriding\")"
      ],
      "metadata": {
        "colab": {
          "base_uri": "https://localhost:8080/"
        },
        "id": "3y8l30TvQIex",
        "outputId": "87776fa9-1ac9-43fd-a64c-e87c5b41bdeb"
      },
      "execution_count": 26,
      "outputs": [
        {
          "output_type": "stream",
          "name": "stdout",
          "text": [
            "Overriding\n"
          ]
        }
      ]
    },
    {
      "cell_type": "code",
      "source": [
        "obj2=TimetampLogger()"
      ],
      "metadata": {
        "id": "reeXznJoQIhb"
      },
      "execution_count": 27,
      "outputs": []
    },
    {
      "cell_type": "code",
      "source": [
        "obj2.log(\"Overriding\")"
      ],
      "metadata": {
        "colab": {
          "base_uri": "https://localhost:8080/"
        },
        "id": "c6CKXq1kOMIE",
        "outputId": "207b5624-888e-4965-d20d-69f6ad900b9e"
      },
      "execution_count": 28,
      "outputs": [
        {
          "output_type": "stream",
          "name": "stdout",
          "text": [
            "2023-05-01T07:46:36.571900 Overriding\n"
          ]
        }
      ]
    },
    {
      "cell_type": "markdown",
      "source": [
        "# Abstraction\n",
        "\n",
        "An abstract class can be considered as a blueprint for other classes. It allows you to create a set of methods that must be created within any child classes built from the abstract class. A class which contains one or more abstract methods is called an abstract class. An abstract method is a method that has a declaration but **does not have an implementation.** While we are designing large functional units we use an abstract class. When we want to provide a common interface for different implementations of a component, we use an abstract class.\n",
        "\n",
        "How Abstract Base classes work : By default, Python does not provide abstract classes. Python comes with a module that provides the base for defining Abstract Base classes(ABC) and that module name is ABC. ABC works by decorating methods of the base class as abstract and then registering concrete classes as implementations of the abstract base. A method becomes abstract when decorated with the keyword @abstractmethod."
      ],
      "metadata": {
        "id": "wBFmNJJsR7Jr"
      }
    },
    {
      "cell_type": "markdown",
      "source": [
        "New Class"
      ],
      "metadata": {
        "id": "wxsoM0xWSvVr"
      }
    },
    {
      "cell_type": "code",
      "source": [
        "from abc import ABC,abstractmethod\n",
        "\n",
        "class Polygon(ABC):\n",
        "  @abstractmethod\n",
        "  def numberofsides(self):\n",
        "    pass"
      ],
      "metadata": {
        "id": "12YD--b6R1bq"
      },
      "execution_count": 44,
      "outputs": []
    },
    {
      "cell_type": "code",
      "source": [
        "class Triangle(Polygon):\n",
        "  def numberofsides(self):\n",
        "    print(\"3 sides \")"
      ],
      "metadata": {
        "id": "5kPfLbYsShio"
      },
      "execution_count": 45,
      "outputs": []
    },
    {
      "cell_type": "code",
      "source": [
        "class  Hexagon(Polygon):\n",
        "  #Overriding abstract method\n",
        "  def numberofsides(self):\n",
        "    print(\"I have 6 sides\")\n",
        "    "
      ],
      "metadata": {
        "id": "YyUtQRJIShld"
      },
      "execution_count": 46,
      "outputs": []
    },
    {
      "cell_type": "code",
      "source": [
        "class Quadrilateral(Polygon):\n",
        "  #overriding abstarct method\n",
        "  def numberofsides(self):\n",
        "    print(\"I have 4 sides\")\n"
      ],
      "metadata": {
        "id": "RWpZJ4mYShoQ"
      },
      "execution_count": 47,
      "outputs": []
    },
    {
      "cell_type": "code",
      "source": [
        "class Pentagon(Polygon):\n",
        "  #overriding abstarct method\n",
        "  def numberofsides(self):\n",
        "    print(\"I have5 sides\")"
      ],
      "metadata": {
        "id": "6dpXmIzwYRhs"
      },
      "execution_count": 48,
      "outputs": []
    },
    {
      "cell_type": "code",
      "source": [
        "obj=Triangle()"
      ],
      "metadata": {
        "id": "0LkzCm5GYRkd"
      },
      "execution_count": 49,
      "outputs": []
    },
    {
      "cell_type": "code",
      "source": [
        "obj.numberofsides()"
      ],
      "metadata": {
        "colab": {
          "base_uri": "https://localhost:8080/"
        },
        "id": "Q7ySqiLLShrT",
        "outputId": "c8165b4b-048b-4d6c-cafe-97a89be2cf8d"
      },
      "execution_count": 50,
      "outputs": [
        {
          "output_type": "stream",
          "name": "stdout",
          "text": [
            "3 sides \n"
          ]
        }
      ]
    },
    {
      "cell_type": "code",
      "source": [
        "obj2=Quadrilateral()"
      ],
      "metadata": {
        "id": "4XCTOBkKZDUE"
      },
      "execution_count": 52,
      "outputs": []
    },
    {
      "cell_type": "code",
      "source": [
        "obj2.numberofsides()"
      ],
      "metadata": {
        "colab": {
          "base_uri": "https://localhost:8080/"
        },
        "id": "a3y_wOdSZIxp",
        "outputId": "b114add3-d999-4783-a66d-7128c65db672"
      },
      "execution_count": 53,
      "outputs": [
        {
          "output_type": "stream",
          "name": "stdout",
          "text": [
            "I have 4 sides\n"
          ]
        }
      ]
    },
    {
      "cell_type": "code",
      "source": [
        "obj3=Pentagon()"
      ],
      "metadata": {
        "id": "5wHa9bGKZI0Z"
      },
      "execution_count": 54,
      "outputs": []
    },
    {
      "cell_type": "code",
      "source": [
        "obj3.numberofsides()"
      ],
      "metadata": {
        "colab": {
          "base_uri": "https://localhost:8080/"
        },
        "id": "X_hPOaxMZQsa",
        "outputId": "0da3de48-dee1-4a97-fb5c-ce84da97864c"
      },
      "execution_count": 55,
      "outputs": [
        {
          "output_type": "stream",
          "name": "stdout",
          "text": [
            "I have5 sides\n"
          ]
        }
      ]
    }
  ]
}