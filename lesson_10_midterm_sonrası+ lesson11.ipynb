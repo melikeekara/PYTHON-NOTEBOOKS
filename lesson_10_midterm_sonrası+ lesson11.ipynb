{
  "nbformat": 4,
  "nbformat_minor": 0,
  "metadata": {
    "colab": {
      "provenance": [],
      "authorship_tag": "ABX9TyNK1atikyrNwtdJrlkNPHm0",
      "include_colab_link": true
    },
    "kernelspec": {
      "name": "python3",
      "display_name": "Python 3"
    },
    "language_info": {
      "name": "python"
    }
  },
  "cells": [
    {
      "cell_type": "markdown",
      "metadata": {
        "id": "view-in-github",
        "colab_type": "text"
      },
      "source": [
        "<a href=\"https://colab.research.google.com/github/melikeekara/PYTHON-NOTEBOOKS/blob/main/lesson_10_midterm_sonras%C4%B1%2B%20lesson11.ipynb\" target=\"_parent\"><img src=\"https://colab.research.google.com/assets/colab-badge.svg\" alt=\"Open In Colab\"/></a>"
      ]
    },
    {
      "cell_type": "markdown",
      "source": [
        "# FILES AND EXCEPTIONS"
      ],
      "metadata": {
        "id": "JifRYmfzwZ2s"
      }
    },
    {
      "cell_type": "markdown",
      "source": [
        "**Reading from a File**"
      ],
      "metadata": {
        "id": "TB8Hrm9Xwgkg"
      }
    },
    {
      "cell_type": "markdown",
      "source": [
        "To begin, we need a file with a few lines of text in it. Let's start with a file that contains pi to 30 decimal places, with 10 decimal places per line:/pi_digit.txt"
      ],
      "metadata": {
        "id": "kA7HjmIlwp3d"
      }
    },
    {
      "cell_type": "code",
      "source": [
        "with open(\"/pi_digit.txt\") as file_object:\n",
        "  contents=file_object.read()\n",
        "  print(contents)\n"
      ],
      "metadata": {
        "colab": {
          "base_uri": "https://localhost:8080/"
        },
        "id": "cvBS5uEDwpEs",
        "outputId": "7da8a800-c7a3-46c1-99e8-7f96d7412e77"
      },
      "execution_count": null,
      "outputs": [
        {
          "output_type": "stream",
          "name": "stdout",
          "text": [
            "3.1415926535\n",
            "8979323846\n",
            "2643383279\n"
          ]
        }
      ]
    },
    {
      "cell_type": "markdown",
      "source": [
        "**Reading Line by Line**"
      ],
      "metadata": {
        "id": "_zfPE_Kwyvic"
      }
    },
    {
      "cell_type": "code",
      "source": [
        "filename=\"/pi_digit.txt\"\n",
        "with open(filename) as file_object:\n",
        "  for line in file_object:\n",
        "    print(line)"
      ],
      "metadata": {
        "colab": {
          "base_uri": "https://localhost:8080/"
        },
        "id": "gAjhbiF_yi5z",
        "outputId": "9174d72b-5d76-4122-98c5-115a2dec333d"
      },
      "execution_count": null,
      "outputs": [
        {
          "output_type": "stream",
          "name": "stdout",
          "text": [
            "3.1415926535\n",
            "\n",
            "8979323846\n",
            "\n",
            "2643383279\n"
          ]
        }
      ]
    },
    {
      "cell_type": "code",
      "source": [
        "filename=\"/pi_digit.txt\"\n",
        "with open(filename) as file_object:\n",
        "  for line in file_object:\n",
        "    print(line.rstrip())"
      ],
      "metadata": {
        "colab": {
          "base_uri": "https://localhost:8080/"
        },
        "id": "lrdbGyF1yjNu",
        "outputId": "bb95be62-35e9-4d6b-8f6d-0b9bf5bad57a"
      },
      "execution_count": null,
      "outputs": [
        {
          "output_type": "stream",
          "name": "stdout",
          "text": [
            "3.1415926535\n",
            "8979323846\n",
            "2643383279\n"
          ]
        }
      ]
    },
    {
      "cell_type": "markdown",
      "source": [
        "Recall that Python's rstrip() method removes any whitespace characters from right side."
      ],
      "metadata": {
        "id": "mHEJW3pdzhye"
      }
    },
    {
      "cell_type": "markdown",
      "source": [
        "# Making a List of lines from a File"
      ],
      "metadata": {
        "id": "eoZK8mJMz2OR"
      }
    },
    {
      "cell_type": "code",
      "source": [
        "filename=\"/pi_digit.txt\"\n",
        "with open(filename) as file_object:\n",
        "  lines=file_object.readlines()\n",
        "for line in lines:\n",
        "  print(line.rstrip())"
      ],
      "metadata": {
        "colab": {
          "base_uri": "https://localhost:8080/"
        },
        "id": "vP8Dymu5yjQ0",
        "outputId": "d18c93d7-5dd2-4e39-8554-211efc66a7cb"
      },
      "execution_count": null,
      "outputs": [
        {
          "output_type": "stream",
          "name": "stdout",
          "text": [
            "3.1415926535\n",
            "8979323846\n",
            "2643383279\n"
          ]
        }
      ]
    },
    {
      "cell_type": "markdown",
      "source": [
        "**Making a List of Lines from a File**"
      ],
      "metadata": {
        "id": "jyUHvvwy0hMe"
      }
    },
    {
      "cell_type": "code",
      "source": [
        "filename=\"/pi_digit.txt\"\n",
        "with open(filename) as file_object:\n",
        "  lines=file_object.readlines()\n",
        "for line in lines:\n",
        "  print(line.rstrip())"
      ],
      "metadata": {
        "colab": {
          "base_uri": "https://localhost:8080/"
        },
        "id": "OzVLT9iDyjTs",
        "outputId": "6206f315-31db-455c-89ad-7c133d4bb588"
      },
      "execution_count": null,
      "outputs": [
        {
          "output_type": "stream",
          "name": "stdout",
          "text": [
            "3.1415926535\n",
            "8979323846\n",
            "2643383279\n"
          ]
        }
      ]
    },
    {
      "cell_type": "markdown",
      "source": [
        "**Working with a File's Contents**"
      ],
      "metadata": {
        "id": "asVPREq_08YD"
      }
    },
    {
      "cell_type": "code",
      "source": [
        "filename=\"/pi_digit.txt\"\n",
        "with open(filename) as file_object:\n",
        "  lines=file_object.readlines()\n",
        "  pi_string=\"\"\n",
        "for line in lines:\n",
        "  pi_string+=line.rstrip()\n",
        "  print(pi_string)\n",
        "  print(len(pi_string))\n"
      ],
      "metadata": {
        "colab": {
          "base_uri": "https://localhost:8080/"
        },
        "id": "3-sSTMNwyjXH",
        "outputId": "b26d32d4-1874-4023-d7c7-5337e318e5ea"
      },
      "execution_count": null,
      "outputs": [
        {
          "output_type": "stream",
          "name": "stdout",
          "text": [
            "3.1415926535\n",
            "12\n",
            "3.14159265358979323846\n",
            "22\n",
            "3.141592653589793238462643383279\n",
            "32\n"
          ]
        }
      ]
    },
    {
      "cell_type": "markdown",
      "source": [
        "**Large Files: One Million Digits**"
      ],
      "metadata": {
        "id": "7uAqdXxa1pAc"
      }
    },
    {
      "cell_type": "code",
      "source": [
        "filename=\"/pi_million_digits.txt\"\n",
        "\n",
        "with open(filename) as file_object:\n",
        "  lines=file_object.readlines()\n",
        "\n",
        "pi_string=\"\"\n",
        "for line in lines:\n",
        "  pi_string +=line.rstrip()\n",
        "print(f\"{pi_string[:25]}\")\n",
        "print(len(pi_string))"
      ],
      "metadata": {
        "colab": {
          "base_uri": "https://localhost:8080/"
        },
        "id": "2vdiliHV1u4K",
        "outputId": "c70b6885-49aa-4e80-ccd9-7d03c3f52aa0"
      },
      "execution_count": null,
      "outputs": [
        {
          "output_type": "stream",
          "name": "stdout",
          "text": [
            "3.14159265358979323846264\n",
            "1020000\n"
          ]
        }
      ]
    },
    {
      "cell_type": "markdown",
      "source": [
        "**Is Your Birthday Contained in Pi?**"
      ],
      "metadata": {
        "id": "pgkbq0oW9yVZ"
      }
    },
    {
      "cell_type": "code",
      "source": [
        "filename=\"/pi_million_digits.txt\"\n",
        "with open(filename) as file_object:\n",
        "  lines=file_object.readlines()\n",
        "\n",
        "pi_string=\"\"\n",
        "for line in lines:\n",
        "  pi_string+=line.rstrip()\n",
        "\n",
        "birthday=input(\"Enter you birthday, in the from mmddyy: \")\n",
        "if birthday in pi_string:\n",
        "  print(\"Your birthday appears in the first million digits of pi \")\n",
        "else:\n",
        "  print(\"Your birthday does not appear in the first million digits of pi\")\n"
      ],
      "metadata": {
        "colab": {
          "base_uri": "https://localhost:8080/"
        },
        "id": "Tcib9enQ9xqC",
        "outputId": "5a5ef770-caaa-49d0-e682-d9a4fdd58ac7"
      },
      "execution_count": null,
      "outputs": [
        {
          "output_type": "stream",
          "name": "stdout",
          "text": [
            "Enter you birthday, in the from mmddyy: 23032001\n",
            "Your birthday does not appear in the first million digits of pi\n"
          ]
        }
      ]
    },
    {
      "cell_type": "markdown",
      "source": [
        "**Writing to a file**"
      ],
      "metadata": {
        "id": "d3uT-3zO--E3"
      }
    },
    {
      "cell_type": "code",
      "source": [
        "filename=\"/pi_million_digits.txt\"\n",
        "with open(filename, \"w\") as file_object:\n",
        "  file_object.write(\"I love this class..\\n\")\n",
        "  file_object.write(\"I love Python Programming.\\n\")"
      ],
      "metadata": {
        "id": "0haPmC_H9bl1"
      },
      "execution_count": null,
      "outputs": []
    },
    {
      "cell_type": "markdown",
      "source": [
        "**Exceptions**\n",
        "\n",
        "Exceptions are handled with **try-except **blocks. A try-except block asks Python to do something, but it also tells Python what to do if an exception is raised. When you use try-except blocks, your programs will continue running even if things start to go wrong Instead of tracebacks, which can be confusing for users to read, users will see friendly error messages that you write."
      ],
      "metadata": {
        "id": "RoSZJRN4_ynC"
      }
    },
    {
      "cell_type": "markdown",
      "source": [
        "**Handling the ZeroDivisionError Exception**"
      ],
      "metadata": {
        "id": "v6N1Yu2KAcYF"
      }
    },
    {
      "cell_type": "code",
      "source": [
        "print(5/0)"
      ],
      "metadata": {
        "colab": {
          "base_uri": "https://localhost:8080/",
          "height": 165
        },
        "id": "4ffptvpw9bo-",
        "outputId": "705de7d7-1720-4148-9d9b-d6d25d022f37"
      },
      "execution_count": null,
      "outputs": [
        {
          "output_type": "error",
          "ename": "ZeroDivisionError",
          "evalue": "ignored",
          "traceback": [
            "\u001b[0;31m---------------------------------------------------------------------------\u001b[0m",
            "\u001b[0;31mZeroDivisionError\u001b[0m                         Traceback (most recent call last)",
            "\u001b[0;32m<ipython-input-17-fad870a50e27>\u001b[0m in \u001b[0;36m<cell line: 1>\u001b[0;34m()\u001b[0m\n\u001b[0;32m----> 1\u001b[0;31m \u001b[0mprint\u001b[0m\u001b[0;34m(\u001b[0m\u001b[0;36m5\u001b[0m\u001b[0;34m/\u001b[0m\u001b[0;36m0\u001b[0m\u001b[0;34m)\u001b[0m\u001b[0;34m\u001b[0m\u001b[0;34m\u001b[0m\u001b[0m\n\u001b[0m",
            "\u001b[0;31mZeroDivisionError\u001b[0m: division by zero"
          ]
        }
      ]
    },
    {
      "cell_type": "code",
      "source": [
        "try: \n",
        "  print(5/0)\n",
        "except ZeroDivisionError:\n",
        "  print(\"You can not divide by zero!\")"
      ],
      "metadata": {
        "colab": {
          "base_uri": "https://localhost:8080/"
        },
        "id": "z0NDW8bo9bsE",
        "outputId": "d03e171a-6092-4b58-ad4a-266037d05731"
      },
      "execution_count": null,
      "outputs": [
        {
          "output_type": "stream",
          "name": "stdout",
          "text": [
            "You can not divide by zero!\n"
          ]
        }
      ]
    },
    {
      "cell_type": "markdown",
      "source": [
        "**Using Exceptions to Prevent Creches**"
      ],
      "metadata": {
        "id": "I5uCLdhRA8NT"
      }
    },
    {
      "cell_type": "code",
      "source": [
        "print(\"Give me two numbers, and i will divide them\")\n",
        "print(\"Enter q to quit\")\n",
        "\n",
        "while True:\n",
        "  first_number=input(\"\\nWrite first number:\")\n",
        "  if first_number==\"q\":\n",
        "    break\n",
        "  second_number=input(\"Second number: \")\n",
        "  try:\n",
        "    answer=int(first_number)/int(second_number)\n",
        "  except ZeroDivisionError:\n",
        "    print(\"You can not divide by 0!\")\n",
        "  else:\n",
        "    print(answer)"
      ],
      "metadata": {
        "colab": {
          "base_uri": "https://localhost:8080/"
        },
        "id": "88zEj6mk9bvh",
        "outputId": "0e21ad08-c920-44b9-e252-6ba36604983c"
      },
      "execution_count": null,
      "outputs": [
        {
          "name": "stdout",
          "output_type": "stream",
          "text": [
            "Give me two numbers, and i will divide them\n",
            "Enter q to quit\n",
            "\n",
            "Write first number:8\n",
            "Second number: 5\n",
            "1.6\n",
            "\n",
            "Write first number:6\n",
            "Second number: 8\n",
            "0.75\n",
            "\n",
            "Write first number:q\n"
          ]
        }
      ]
    },
    {
      "cell_type": "markdown",
      "source": [
        "# Using Exceptions to Prevent Crashes"
      ],
      "metadata": {
        "id": "Bl6rRetCOmq-"
      }
    },
    {
      "cell_type": "code",
      "source": [
        "print(\"Give me two numbers and i will divide them\")\n",
        "print(\"enter 'q' to quit\")\n",
        "\n",
        "while True:\n",
        "  first_number= input(\"/nFirst number:\")\n",
        "  if first_number=='q':\n",
        "    break\n",
        "  second_number= input(\"Second number:\")\n",
        "  try:\n",
        "    answer=int(first_number) / int(second_number)\n",
        "  except ZeroDivisionError:\n",
        "    print(\"You can not divide by 0!\")\n",
        "  else:\n",
        "    print(answer)"
      ],
      "metadata": {
        "colab": {
          "base_uri": "https://localhost:8080/"
        },
        "id": "D0EV2UlqOsWL",
        "outputId": "a64f2d84-772e-48ed-a568-2b068dd134fa"
      },
      "execution_count": 1,
      "outputs": [
        {
          "name": "stdout",
          "output_type": "stream",
          "text": [
            "Give me two numbers and i will divide them\n",
            "enter 'q' to quit\n",
            "/nFirst number:10\n",
            "Second number:5\n",
            "2.0\n",
            "/nFirst number:q\n"
          ]
        }
      ]
    },
    {
      "cell_type": "markdown",
      "source": [
        "# Handling the FileNotFoundERROR eXCEPTİON"
      ],
      "metadata": {
        "id": "a5vxNDzVQIG-"
      }
    },
    {
      "cell_type": "code",
      "source": [
        "filename=\"/alices.txt\"\n",
        "with open(filename,encoding=\"utf-8\") as f_obj:\n",
        "  contents=f_obj.read()"
      ],
      "metadata": {
        "colab": {
          "base_uri": "https://localhost:8080/",
          "height": 200
        },
        "id": "78DQcUftOsZE",
        "outputId": "a0167155-6bf5-4ef9-cbb1-8375a3e5ec89"
      },
      "execution_count": 7,
      "outputs": [
        {
          "output_type": "error",
          "ename": "FileNotFoundError",
          "evalue": "ignored",
          "traceback": [
            "\u001b[0;31m---------------------------------------------------------------------------\u001b[0m",
            "\u001b[0;31mFileNotFoundError\u001b[0m                         Traceback (most recent call last)",
            "\u001b[0;32m<ipython-input-7-aeb0852fc801>\u001b[0m in \u001b[0;36m<cell line: 2>\u001b[0;34m()\u001b[0m\n\u001b[1;32m      1\u001b[0m \u001b[0mfilename\u001b[0m\u001b[0;34m=\u001b[0m\u001b[0;34m\"/alices.txt\"\u001b[0m\u001b[0;34m\u001b[0m\u001b[0;34m\u001b[0m\u001b[0m\n\u001b[0;32m----> 2\u001b[0;31m \u001b[0;32mwith\u001b[0m \u001b[0mopen\u001b[0m\u001b[0;34m(\u001b[0m\u001b[0mfilename\u001b[0m\u001b[0;34m,\u001b[0m\u001b[0mencoding\u001b[0m\u001b[0;34m=\u001b[0m\u001b[0;34m\"utf-8\"\u001b[0m\u001b[0;34m)\u001b[0m \u001b[0;32mas\u001b[0m \u001b[0mf_obj\u001b[0m\u001b[0;34m:\u001b[0m\u001b[0;34m\u001b[0m\u001b[0;34m\u001b[0m\u001b[0m\n\u001b[0m\u001b[1;32m      3\u001b[0m   \u001b[0mcontents\u001b[0m\u001b[0;34m=\u001b[0m\u001b[0mf_obj\u001b[0m\u001b[0;34m.\u001b[0m\u001b[0mread\u001b[0m\u001b[0;34m(\u001b[0m\u001b[0;34m)\u001b[0m\u001b[0;34m\u001b[0m\u001b[0;34m\u001b[0m\u001b[0m\n",
            "\u001b[0;31mFileNotFoundError\u001b[0m: [Errno 2] No such file or directory: '/alices.txt'"
          ]
        }
      ]
    },
    {
      "cell_type": "code",
      "source": [
        "filename=\"/alices.txt\"\n",
        "try:\n",
        "  with open(filename,encoding=\"utf-8\") as f_obj:\n",
        "    contents=f_obj.read()\n",
        "except FileNotFoundError:\n",
        "  print(f\"Sorry, the file {filename} dos not exist.\")"
      ],
      "metadata": {
        "colab": {
          "base_uri": "https://localhost:8080/"
        },
        "id": "ufVAi97BOsbv",
        "outputId": "3d287b58-2477-4408-bb64-db12df2c0ffd"
      },
      "execution_count": 9,
      "outputs": [
        {
          "output_type": "stream",
          "name": "stdout",
          "text": [
            "Sorry, the file /alices.txt dos not exist.\n"
          ]
        }
      ]
    },
    {
      "cell_type": "markdown",
      "source": [
        "dosyanın adı yanlış yazılmıştı "
      ],
      "metadata": {
        "id": "XwfMgRWVR6xy"
      }
    },
    {
      "cell_type": "markdown",
      "source": [
        "# **Analyzing Text**"
      ],
      "metadata": {
        "id": "MD-fVZcGSKcK"
      }
    },
    {
      "cell_type": "code",
      "source": [
        "filename=\"/alice.txt\"\n",
        "try:\n",
        "  with open(filename, encoding=\"utf-8\") as f:\n",
        "    contents=f.read()\n",
        "except FileNotFoundError:\n",
        "  print(f\"Sorry, the file {filename} does not exist!\")\n",
        "else:\n",
        "  words=contents.split()\n",
        "  num_words=len(words)\n",
        "  print(\"The file\"+ filename + \"has about \"+ str(num_words)+ \"words!\")\n"
      ],
      "metadata": {
        "colab": {
          "base_uri": "https://localhost:8080/"
        },
        "id": "KkMYWV5QOseN",
        "outputId": "721df9a5-3921-48e4-9605-0ac6bb70d316"
      },
      "execution_count": 11,
      "outputs": [
        {
          "output_type": "stream",
          "name": "stdout",
          "text": [
            "The file/alice.txthas about 29461words!\n"
          ]
        }
      ]
    },
    {
      "cell_type": "code",
      "source": [
        "def count_words(filename):\n",
        "  try:\n",
        "    with open(filename,encoding=\"utf-8\")as f_obj:\n",
        "      contents=f_obj.read()\n",
        "  except FileNotFoundError:\n",
        "    print(f\"Sorry, the file {filename} does not exist\")\n",
        "  else:\n",
        "    words= contents.split()\n",
        "    num_words=len(words)\n",
        "    print(\"The file\"+ filename + \"has about\"+ str(num_words)+ \"words\")\n"
      ],
      "metadata": {
        "id": "DV3QLUt6Osgw"
      },
      "execution_count": 14,
      "outputs": []
    },
    {
      "cell_type": "code",
      "source": [
        "filenames=[\"/alice.txt\", \"/programming.txt\"]\n",
        "for filename in filenames:\n",
        "  count_words(filename)"
      ],
      "metadata": {
        "colab": {
          "base_uri": "https://localhost:8080/"
        },
        "id": "vlnKVbm_Osjb",
        "outputId": "74b02973-082e-4106-c39a-3db9b7088a22"
      },
      "execution_count": 15,
      "outputs": [
        {
          "output_type": "stream",
          "name": "stdout",
          "text": [
            "The file/alice.txthas about29461words\n",
            "The file/programming.txthas about26words\n"
          ]
        }
      ]
    },
    {
      "cell_type": "markdown",
      "source": [
        "# Storing Data"
      ],
      "metadata": {
        "id": "ea8JqZbNU78g"
      }
    },
    {
      "cell_type": "code",
      "source": [
        "import json\n",
        "numbers=[2,3,4,5,7,9]\n",
        "filename=\"/numbers.json\"\n",
        "with open(filename, \"w\") as file_obj:\n",
        "  json.dump(numbers, file_obj)"
      ],
      "metadata": {
        "id": "V-yaTbgoOsmG"
      },
      "execution_count": 18,
      "outputs": []
    },
    {
      "cell_type": "code",
      "source": [
        "import json\n",
        "filename=\"/numbers.json\"\n",
        "with open(filename) as f:\n",
        "  numbers=json.load(f)\n",
        "print(numbers)\n"
      ],
      "metadata": {
        "colab": {
          "base_uri": "https://localhost:8080/"
        },
        "id": "7cOIlEMYOsoj",
        "outputId": "06166fdc-4c57-4ca6-c8b1-d86c5b1cdd15"
      },
      "execution_count": 20,
      "outputs": [
        {
          "output_type": "stream",
          "name": "stdout",
          "text": [
            "[2, 3, 4, 5, 7, 9]\n"
          ]
        }
      ]
    },
    {
      "cell_type": "code",
      "source": [
        "import json\n",
        "username=input(\"what iis your name?\")\n",
        "filename=\"/numbers.json\"\n",
        "with open(filename, \"w\") as f:\n",
        "  json.dump(username, f)\n",
        "print(f\"we will remember you when you come back, {username}\")"
      ],
      "metadata": {
        "colab": {
          "base_uri": "https://localhost:8080/"
        },
        "id": "JQhfD4lPYFaO",
        "outputId": "a18294b3-2395-4dfb-9d0b-13e52a19ebbb"
      },
      "execution_count": 21,
      "outputs": [
        {
          "output_type": "stream",
          "name": "stdout",
          "text": [
            "what iis your name?melike kara\n",
            "we will remember you when you come back, melike kara\n"
          ]
        }
      ]
    },
    {
      "cell_type": "code",
      "source": [
        "import json\n",
        "filename=\"/numbers.json\"\n",
        "with open(filename) as f_obj:\n",
        "  username=json.load(f_obj)\n",
        "  print(\"Welcome back,\"+username + \" !\")"
      ],
      "metadata": {
        "colab": {
          "base_uri": "https://localhost:8080/"
        },
        "id": "TIxTTr2lYFdA",
        "outputId": "97f49ed8-ba64-4562-da68-6c4d1d15e886"
      },
      "execution_count": 22,
      "outputs": [
        {
          "output_type": "stream",
          "name": "stdout",
          "text": [
            "Welcome back,melike kara !\n"
          ]
        }
      ]
    },
    {
      "cell_type": "code",
      "source": [
        "import json\n",
        "\n",
        "filename=\"/numbers.json\"\n",
        "try:\n",
        "  with open(filename) as f:\n",
        "    username=json.load(f)\n",
        "except FileNotFounError:\n",
        "  username= input(\"What is your name?\")\n",
        "  with open(filename, \"w\") as f:\n",
        "    jsondump(username, f)\n",
        "    print(f\"We will remember you when you come back, {username}\")\n",
        "else:\n",
        "  print(f\"Welcome back, {username}\")"
      ],
      "metadata": {
        "colab": {
          "base_uri": "https://localhost:8080/"
        },
        "id": "-Ph41An6YFfq",
        "outputId": "d4660148-c58c-4ebf-d47b-1eda25bf3c2e"
      },
      "execution_count": 26,
      "outputs": [
        {
          "output_type": "stream",
          "name": "stdout",
          "text": [
            "Welcome back, melike kara\n"
          ]
        }
      ]
    },
    {
      "cell_type": "code",
      "source": [
        "import json\n",
        "\n",
        "def get_stored_username():\n",
        "  filename=\"/numbers.json\"\n",
        "  try:\n",
        "    with open(filename) as f_obj:\n",
        "      username=json.load(f_obj)\n",
        "  except FileNotFoundError:\n",
        "    return username\n",
        "\n",
        "def get_new_username():\n",
        "  username=input(\"What is your name?\")\n",
        "  filename=\"/username.json\"\n",
        "  with open(filename, \"w\") as f_obj:\n",
        "    json.dump(username, f_obj)\n",
        "  return username\n",
        "\n",
        "\n",
        "def greet_user():\n",
        "  username=get_stored_username()\n",
        "  if username:\n",
        "    print(\"Welcome back,\" + username+ \"!\")\n",
        "\n",
        "  else:\n",
        "    username=get_new_username()\n",
        "    print(\"we will remember you when you come back\"+ username)\n",
        "\n",
        "  "
      ],
      "metadata": {
        "id": "cgXRPtbNYFiR"
      },
      "execution_count": 27,
      "outputs": []
    },
    {
      "cell_type": "code",
      "source": [
        "greet_user()"
      ],
      "metadata": {
        "colab": {
          "base_uri": "https://localhost:8080/"
        },
        "id": "c45hK-scYFk7",
        "outputId": "939e2e4c-6e5c-435c-baec-69a3f296fac4"
      },
      "execution_count": 28,
      "outputs": [
        {
          "output_type": "stream",
          "name": "stdout",
          "text": [
            "What is your name?meel\n",
            "we will remember you when you come backmeel\n"
          ]
        }
      ]
    },
    {
      "cell_type": "markdown",
      "source": [
        "# **HOMEWORK**"
      ],
      "metadata": {
        "id": "YHvijvZVolQS"
      }
    },
    {
      "cell_type": "code",
      "source": [
        "import json\n",
        "\n",
        "def get_stored_birthdate():\n",
        "    filename = \"/number.json\"\n",
        "    try:\n",
        "        with open(filename) as f_obj:\n",
        "            birthdate = json.load(f_obj)\n",
        "    except FileNotFoundError:\n",
        "        return None\n",
        "    return birthdate\n",
        "\n",
        "def get_new_birthdate():\n",
        "    birthdate = input(\"Doğum tarihinizi girin (GG.AA.YYYY): \")\n",
        "    filename = \"/birthdate.json\"\n",
        "    with open(filename, \"w\") as f_obj:\n",
        "        json.dump(birthdate, f_obj)\n",
        "    return birthdate\n",
        "\n",
        "def greet_user():\n",
        "    birthdate = get_stored_birthdate()\n",
        "    if birthdate:\n",
        "        print(\"Please enter birthday:\", birthdate)\n",
        "    else:\n",
        "        birthdate = get_new_birthdate()\n",
        "        print(\"Your date of birth has been saved. Your birthday is :\"+ birthdate)\n"
      ],
      "metadata": {
        "id": "Z-bGHidKYFnk"
      },
      "execution_count": 35,
      "outputs": []
    },
    {
      "cell_type": "code",
      "source": [
        "greet_user()"
      ],
      "metadata": {
        "colab": {
          "base_uri": "https://localhost:8080/"
        },
        "id": "hkWUC3_nqOlr",
        "outputId": "ae182e26-bf55-4d2a-8e34-44d3cb3c9cd9"
      },
      "execution_count": 36,
      "outputs": [
        {
          "output_type": "stream",
          "name": "stdout",
          "text": [
            "Doğum tarihinizi girin (GG.AA.YYYY): 23.03.2001\n",
            "Your date of birth has been saved. Your birthday is :23.03.2001\n"
          ]
        }
      ]
    }
  ]
}