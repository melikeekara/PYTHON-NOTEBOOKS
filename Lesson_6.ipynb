{
  "nbformat": 4,
  "nbformat_minor": 0,
  "metadata": {
    "colab": {
      "provenance": [],
      "authorship_tag": "ABX9TyOuROlWsrwImJeINS7RGwkd",
      "include_colab_link": true
    },
    "kernelspec": {
      "name": "python3",
      "display_name": "Python 3"
    },
    "language_info": {
      "name": "python"
    }
  },
  "cells": [
    {
      "cell_type": "markdown",
      "metadata": {
        "id": "view-in-github",
        "colab_type": "text"
      },
      "source": [
        "<a href=\"https://colab.research.google.com/github/melikeekara/PYTHON-NOTEBOOKS/blob/main/Lesson_6.ipynb\" target=\"_parent\"><img src=\"https://colab.research.google.com/assets/colab-badge.svg\" alt=\"Open In Colab\"/></a>"
      ]
    },
    {
      "cell_type": "markdown",
      "source": [
        "# Inheritance\n",
        "Inheritance is the capability of one class to derive or inherit the properties from another class. \n",
        "Benefits inheritancresents:\n",
        "*   It represents real-world relationships well.\n",
        "*   It provides the reusability of a code. We don't have to write the same code again and again. Also, it allows us to add more features to a class without modifying it.\n",
        "*   It is transitive in nature, which means that if class B inherits from another class A, then all the subclassses of B would automatically inherit from class A."
      ],
      "metadata": {
        "id": "avaWqPYaaVzH"
      }
    },
    {
      "cell_type": "code",
      "source": [
        "# Class BaseClass:\n",
        " #def ksdfjsdkfhsjkdhf:\n",
        "  #jkhfajksgaşjsdh\n",
        "\n",
        "#Class DerivedClass(BaseClass):\n",
        "    #def jadfajdshfg:\n",
        "      #kjfhgakjfgh"
      ],
      "metadata": {
        "id": "VoCxGQleefpt"
      },
      "execution_count": null,
      "outputs": []
    },
    {
      "cell_type": "markdown",
      "source": [
        "**Creating a Parent Class**\n",
        "\n",
        "Creating a Person class with Display methods."
      ],
      "metadata": {
        "id": "gk1yhC_rfQyE"
      }
    },
    {
      "cell_type": "code",
      "source": [
        "class Person:\n",
        "\n",
        "  #constructor\n",
        "  def __init__(self, name, id):\n",
        "    self.name=name\n",
        "    self.id=id\n",
        "  #to check if this person is an employee\n",
        "  def display(self):\n",
        "    print(self.name,self.id)"
      ],
      "metadata": {
        "id": "bNWRvsN4egGn"
      },
      "execution_count": null,
      "outputs": []
    },
    {
      "cell_type": "code",
      "source": [
        "obj=Person(\"Murat\", 123)"
      ],
      "metadata": {
        "id": "BNvHlg5BegKI"
      },
      "execution_count": null,
      "outputs": []
    },
    {
      "cell_type": "code",
      "source": [
        "obj.id"
      ],
      "metadata": {
        "colab": {
          "base_uri": "https://localhost:8080/"
        },
        "id": "k_X3lZagegNj",
        "outputId": "8740b06e-75bd-4fc6-b65d-a286e0766a21"
      },
      "execution_count": null,
      "outputs": [
        {
          "output_type": "execute_result",
          "data": {
            "text/plain": [
              "123"
            ]
          },
          "metadata": {},
          "execution_count": 5
        }
      ]
    },
    {
      "cell_type": "code",
      "source": [
        "obj.name"
      ],
      "metadata": {
        "colab": {
          "base_uri": "https://localhost:8080/",
          "height": 36
        },
        "id": "1fl9BgBfgwOx",
        "outputId": "d7e05382-f5b3-47c6-9cf1-90bef39a4a36"
      },
      "execution_count": null,
      "outputs": [
        {
          "output_type": "execute_result",
          "data": {
            "text/plain": [
              "'Murat'"
            ],
            "application/vnd.google.colaboratory.intrinsic+json": {
              "type": "string"
            }
          },
          "metadata": {},
          "execution_count": 6
        }
      ]
    },
    {
      "cell_type": "code",
      "source": [
        "obj.display()"
      ],
      "metadata": {
        "colab": {
          "base_uri": "https://localhost:8080/"
        },
        "id": "kJ9MnrMdgwS1",
        "outputId": "1262f625-d211-4795-9816-bf5b0c5eec82"
      },
      "execution_count": null,
      "outputs": [
        {
          "output_type": "stream",
          "name": "stdout",
          "text": [
            "Murat 123\n"
          ]
        }
      ]
    },
    {
      "cell_type": "code",
      "source": [
        "person=Person(\"Melike\", 200201013)"
      ],
      "metadata": {
        "id": "vNeEEiXygwVS"
      },
      "execution_count": null,
      "outputs": []
    },
    {
      "cell_type": "code",
      "source": [
        "person.name"
      ],
      "metadata": {
        "colab": {
          "base_uri": "https://localhost:8080/",
          "height": 36
        },
        "id": "HGA8M6TzgwX_",
        "outputId": "23d71e2a-d007-41c6-f940-9981cde82fdd"
      },
      "execution_count": null,
      "outputs": [
        {
          "output_type": "execute_result",
          "data": {
            "text/plain": [
              "'Melike'"
            ],
            "application/vnd.google.colaboratory.intrinsic+json": {
              "type": "string"
            }
          },
          "metadata": {},
          "execution_count": 9
        }
      ]
    },
    {
      "cell_type": "code",
      "source": [
        "person.id"
      ],
      "metadata": {
        "colab": {
          "base_uri": "https://localhost:8080/"
        },
        "id": "DcRVz70fgwae",
        "outputId": "a7be5131-934b-426c-c2dc-3ceb76a1f725"
      },
      "execution_count": null,
      "outputs": [
        {
          "output_type": "execute_result",
          "data": {
            "text/plain": [
              "200201013"
            ]
          },
          "metadata": {},
          "execution_count": 10
        }
      ]
    },
    {
      "cell_type": "code",
      "source": [
        "person.display()"
      ],
      "metadata": {
        "colab": {
          "base_uri": "https://localhost:8080/"
        },
        "id": "A6WTXpy3gwc6",
        "outputId": "023566bc-2121-44e0-bb80-8bd3bbbea69c"
      },
      "execution_count": null,
      "outputs": [
        {
          "output_type": "stream",
          "name": "stdout",
          "text": [
            "Melike 200201013\n"
          ]
        }
      ]
    },
    {
      "cell_type": "markdown",
      "source": [
        "**Creating a Child Class**\n",
        "\n",
        "Here Emp is another class which is going to inherit the properties of the Person class(base class)."
      ],
      "metadata": {
        "id": "BGhwu6ajhJT5"
      }
    },
    {
      "cell_type": "code",
      "source": [
        "class Emp(Person):\n",
        "  def Print(self):\n",
        "    print(\"Emp class called\")"
      ],
      "metadata": {
        "id": "88EYOxGggwfn"
      },
      "execution_count": null,
      "outputs": []
    },
    {
      "cell_type": "code",
      "source": [
        "emp=Emp(\"Melike\", 200201013)"
      ],
      "metadata": {
        "id": "C-g3OD6nhoJI"
      },
      "execution_count": null,
      "outputs": []
    },
    {
      "cell_type": "code",
      "source": [
        "emp.display()"
      ],
      "metadata": {
        "colab": {
          "base_uri": "https://localhost:8080/"
        },
        "id": "Htwm3-FKhoMY",
        "outputId": "5a6e96c4-a119-4f13-8349-632f6449bc7e"
      },
      "execution_count": null,
      "outputs": [
        {
          "output_type": "stream",
          "name": "stdout",
          "text": [
            "Melike 200201013\n"
          ]
        }
      ]
    },
    {
      "cell_type": "code",
      "source": [
        "emp.Print()"
      ],
      "metadata": {
        "colab": {
          "base_uri": "https://localhost:8080/"
        },
        "id": "9NuCdTh6hoPF",
        "outputId": "b747df5c-da0d-43c3-cd09-5de293b6bb03"
      },
      "execution_count": null,
      "outputs": [
        {
          "output_type": "stream",
          "name": "stdout",
          "text": [
            "Emp class called\n"
          ]
        }
      ]
    },
    {
      "cell_type": "code",
      "source": [
        "emp.name"
      ],
      "metadata": {
        "id": "4wX-Kl-bhoTy",
        "colab": {
          "base_uri": "https://localhost:8080/",
          "height": 36
        },
        "outputId": "4454318c-140e-4800-8f8e-fd355840800d"
      },
      "execution_count": null,
      "outputs": [
        {
          "output_type": "execute_result",
          "data": {
            "text/plain": [
              "'Melike'"
            ],
            "application/vnd.google.colaboratory.intrinsic+json": {
              "type": "string"
            }
          },
          "metadata": {},
          "execution_count": 17
        }
      ]
    },
    {
      "cell_type": "code",
      "source": [
        "emp.id"
      ],
      "metadata": {
        "colab": {
          "base_uri": "https://localhost:8080/"
        },
        "id": "pusjTm8yKems",
        "outputId": "42042fe7-b1ef-4152-a6e9-920cddc06f9b"
      },
      "execution_count": null,
      "outputs": [
        {
          "output_type": "execute_result",
          "data": {
            "text/plain": [
              "200201013"
            ]
          },
          "metadata": {},
          "execution_count": 18
        }
      ]
    },
    {
      "cell_type": "code",
      "source": [
        "emp=Emp(\"Melike\", 2751)"
      ],
      "metadata": {
        "id": "p6vMz_S0Kepd"
      },
      "execution_count": null,
      "outputs": []
    },
    {
      "cell_type": "markdown",
      "source": [
        "# New Class"
      ],
      "metadata": {
        "id": "RFUZcfGrLCoq"
      }
    },
    {
      "cell_type": "code",
      "source": [
        "class Company:\n",
        "   #constructor (init function)\n",
        "   def __init__(self,name):\n",
        "     self.name=name\n",
        "     print(\"Company class is created\")\n",
        "    \n",
        "   def section(self):\n",
        "     print(\"Company section\")\n",
        "\n",
        "   def admin(self):\n",
        "     print(\"Company admin\")"
      ],
      "metadata": {
        "id": "y_klauLNLFY1"
      },
      "execution_count": null,
      "outputs": []
    },
    {
      "cell_type": "markdown",
      "source": [
        "The super( function is a special function that allows you to call a method from the parent class. In this example, call the __init__() method from Company, which gives an AI instance all the attributes defined in that method.\n",
        "the name super() cames from  a convention of calling the parent class a superclass and the child class a subclass.\n",
        "--parents class ı çağırmanızı sağlayan bir fonksiyondur."
      ],
      "metadata": {
        "id": "3UuN4es3MHxS"
      }
    },
    {
      "cell_type": "code",
      "source": [
        "#child class\n",
        "class AI(Company):\n",
        "  def __init__(self):\n",
        "    super().__init__(self)\n",
        "    print(\"child class is created which name is AI\")\n",
        "\n",
        "  def machinelearning(self):\n",
        "    print(\"using machine larning\")\n",
        "\n",
        "  def deeplearning(self):\n",
        "    print(\"using deep learning\")"
      ],
      "metadata": {
        "id": "-GUpDaU0Kesl"
      },
      "execution_count": null,
      "outputs": []
    },
    {
      "cell_type": "code",
      "source": [
        "com=Company(\"Melike\")"
      ],
      "metadata": {
        "colab": {
          "base_uri": "https://localhost:8080/"
        },
        "id": "h_upJ9S3KevN",
        "outputId": "63661c62-f8d1-44ab-c75c-d1d01ed076d7"
      },
      "execution_count": null,
      "outputs": [
        {
          "output_type": "stream",
          "name": "stdout",
          "text": [
            "Company class is created\n"
          ]
        }
      ]
    },
    {
      "cell_type": "code",
      "source": [
        "ai=AI()"
      ],
      "metadata": {
        "colab": {
          "base_uri": "https://localhost:8080/"
        },
        "id": "ZItQK64lKeyL",
        "outputId": "d0a323bc-fcd3-47b7-c4cc-d3f46808e245"
      },
      "execution_count": null,
      "outputs": [
        {
          "output_type": "stream",
          "name": "stdout",
          "text": [
            "Company class is created\n",
            "child class is created which name is AI\n"
          ]
        }
      ]
    },
    {
      "cell_type": "code",
      "source": [
        "ai.section()"
      ],
      "metadata": {
        "colab": {
          "base_uri": "https://localhost:8080/"
        },
        "id": "qOkugqP8Ke00",
        "outputId": "3d25fd9c-efbd-4a74-89cc-1281d8a995e4"
      },
      "execution_count": null,
      "outputs": [
        {
          "output_type": "stream",
          "name": "stdout",
          "text": [
            "Company section\n"
          ]
        }
      ]
    },
    {
      "cell_type": "code",
      "source": [
        "ai.name"
      ],
      "metadata": {
        "colab": {
          "base_uri": "https://localhost:8080/"
        },
        "id": "qjN_rGfCKe3R",
        "outputId": "168f8c4b-28e3-4362-b961-6e7fc245e3dc"
      },
      "execution_count": null,
      "outputs": [
        {
          "output_type": "execute_result",
          "data": {
            "text/plain": [
              "<__main__.AI at 0x7fa244996760>"
            ]
          },
          "metadata": {},
          "execution_count": 50
        }
      ]
    },
    {
      "cell_type": "code",
      "source": [
        "ai.admin()"
      ],
      "metadata": {
        "colab": {
          "base_uri": "https://localhost:8080/"
        },
        "id": "CGWUp9xtSVQh",
        "outputId": "1919c0fb-49c8-4cc6-c88a-dc1ae22507af"
      },
      "execution_count": null,
      "outputs": [
        {
          "output_type": "stream",
          "name": "stdout",
          "text": [
            "Company admin\n"
          ]
        }
      ]
    },
    {
      "cell_type": "code",
      "source": [
        "ai.deeplearning()"
      ],
      "metadata": {
        "colab": {
          "base_uri": "https://localhost:8080/"
        },
        "id": "bJZjFFNsSVTh",
        "outputId": "0300dcab-5956-4662-81c0-962cb54c0b8a"
      },
      "execution_count": null,
      "outputs": [
        {
          "output_type": "stream",
          "name": "stdout",
          "text": [
            "using deep learning\n"
          ]
        }
      ]
    },
    {
      "cell_type": "code",
      "source": [
        "ai.machinelearning()"
      ],
      "metadata": {
        "colab": {
          "base_uri": "https://localhost:8080/"
        },
        "id": "zY6wYb5rSdqL",
        "outputId": "72e35fcf-81e2-430a-8f30-523e226e66eb"
      },
      "execution_count": null,
      "outputs": [
        {
          "output_type": "stream",
          "name": "stdout",
          "text": [
            "using machine larning\n"
          ]
        }
      ]
    },
    {
      "cell_type": "code",
      "source": [
        "#Parent Class\n",
        "\n",
        "class Animal:\n",
        "  def __init__(self):\n",
        "    print(\"animal is created\")\n",
        "  \n",
        "  def toString(self):\n",
        "    print(\"animal walks\")\n",
        "\n",
        "  def walk(self):\n",
        "    print(\"animal walks\")"
      ],
      "metadata": {
        "id": "v6kbNSwFSVWQ"
      },
      "execution_count": null,
      "outputs": []
    },
    {
      "cell_type": "code",
      "source": [
        "#child class\n",
        "\n",
        "class Monkey(Animal):\n",
        "  def __init__(self):\n",
        "    super().__init__() #use init of parent class (Animal)\n",
        "    print(\"monkey is created\")\n",
        "\n",
        "  def toString(self):\n",
        "    print(\"monkey\")\n",
        "\n",
        "  def climb(self):\n",
        "    print(\"monkey can climb\")\n",
        "\n",
        "#child class\n",
        "\n",
        "class Bird(Animal):\n",
        "  def __init__(self):\n",
        "    super().__init__()\n",
        "    print(\"bird is created\")\n",
        "\n",
        "  def fly(self):\n",
        "    print(\"birds can fly\")"
      ],
      "metadata": {
        "id": "KoX_Txr_SVY2"
      },
      "execution_count": null,
      "outputs": []
    },
    {
      "cell_type": "code",
      "source": [
        "animal=Animal()"
      ],
      "metadata": {
        "colab": {
          "base_uri": "https://localhost:8080/"
        },
        "id": "u1TjvKPHSVbL",
        "outputId": "9e22adac-d71c-42b5-dbc9-4715bf4ea68d"
      },
      "execution_count": null,
      "outputs": [
        {
          "output_type": "stream",
          "name": "stdout",
          "text": [
            "animal is created\n"
          ]
        }
      ]
    },
    {
      "cell_type": "code",
      "source": [
        "bird=Bird()"
      ],
      "metadata": {
        "colab": {
          "base_uri": "https://localhost:8080/"
        },
        "id": "iY2zeCvjSVds",
        "outputId": "3a326dfd-b1c8-4f80-e974-6d12e47bd98c"
      },
      "execution_count": null,
      "outputs": [
        {
          "output_type": "stream",
          "name": "stdout",
          "text": [
            "animal is created\n",
            "bird is created\n"
          ]
        }
      ]
    },
    {
      "cell_type": "code",
      "source": [
        "monkey=Monkey()"
      ],
      "metadata": {
        "colab": {
          "base_uri": "https://localhost:8080/"
        },
        "id": "b5ObFmq9SVgg",
        "outputId": "5e6ae9de-2dae-4e05-e01c-68af0137edd5"
      },
      "execution_count": null,
      "outputs": [
        {
          "output_type": "stream",
          "name": "stdout",
          "text": [
            "animal is created\n",
            "monkey is created\n"
          ]
        }
      ]
    },
    {
      "cell_type": "code",
      "source": [
        "monkey.walk()"
      ],
      "metadata": {
        "colab": {
          "base_uri": "https://localhost:8080/"
        },
        "id": "sc_31m9iSVjE",
        "outputId": "a323c67d-cac8-4edd-87fd-1eabef92db07"
      },
      "execution_count": null,
      "outputs": [
        {
          "output_type": "stream",
          "name": "stdout",
          "text": [
            "animal walks\n"
          ]
        }
      ]
    },
    {
      "cell_type": "code",
      "source": [
        "m1=Monkey()"
      ],
      "metadata": {
        "colab": {
          "base_uri": "https://localhost:8080/"
        },
        "id": "zs6e1o6BSVn8",
        "outputId": "97c45367-f172-4ffa-c169-d03230ca6b26"
      },
      "execution_count": null,
      "outputs": [
        {
          "output_type": "stream",
          "name": "stdout",
          "text": [
            "animal is created\n",
            "monkey is created\n"
          ]
        }
      ]
    },
    {
      "cell_type": "code",
      "source": [
        "m1.toString()"
      ],
      "metadata": {
        "colab": {
          "base_uri": "https://localhost:8080/"
        },
        "id": "yp8yMtTTU1Mg",
        "outputId": "67a301ff-54c7-4c52-da08-72c83d813c73"
      },
      "execution_count": null,
      "outputs": [
        {
          "output_type": "stream",
          "name": "stdout",
          "text": [
            "monkey\n"
          ]
        }
      ]
    },
    {
      "cell_type": "code",
      "source": [
        "m1.climb()"
      ],
      "metadata": {
        "colab": {
          "base_uri": "https://localhost:8080/"
        },
        "id": "d0UCxaHgU1Pa",
        "outputId": "461e23cc-3dd5-44ff-8cb0-26a0257c041e"
      },
      "execution_count": null,
      "outputs": [
        {
          "output_type": "stream",
          "name": "stdout",
          "text": [
            "monkey can climb\n"
          ]
        }
      ]
    },
    {
      "cell_type": "code",
      "source": [
        "bird.fly()"
      ],
      "metadata": {
        "colab": {
          "base_uri": "https://localhost:8080/"
        },
        "id": "dFM_NS4BU1R2",
        "outputId": "b6bf3de3-b5f0-4b9c-a2e7-f1282861ffe0"
      },
      "execution_count": null,
      "outputs": [
        {
          "output_type": "stream",
          "name": "stdout",
          "text": [
            "birds can fly\n"
          ]
        }
      ]
    },
    {
      "cell_type": "code",
      "source": [
        "class Person(object):\n",
        "  def isEmployee(self):\n",
        "    print(\"person class\")\n",
        "\n",
        "class Employee(object):\n",
        "  def isEmployee(self):\n",
        "    print(\"Employee class\")\n",
        "\n",
        "class Human(Employee, Person):\n",
        "  pass\n"
      ],
      "metadata": {
        "id": "sUsEMwomU1Ud"
      },
      "execution_count": null,
      "outputs": []
    },
    {
      "cell_type": "code",
      "source": [
        "p1=Human()"
      ],
      "metadata": {
        "id": "dobLNsqyU1W3"
      },
      "execution_count": null,
      "outputs": []
    },
    {
      "cell_type": "code",
      "source": [
        "p1.isEmployee()"
      ],
      "metadata": {
        "colab": {
          "base_uri": "https://localhost:8080/"
        },
        "id": "MI0rbyA5U1Zd",
        "outputId": "b270f060-acc5-4694-f221-45013cafd80b"
      },
      "execution_count": null,
      "outputs": [
        {
          "output_type": "stream",
          "name": "stdout",
          "text": [
            "Employee class\n"
          ]
        }
      ]
    },
    {
      "cell_type": "markdown",
      "source": [
        "# New Class"
      ],
      "metadata": {
        "id": "NexEV6efWEn9"
      }
    },
    {
      "cell_type": "code",
      "source": [
        "class Person:\n",
        "  #constructor\n",
        "\n",
        "  def __init__(self,name):\n",
        "    self.name=name\n",
        "\n",
        "  #to get name\n",
        "  def getName(self):\n",
        "    return self.name\n",
        "\n",
        "  #to check if this person is an employee\n",
        "\n",
        "  def isEmployee(self):\n",
        "    return False\n",
        "\n",
        "#Inherited or Subclass\n",
        "class Employee(Person):\n",
        "  \n",
        "  #Here we return true\n",
        "\n",
        "  def isEmployee(self):\n",
        "    return True\n"
      ],
      "metadata": {
        "id": "si874S_RU1bg"
      },
      "execution_count": null,
      "outputs": []
    },
    {
      "cell_type": "code",
      "source": [
        "emp=Employee(\"Melike\")"
      ],
      "metadata": {
        "id": "M1VZ5T1jU1eh"
      },
      "execution_count": null,
      "outputs": []
    },
    {
      "cell_type": "code",
      "source": [
        "emp.isEmployee()"
      ],
      "metadata": {
        "colab": {
          "base_uri": "https://localhost:8080/"
        },
        "id": "sPSFBP4JU1hF",
        "outputId": "31ee3391-7f4b-45bf-878b-661abcf54dd1"
      },
      "execution_count": null,
      "outputs": [
        {
          "output_type": "execute_result",
          "data": {
            "text/plain": [
              "True"
            ]
          },
          "metadata": {},
          "execution_count": 85
        }
      ]
    },
    {
      "cell_type": "code",
      "source": [
        "person=Person(\"Ahmet\")"
      ],
      "metadata": {
        "id": "FJo1bBPqU1jU"
      },
      "execution_count": null,
      "outputs": []
    },
    {
      "cell_type": "code",
      "source": [
        "person.isEmployee()"
      ],
      "metadata": {
        "colab": {
          "base_uri": "https://localhost:8080/"
        },
        "id": "uhvnphHNSVrx",
        "outputId": "1225be28-e17f-4f35-d254-1e6e266e4cf3"
      },
      "execution_count": null,
      "outputs": [
        {
          "output_type": "execute_result",
          "data": {
            "text/plain": [
              "False"
            ]
          },
          "metadata": {},
          "execution_count": 87
        }
      ]
    },
    {
      "cell_type": "code",
      "source": [
        "print(emp.getName(), emp.isEmployee())"
      ],
      "metadata": {
        "colab": {
          "base_uri": "https://localhost:8080/"
        },
        "id": "kV39JYNVXQEb",
        "outputId": "c75d6640-5440-417d-c52f-b8a766348aad"
      },
      "execution_count": null,
      "outputs": [
        {
          "output_type": "stream",
          "name": "stdout",
          "text": [
            "Melike True\n"
          ]
        }
      ]
    },
    {
      "cell_type": "markdown",
      "source": [
        "##New Class"
      ],
      "metadata": {
        "id": "_HDGBHWdXZp6"
      }
    },
    {
      "cell_type": "code",
      "source": [
        "#Parent class\n",
        "\n",
        "class Person:\n",
        "  #constructor\n",
        "  def __init__(self,name,idnumber):\n",
        "    self.name=name\n",
        "    self.idnumber=idnumber\n",
        "\n",
        "  def display(self):\n",
        "    print(self.name)\n",
        "    print(self.idnumber)\n",
        "\n",
        "#child class\n",
        "\n",
        "class Employee(Person):\n",
        "  def __init__(self, name, idnumber, salary, post):\n",
        "    self.salary=salary\n",
        "    self.post=post\n",
        "\n",
        "    #invoking the __init_- of parent class\n",
        "    Person.__init__(self,name,idnumber)"
      ],
      "metadata": {
        "id": "8gzOoZHKXQHs"
      },
      "execution_count": null,
      "outputs": []
    },
    {
      "cell_type": "code",
      "source": [
        "obj=Employee(\"Melike\", 200201013, 0, \"student\")"
      ],
      "metadata": {
        "id": "wSmHwUs1XQKv"
      },
      "execution_count": null,
      "outputs": []
    },
    {
      "cell_type": "code",
      "source": [
        "obj.display"
      ],
      "metadata": {
        "colab": {
          "base_uri": "https://localhost:8080/"
        },
        "id": "TvSJ_oiIXQOP",
        "outputId": "a5b2b994-6376-40c3-e19f-dbbc4f0bf1be"
      },
      "execution_count": null,
      "outputs": [
        {
          "output_type": "execute_result",
          "data": {
            "text/plain": [
              "<bound method Person.display of <__main__.Employee object at 0x7fa22405e4f0>>"
            ]
          },
          "metadata": {},
          "execution_count": 92
        }
      ]
    },
    {
      "cell_type": "markdown",
      "source": [
        "# New Class (Multiple Inheritance)"
      ],
      "metadata": {
        "id": "yE0ms_pla0qh"
      }
    },
    {
      "cell_type": "code",
      "source": [
        "#Python example to show the working of multiple inheritance\n",
        "\n",
        "class Base1:\n",
        "  def __init__(self):\n",
        "    self.str1=\"Python\"\n",
        "    print(\"Base1 Class\")\n",
        "  def method(self):\n",
        "    print(\"first method\")\n",
        "\n",
        "class Base2:\n",
        "  def __init__(self):\n",
        "    self.str2=\"OOP\"\n",
        "    print(\"Base2 Class\")\n",
        "  def method(self):\n",
        "    print(\"second method\")\n",
        "\n",
        "class Derived(Base1, Base2):\n",
        "  def __init__(self):\n",
        "\n",
        "    #calling constructors of Base1 and Base2 classes\n",
        "    Base1.__init__(self)\n",
        "    Base2.__init__(self)\n",
        "    print(\"Derived Class\")\n",
        "\n",
        "  def printStrs(self):\n",
        "    print(self.str1, self.str2)\n"
      ],
      "metadata": {
        "id": "GG9gw-Yoa3R-"
      },
      "execution_count": null,
      "outputs": []
    },
    {
      "cell_type": "code",
      "source": [
        "obj=Derived()"
      ],
      "metadata": {
        "colab": {
          "base_uri": "https://localhost:8080/"
        },
        "id": "0ZEqn4WHa3U_",
        "outputId": "cebfaa1e-b8df-4216-862e-20f85756a8a4"
      },
      "execution_count": null,
      "outputs": [
        {
          "output_type": "stream",
          "name": "stdout",
          "text": [
            "Base1 Class\n",
            "Base2 Class\n",
            "Derived Class\n"
          ]
        }
      ]
    },
    {
      "cell_type": "code",
      "source": [
        "obj.printStrs()"
      ],
      "metadata": {
        "colab": {
          "base_uri": "https://localhost:8080/"
        },
        "id": "385fTs3Ea3Xu",
        "outputId": "d55b5638-fd23-460b-faf7-edfac97a6c6f"
      },
      "execution_count": null,
      "outputs": [
        {
          "output_type": "stream",
          "name": "stdout",
          "text": [
            "Python OOP\n"
          ]
        }
      ]
    },
    {
      "cell_type": "markdown",
      "source": [
        "# New Class"
      ],
      "metadata": {
        "id": "OvRjMV21dYTs"
      }
    },
    {
      "cell_type": "code",
      "source": [
        "class Emp():\n",
        "  def __init__(self, id, name, Add):\n",
        "    self.id=id\n",
        "    self.name=name\n",
        "    self.Add=Add\n",
        "\n",
        "class Freelance(Emp):\n",
        "  def __init__(self, id, name, Add, Emails):\n",
        "    super().__init__(id, name, Add)\n",
        "    self.Emails=Emails"
      ],
      "metadata": {
        "id": "vSpbQyR-a3ay"
      },
      "execution_count": null,
      "outputs": []
    },
    {
      "cell_type": "code",
      "source": [
        "freelance=Freelance(123, \"melike\",\"ankara\", \"200201013@ostimteknik.edu.tr\")"
      ],
      "metadata": {
        "id": "YIBwoT4ma3dV"
      },
      "execution_count": null,
      "outputs": []
    },
    {
      "cell_type": "code",
      "source": [
        "print(\"The ID is:\", freelance.id)\n",
        "print(\"The name is:\", freelance.name)\n",
        "print(\"The Address is:\", freelance.Add)\n",
        "print(\"The Email is:\", freelance.Emails)"
      ],
      "metadata": {
        "colab": {
          "base_uri": "https://localhost:8080/"
        },
        "id": "87kzglcVa3sR",
        "outputId": "769246b6-b296-4d96-ad85-f48bb953ae44"
      },
      "execution_count": null,
      "outputs": [
        {
          "output_type": "stream",
          "name": "stdout",
          "text": [
            "The ID is: 123\n",
            "The name is: melike\n",
            "The Address is: ankara\n",
            "The Email is: 200201013@ostimteknik.edu.tr\n"
          ]
        }
      ]
    },
    {
      "cell_type": "markdown",
      "source": [
        "# New Class"
      ],
      "metadata": {
        "id": "AxY0zjx9mhBv"
      }
    },
    {
      "cell_type": "code",
      "source": [
        "class Main1:\n",
        "  def __init__(self):\n",
        "    self.str1=\"Python\"\n",
        "    print(\"Main1\")\n",
        "  def method(self):\n",
        "    print(\"method 1\")\n",
        "\n",
        "class Main2:\n",
        "  def __init__(self):\n",
        "    self.str2=\"Programming\"\n",
        "    print(\"method 2\")\n",
        "\n",
        "class Derived(Main1, Main2):\n",
        "  def __init__(self):\n",
        "\n",
        "    Main2.__init__(self)\n",
        "    print(\"Derived\")\n",
        "\n",
        "  def printStrs(self):\n",
        "    print(self.str1, self.str2)\n"
      ],
      "metadata": {
        "id": "3NKNpIDBa3u4"
      },
      "execution_count": null,
      "outputs": []
    },
    {
      "cell_type": "code",
      "source": [
        "derived=Derived()"
      ],
      "metadata": {
        "colab": {
          "base_uri": "https://localhost:8080/"
        },
        "id": "25LlL0WRnrgR",
        "outputId": "f6a55b6f-4621-4ade-b852-999825f6bf17"
      },
      "execution_count": null,
      "outputs": [
        {
          "output_type": "stream",
          "name": "stdout",
          "text": [
            "method 2\n",
            "Derived\n"
          ]
        }
      ]
    },
    {
      "cell_type": "markdown",
      "source": [
        "# HOMEWORK \n",
        "Write a scrip of multiple inheritance class design."
      ],
      "metadata": {
        "id": "V7qEI3oCn62U"
      }
    },
    {
      "cell_type": "code",
      "source": [
        "class Restaurant:\n",
        "  def __init__(self, foodname, price):\n",
        "    self.foodname=foodname\n",
        "    self.price=price\n",
        "\n",
        "  def get_info(self):\n",
        "    print(\"Name of the meal is\", self.foodname)\n",
        "    print(\"The price of the meal is \", self.price, \"TL\")\n",
        "\n",
        "class Food(Restaurant):\n",
        "  def __init__(self, foodname, price, ingredients):\n",
        "    super().__init__(foodname, price)\n",
        "    self.ingredients=ingredients\n",
        "\n",
        "  def get_info(self):\n",
        "    print(self.foodname, \"is\", self.price, \"TL.\")\n",
        "    print(\"Ingredients used for the meal:\")\n",
        "    for ingredients in self.ingredients:\n",
        "      print(ingredients)\n"
      ],
      "metadata": {
        "id": "pqOFWUZOnrjK"
      },
      "execution_count": 40,
      "outputs": []
    },
    {
      "cell_type": "code",
      "source": [
        "restaurant=Restaurant(\"Mantı\", 150)"
      ],
      "metadata": {
        "id": "O_m8A8nR5KZt"
      },
      "execution_count": 51,
      "outputs": []
    },
    {
      "cell_type": "code",
      "source": [
        "restaurant.get_info()"
      ],
      "metadata": {
        "colab": {
          "base_uri": "https://localhost:8080/"
        },
        "id": "MxKA-Qsz5Ze2",
        "outputId": "96164c6f-ff96-4d21-ceec-1692cad719f4"
      },
      "execution_count": 52,
      "outputs": [
        {
          "output_type": "stream",
          "name": "stdout",
          "text": [
            "Name of the meal is Mantı\n",
            "The price of the meal is  150 TL\n"
          ]
        }
      ]
    },
    {
      "cell_type": "code",
      "source": [
        "food1=Food(\"Mantı\", 150, [\"Un\", \"Su\", \"Tuz\", \"Yumurta\", \"Kıyma\"])"
      ],
      "metadata": {
        "id": "iTjToiI-zyJ3"
      },
      "execution_count": 41,
      "outputs": []
    },
    {
      "cell_type": "code",
      "source": [
        "food1.get_info()"
      ],
      "metadata": {
        "colab": {
          "base_uri": "https://localhost:8080/"
        },
        "id": "BKsvZG6PzzTn",
        "outputId": "25610176-e353-498a-ca55-8e0d6e66150d"
      },
      "execution_count": 47,
      "outputs": [
        {
          "output_type": "stream",
          "name": "stdout",
          "text": [
            "Mantı is 150 TL.\n",
            "Ingredients used for the meal:\n",
            "Un\n",
            "Su\n",
            "Tuz\n",
            "Yumurta\n",
            "Kıyma\n"
          ]
        }
      ]
    },
    {
      "cell_type": "code",
      "source": [
        "food2=Food(\"Lahmacun\", 200, [\"ground beef\", \"onion\", \"tomato\", \"flour\", \"water\", \"salt\"])"
      ],
      "metadata": {
        "id": "DELFcsbS39IX"
      },
      "execution_count": 49,
      "outputs": []
    },
    {
      "cell_type": "code",
      "source": [
        "food2.get_info()"
      ],
      "metadata": {
        "colab": {
          "base_uri": "https://localhost:8080/"
        },
        "id": "6__aDgr8zzba",
        "outputId": "ae6fd2ad-4d4d-40ca-f8b3-f84874e38f82"
      },
      "execution_count": 50,
      "outputs": [
        {
          "output_type": "stream",
          "name": "stdout",
          "text": [
            "Lahmacun is 200 TL.\n",
            "Ingredients used for the meal:\n",
            "ground beef\n",
            "onion\n",
            "tomato\n",
            "flour\n",
            "water\n",
            "salt\n"
          ]
        }
      ]
    }
  ]
}