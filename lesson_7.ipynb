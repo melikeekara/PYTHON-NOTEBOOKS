{
  "nbformat": 4,
  "nbformat_minor": 0,
  "metadata": {
    "colab": {
      "provenance": [],
      "authorship_tag": "ABX9TyNT9+d64koUBrIYvHVG7igD",
      "include_colab_link": true
    },
    "kernelspec": {
      "name": "python3",
      "display_name": "Python 3"
    },
    "language_info": {
      "name": "python"
    }
  },
  "cells": [
    {
      "cell_type": "markdown",
      "metadata": {
        "id": "view-in-github",
        "colab_type": "text"
      },
      "source": [
        "<a href=\"https://colab.research.google.com/github/melikeekara/PYTHON-NOTEBOOKS/blob/main/lesson_7.ipynb\" target=\"_parent\"><img src=\"https://colab.research.google.com/assets/colab-badge.svg\" alt=\"Open In Colab\"/></a>"
      ]
    },
    {
      "cell_type": "code",
      "execution_count": null,
      "metadata": {
        "id": "I3oEWqYr6mHA"
      },
      "outputs": [],
      "source": [
        "class Employee:\n",
        "  def salary_raise(self):\n",
        "    raise_rate=0.1\n",
        "    result=100+100*raise_rate\n",
        "    print(\"Employee:\", result)\n",
        "\n",
        "class CompEng(Employee):\n",
        "  def salaray_raise(self):\n",
        "    raise_rate=0.2\n",
        "    result=100+100*raise_rate\n",
        "    print(\"CompEng:\", result)\n",
        "\n",
        "class EEE(Employee):\n",
        "  def salary_raise(self):\n",
        "    raise_rate=0.3\n",
        "    result=100+100*raise_rate\n",
        "    print(\"EEE:\", result)"
      ]
    },
    {
      "cell_type": "code",
      "source": [
        "emp=Employee()"
      ],
      "metadata": {
        "id": "Bg8d3eB-7nd_"
      },
      "execution_count": null,
      "outputs": []
    },
    {
      "cell_type": "code",
      "source": [
        "ceng=CompEng()"
      ],
      "metadata": {
        "id": "XOY_Tj-U7uJn"
      },
      "execution_count": null,
      "outputs": []
    },
    {
      "cell_type": "code",
      "source": [
        "eee=EEE()"
      ],
      "metadata": {
        "id": "hyLcpkHE7uMR"
      },
      "execution_count": null,
      "outputs": []
    },
    {
      "cell_type": "code",
      "source": [
        "employee_list=[emp,ceng,eee]"
      ],
      "metadata": {
        "id": "cd6eqVFA7uO5"
      },
      "execution_count": null,
      "outputs": []
    },
    {
      "cell_type": "code",
      "source": [
        "for employee in employee_list:\n",
        "  employee.salary_raise()"
      ],
      "metadata": {
        "colab": {
          "base_uri": "https://localhost:8080/"
        },
        "id": "VUEnWHTz7uRT",
        "outputId": "37229821-81be-4f23-b9b5-1b1c4f20ff19"
      },
      "execution_count": null,
      "outputs": [
        {
          "output_type": "stream",
          "name": "stdout",
          "text": [
            "Employee: 110.0\n",
            "Employee: 110.0\n",
            "EEE: 130.0\n"
          ]
        }
      ]
    },
    {
      "cell_type": "markdown",
      "source": [
        "#New Example"
      ],
      "metadata": {
        "id": "N9OzLav08k4f"
      }
    },
    {
      "cell_type": "code",
      "source": [
        "class Bird:\n",
        "  def intro(self):\n",
        "    print(\"There are different types of birds\")\n",
        "\n",
        "  def flight(self):\n",
        "    print(\"Most of the birds can fly but some cannot\")\n",
        "\n",
        "class Parrot(Bird):\n",
        "  def flight(self):\n",
        "    print(\"Parrots can fly\")\n",
        "\n",
        "class Penguin(Bird):\n",
        "  def flight(self):\n",
        "    print(\"Penguin do not fly\")"
      ],
      "metadata": {
        "id": "Ih0hlRqT7uT1"
      },
      "execution_count": null,
      "outputs": []
    },
    {
      "cell_type": "code",
      "source": [
        "obj_bird=Bird()\n",
        "obj_parr=Parrot()\n",
        "obj_peng=Parrot()"
      ],
      "metadata": {
        "id": "I0R6Yt2B7uWc"
      },
      "execution_count": null,
      "outputs": []
    },
    {
      "cell_type": "code",
      "source": [
        "obj_bird.intro()"
      ],
      "metadata": {
        "colab": {
          "base_uri": "https://localhost:8080/"
        },
        "id": "d8ltXeqn9aje",
        "outputId": "1bdc95de-50f6-42db-9e8a-2f7fadb20480"
      },
      "execution_count": null,
      "outputs": [
        {
          "output_type": "stream",
          "name": "stdout",
          "text": [
            "There are different types of birds\n"
          ]
        }
      ]
    },
    {
      "cell_type": "code",
      "source": [
        "obj_bird.flight()"
      ],
      "metadata": {
        "colab": {
          "base_uri": "https://localhost:8080/"
        },
        "id": "5NzH656t9al7",
        "outputId": "f5bb85bc-6090-4349-c2ea-7db8020327ef"
      },
      "execution_count": null,
      "outputs": [
        {
          "output_type": "stream",
          "name": "stdout",
          "text": [
            "Most of the birds can fly but some cannot\n"
          ]
        }
      ]
    },
    {
      "cell_type": "code",
      "source": [
        "obj_parr.intro()"
      ],
      "metadata": {
        "colab": {
          "base_uri": "https://localhost:8080/"
        },
        "id": "Yk2h0siU9ao3",
        "outputId": "034fcbe1-4b72-4289-b9f0-6f5619d85a3e"
      },
      "execution_count": null,
      "outputs": [
        {
          "output_type": "stream",
          "name": "stdout",
          "text": [
            "There are different types of birds\n"
          ]
        }
      ]
    },
    {
      "cell_type": "code",
      "source": [
        "obj_parr.flight()"
      ],
      "metadata": {
        "colab": {
          "base_uri": "https://localhost:8080/"
        },
        "id": "8rQ3-XSZ9aro",
        "outputId": "300592ba-afe9-4ebb-8fe1-b2259c3d0ec5"
      },
      "execution_count": null,
      "outputs": [
        {
          "output_type": "stream",
          "name": "stdout",
          "text": [
            "Parrots can fly\n"
          ]
        }
      ]
    },
    {
      "cell_type": "code",
      "source": [
        "obj_peng.intro()"
      ],
      "metadata": {
        "colab": {
          "base_uri": "https://localhost:8080/"
        },
        "id": "6aIYbzHl9avA",
        "outputId": "587f56bb-bae7-4bf1-840e-27684e57b7e0"
      },
      "execution_count": null,
      "outputs": [
        {
          "output_type": "stream",
          "name": "stdout",
          "text": [
            "There are different types of birds\n"
          ]
        }
      ]
    },
    {
      "cell_type": "code",
      "source": [
        "obj_peng.flight()"
      ],
      "metadata": {
        "colab": {
          "base_uri": "https://localhost:8080/"
        },
        "id": "TN58WYfL9azi",
        "outputId": "efecea14-3abf-476b-dc25-bbc5f38a0e05"
      },
      "execution_count": null,
      "outputs": [
        {
          "output_type": "stream",
          "name": "stdout",
          "text": [
            "Parrots can fly\n"
          ]
        }
      ]
    },
    {
      "cell_type": "markdown",
      "source": [
        "# New Class"
      ],
      "metadata": {
        "id": "AyMRx1cn-bjt"
      }
    },
    {
      "cell_type": "code",
      "source": [
        "from math import pi\n",
        "\n",
        "class Shape:\n",
        "  def __init__(self,name):\n",
        "    self.name=name\n",
        "\n",
        "  def area(self):\n",
        "    pass\n",
        "\n",
        "  def fact(self):\n",
        "    return print(\"I am two dimensional shape.\")\n",
        "\n",
        "  def __str__(self):\n",
        "    return self.name\n",
        "\n",
        "class Square(Shape):\n",
        "  def __init__(self, length):\n",
        "    super().__init__(\"Square\")\n",
        "    self.length=length\n",
        "\n",
        "  def area(self):\n",
        "    return print(\"Square:\", self.length**2)\n",
        "\n",
        "  def fact(self):\n",
        "    return print(\"Squares have each angle equal to 90 degrees\")\n",
        "\n",
        "class Circle(Shape):\n",
        "  def __init__(self, radius):\n",
        "    super().__init__(\"Circle\")\n",
        "    self.radius=radius\n",
        "\n",
        "  def area(self):\n",
        "    return print(\"circle\", pi*self.radius**2)"
      ],
      "metadata": {
        "id": "7FD_Cl8f9bAZ"
      },
      "execution_count": null,
      "outputs": []
    },
    {
      "cell_type": "code",
      "source": [
        "square=Square(4)\n",
        "circle=Circle(7)"
      ],
      "metadata": {
        "id": "zUxKycjlBtie"
      },
      "execution_count": null,
      "outputs": []
    },
    {
      "cell_type": "code",
      "source": [
        "square.area()"
      ],
      "metadata": {
        "colab": {
          "base_uri": "https://localhost:8080/"
        },
        "id": "9Pdok3puCCdb",
        "outputId": "b9a5c873-22b7-453a-cded-f7fc625f14a8"
      },
      "execution_count": null,
      "outputs": [
        {
          "output_type": "stream",
          "name": "stdout",
          "text": [
            "Square: 16\n"
          ]
        }
      ]
    },
    {
      "cell_type": "code",
      "source": [
        "circle.area()"
      ],
      "metadata": {
        "colab": {
          "base_uri": "https://localhost:8080/"
        },
        "id": "3E0-2YlS9bHF",
        "outputId": "d6c69e6b-df21-428d-be90-ee9d2b0ae104"
      },
      "execution_count": null,
      "outputs": [
        {
          "output_type": "stream",
          "name": "stdout",
          "text": [
            "circle 153.93804002589985\n"
          ]
        }
      ]
    },
    {
      "cell_type": "code",
      "source": [
        "shape_list=[square, circle]\n",
        "\n",
        "for shape in shape_list:\n",
        "  shape.area()"
      ],
      "metadata": {
        "colab": {
          "base_uri": "https://localhost:8080/"
        },
        "id": "bLW2bEV57uaA",
        "outputId": "a06817bc-41c7-414d-8aff-5393473492d8"
      },
      "execution_count": null,
      "outputs": [
        {
          "output_type": "stream",
          "name": "stdout",
          "text": [
            "Square: 16\n",
            "circle 153.93804002589985\n"
          ]
        }
      ]
    },
    {
      "cell_type": "code",
      "source": [
        "for shape in shape_list:\n",
        "  shape.fact()"
      ],
      "metadata": {
        "colab": {
          "base_uri": "https://localhost:8080/"
        },
        "id": "m02yMgg5BDOi",
        "outputId": "0bc17180-f195-456b-e571-6bab525f1c68"
      },
      "execution_count": null,
      "outputs": [
        {
          "output_type": "stream",
          "name": "stdout",
          "text": [
            "Squares have each angle equal to 90 degrees\n",
            "I am two dimensional shape.\n"
          ]
        }
      ]
    },
    {
      "cell_type": "markdown",
      "source": [
        "#New Class"
      ],
      "metadata": {
        "id": "mDt2ckGbDxtp"
      }
    },
    {
      "cell_type": "code",
      "source": [
        "class Vehicle:\n",
        "  def desc(self):\n",
        "    print(\"So many categories of vehicle\")\n",
        "  \n",
        "  def wheels(self):\n",
        "    print(\"Differs according to the vehicle catogory\")\n",
        "\n",
        "class Car(Vehicle):\n",
        "  def wheels(self):\n",
        "    print(4)\n",
        "\n",
        "class Bus(Vehicle):\n",
        "  def wheels(self):\n",
        "    print(8)\n"
      ],
      "metadata": {
        "id": "9BCm2kw8BDRQ"
      },
      "execution_count": null,
      "outputs": []
    },
    {
      "cell_type": "code",
      "source": [
        "obj_vehicle=Vehicle()\n",
        "obj_car=Car()\n",
        "obj_bus=Bus()"
      ],
      "metadata": {
        "id": "YMMFT1bPBDUF"
      },
      "execution_count": null,
      "outputs": []
    },
    {
      "cell_type": "code",
      "source": [
        "list_vehicle=[obj_vehicle, obj_car, obj_bus]"
      ],
      "metadata": {
        "id": "HeS1EsbeEckQ"
      },
      "execution_count": null,
      "outputs": []
    },
    {
      "cell_type": "code",
      "source": [
        "for i in list_vehicle:\n",
        "  i.wheels()\n",
        "  i.desc()"
      ],
      "metadata": {
        "colab": {
          "base_uri": "https://localhost:8080/"
        },
        "id": "qysn0TLVBDWw",
        "outputId": "c0b8f0a9-aadf-4c3f-f3c4-84e83cae6cf9"
      },
      "execution_count": null,
      "outputs": [
        {
          "output_type": "stream",
          "name": "stdout",
          "text": [
            "Differs according to the vehicle catogory\n",
            "So many categories of vehicle\n",
            "4\n",
            "So many categories of vehicle\n",
            "8\n",
            "So many categories of vehicle\n"
          ]
        }
      ]
    },
    {
      "cell_type": "markdown",
      "source": [
        "# New Class"
      ],
      "metadata": {
        "id": "Yf1KEb61E_5M"
      }
    },
    {
      "cell_type": "code",
      "source": [
        "class Duck:\n",
        "  def quack(self):\n",
        "    print(\"Quackkkk\")\n",
        "\n",
        "  def feathers(self):\n",
        "    print(\"The duck has whiteand gray feathers\")\n",
        "\n",
        "class Person:\n",
        "  def quack(self):\n",
        "    print(\"The person imitates a duck\")\n",
        "\n",
        "  def feathers(self):\n",
        "    print(\"The person takes a feather from the ground and shows it\")\n",
        "\n",
        "  def name(self):\n",
        "    print(\"Human Human\")"
      ],
      "metadata": {
        "id": "1GQN1Z8dBDZP"
      },
      "execution_count": null,
      "outputs": []
    },
    {
      "cell_type": "code",
      "source": [
        "obj_duck=Duck()\n",
        "obj_person=Person()"
      ],
      "metadata": {
        "id": "w_XuKgWaBDbp"
      },
      "execution_count": null,
      "outputs": []
    },
    {
      "cell_type": "code",
      "source": [
        "list_obj=[obj_duck, obj_person]"
      ],
      "metadata": {
        "id": "bwXWSGnTBDeR"
      },
      "execution_count": null,
      "outputs": []
    },
    {
      "cell_type": "code",
      "source": [
        "for obj in list_obj:\n",
        "  obj_quack()"
      ],
      "metadata": {
        "colab": {
          "base_uri": "https://localhost:8080/",
          "height": 182
        },
        "id": "h4OcUi-vBDg3",
        "outputId": "8657872a-6a0d-45d0-ba5a-532f894fb5d6"
      },
      "execution_count": null,
      "outputs": [
        {
          "output_type": "error",
          "ename": "NameError",
          "evalue": "ignored",
          "traceback": [
            "\u001b[0;31m---------------------------------------------------------------------------\u001b[0m",
            "\u001b[0;31mNameError\u001b[0m                                 Traceback (most recent call last)",
            "\u001b[0;32m<ipython-input-66-3a6f84ace08c>\u001b[0m in \u001b[0;36m<cell line: 1>\u001b[0;34m()\u001b[0m\n\u001b[1;32m      1\u001b[0m \u001b[0;32mfor\u001b[0m \u001b[0mobj\u001b[0m \u001b[0;32min\u001b[0m \u001b[0mlist_obj\u001b[0m\u001b[0;34m:\u001b[0m\u001b[0;34m\u001b[0m\u001b[0;34m\u001b[0m\u001b[0m\n\u001b[0;32m----> 2\u001b[0;31m   \u001b[0mobj_quack\u001b[0m\u001b[0;34m(\u001b[0m\u001b[0;34m)\u001b[0m\u001b[0;34m\u001b[0m\u001b[0;34m\u001b[0m\u001b[0m\n\u001b[0m",
            "\u001b[0;31mNameError\u001b[0m: name 'obj_quack' is not defined"
          ]
        }
      ]
    },
    {
      "cell_type": "code",
      "source": [],
      "metadata": {
        "id": "KHVkkmEtBDjt"
      },
      "execution_count": null,
      "outputs": []
    },
    {
      "cell_type": "code",
      "source": [],
      "metadata": {
        "id": "fWEoaP0NBDnJ"
      },
      "execution_count": null,
      "outputs": []
    }
  ]
}