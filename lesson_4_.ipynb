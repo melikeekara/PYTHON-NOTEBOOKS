{
  "nbformat": 4,
  "nbformat_minor": 0,
  "metadata": {
    "colab": {
      "provenance": [],
      "authorship_tag": "ABX9TyMrJJeSyDsP+1aKTHtreKqH",
      "include_colab_link": true
    },
    "kernelspec": {
      "name": "python3",
      "display_name": "Python 3"
    },
    "language_info": {
      "name": "python"
    }
  },
  "cells": [
    {
      "cell_type": "markdown",
      "metadata": {
        "id": "view-in-github",
        "colab_type": "text"
      },
      "source": [
        "<a href=\"https://colab.research.google.com/github/melikeekara/PYTHON-NOTEBOOKS/blob/main/lesson_4_.ipynb\" target=\"_parent\"><img src=\"https://colab.research.google.com/assets/colab-badge.svg\" alt=\"Open In Colab\"/></a>"
      ]
    },
    {
      "cell_type": "markdown",
      "source": [
        "Looping Through an entire list"
      ],
      "metadata": {
        "id": "Lzr7-_8L6pUw"
      }
    },
    {
      "cell_type": "code",
      "source": [
        "students=[\"melike\",\"ahsen\",\"fadime\",\"rümeysa\"]\n",
        "for student in students:\n",
        "  print (student)"
      ],
      "metadata": {
        "colab": {
          "base_uri": "https://localhost:8080/"
        },
        "id": "jfSJ3A0Y6w-C",
        "outputId": "49feeb89-3571-4c82-d8de-bd94b000549c"
      },
      "execution_count": null,
      "outputs": [
        {
          "output_type": "stream",
          "name": "stdout",
          "text": [
            "melike\n",
            "ahsen\n",
            "fadime\n",
            "rümeysa\n"
          ]
        }
      ]
    },
    {
      "cell_type": "markdown",
      "source": [
        "Doing More Work Within a for Loop"
      ],
      "metadata": {
        "id": "KtovmhDd7PUs"
      }
    },
    {
      "cell_type": "code",
      "source": [
        "student=[\"melike\",\"ahsen\",\"fadime\",\"rümeysa\"]\n",
        "for student in students:\n",
        "  print(f\"{student.title()} attends Python Programming Course!\")"
      ],
      "metadata": {
        "colab": {
          "base_uri": "https://localhost:8080/"
        },
        "id": "eQwHoDLM7EZ2",
        "outputId": "442af3a4-de2a-4279-a53a-ce910951bc8f"
      },
      "execution_count": null,
      "outputs": [
        {
          "output_type": "stream",
          "name": "stdout",
          "text": [
            "Melike attends Python Programming Course!\n",
            "Ahsen attends Python Programming Course!\n",
            "Fadime attends Python Programming Course!\n",
            "Rümeysa attends Python Programming Course!\n"
          ]
        }
      ]
    },
    {
      "cell_type": "markdown",
      "source": [
        "Using range() to Make a List of Numbers"
      ],
      "metadata": {
        "id": "uwfqiUg48ID_"
      }
    },
    {
      "cell_type": "code",
      "source": [
        "numbers=list(range(1,6))\n",
        "print(numbers)"
      ],
      "metadata": {
        "colab": {
          "base_uri": "https://localhost:8080/"
        },
        "id": "Mte_n4NU73P3",
        "outputId": "7f0f3bbe-52bf-4c70-bf0d-87c0d66ac9da"
      },
      "execution_count": null,
      "outputs": [
        {
          "output_type": "stream",
          "name": "stdout",
          "text": [
            "[1, 2, 3, 4, 5]\n"
          ]
        }
      ]
    },
    {
      "cell_type": "code",
      "source": [
        "even_numbers=list(range(2,11,2))\n",
        "print(even_numbers)"
      ],
      "metadata": {
        "colab": {
          "base_uri": "https://localhost:8080/"
        },
        "id": "yhTKivGn8d02",
        "outputId": "04705d7b-1386-4149-c809-27bb276e9b03"
      },
      "execution_count": null,
      "outputs": [
        {
          "output_type": "stream",
          "name": "stdout",
          "text": [
            "[2, 3, 4, 5, 6, 7, 8, 9, 10]\n"
          ]
        }
      ]
    },
    {
      "cell_type": "markdown",
      "source": [
        "!!!!!!!range(first number, last number, step number)"
      ],
      "metadata": {
        "id": "lrNcyMmC8wYs"
      }
    },
    {
      "cell_type": "code",
      "source": [
        "squares=[]\n",
        "for value in range(1,11):\n",
        "  square =value**2\n",
        "  squares.append(square)\n",
        "  print(squares)"
      ],
      "metadata": {
        "colab": {
          "base_uri": "https://localhost:8080/"
        },
        "id": "iVMWezs783bz",
        "outputId": "b6c511c0-3e2c-4fd4-aa87-041db3d0cc7d"
      },
      "execution_count": null,
      "outputs": [
        {
          "output_type": "stream",
          "name": "stdout",
          "text": [
            "[1]\n",
            "[1, 4]\n",
            "[1, 4, 9]\n",
            "[1, 4, 9, 16]\n",
            "[1, 4, 9, 16, 25]\n",
            "[1, 4, 9, 16, 25, 36]\n",
            "[1, 4, 9, 16, 25, 36, 49]\n",
            "[1, 4, 9, 16, 25, 36, 49, 64]\n",
            "[1, 4, 9, 16, 25, 36, 49, 64, 81]\n",
            "[1, 4, 9, 16, 25, 36, 49, 64, 81, 100]\n"
          ]
        }
      ]
    },
    {
      "cell_type": "code",
      "source": [
        "mel=[]\n",
        "for value in range(2,10,5):\n",
        "  mels=value**2\n",
        "  mel.append(mels)\n",
        "  print(mel)"
      ],
      "metadata": {
        "colab": {
          "base_uri": "https://localhost:8080/"
        },
        "id": "Atgtxl-r9VBh",
        "outputId": "659500bc-e80a-424e-94de-be1df23529c5"
      },
      "execution_count": null,
      "outputs": [
        {
          "output_type": "stream",
          "name": "stdout",
          "text": [
            "[4]\n",
            "[4, 49]\n"
          ]
        }
      ]
    },
    {
      "cell_type": "markdown",
      "source": [
        "Simple Statistics with a List of Numbers"
      ],
      "metadata": {
        "id": "tdNx05cq-Byc"
      }
    },
    {
      "cell_type": "code",
      "source": [
        "digit=list(range(0,10))\n",
        "print(digit)"
      ],
      "metadata": {
        "colab": {
          "base_uri": "https://localhost:8080/"
        },
        "id": "6EeHXuCB96Oo",
        "outputId": "0011f4df-cbaa-46e5-deb6-b364002b911a"
      },
      "execution_count": null,
      "outputs": [
        {
          "output_type": "stream",
          "name": "stdout",
          "text": [
            "[0, 1, 2, 3, 4, 5, 6, 7, 8, 9]\n"
          ]
        }
      ]
    },
    {
      "cell_type": "code",
      "source": [
        "min(digit)"
      ],
      "metadata": {
        "colab": {
          "base_uri": "https://localhost:8080/"
        },
        "id": "tN4CgF-s-XD4",
        "outputId": "33ba1e02-c8b3-4afc-ac82-798fce1750b7"
      },
      "execution_count": null,
      "outputs": [
        {
          "output_type": "execute_result",
          "data": {
            "text/plain": [
              "0"
            ]
          },
          "metadata": {},
          "execution_count": 16
        }
      ]
    },
    {
      "cell_type": "code",
      "source": [
        "max(digit)"
      ],
      "metadata": {
        "colab": {
          "base_uri": "https://localhost:8080/"
        },
        "id": "JF1M2kvH-ZXK",
        "outputId": "e3e1c11a-a16d-4ee0-e39f-7c5776ce8b39"
      },
      "execution_count": null,
      "outputs": [
        {
          "output_type": "execute_result",
          "data": {
            "text/plain": [
              "9"
            ]
          },
          "metadata": {},
          "execution_count": 17
        }
      ]
    },
    {
      "cell_type": "code",
      "source": [
        "sum(digit)"
      ],
      "metadata": {
        "colab": {
          "base_uri": "https://localhost:8080/"
        },
        "id": "fyho0iwh-cwe",
        "outputId": "dd4c12a4-e0cc-4b27-c35d-057495a461c7"
      },
      "execution_count": null,
      "outputs": [
        {
          "output_type": "execute_result",
          "data": {
            "text/plain": [
              "45"
            ]
          },
          "metadata": {},
          "execution_count": 18
        }
      ]
    },
    {
      "cell_type": "markdown",
      "source": [
        "List Comprehensions"
      ],
      "metadata": {
        "id": "DDMaOno7-j9p"
      }
    },
    {
      "cell_type": "code",
      "source": [
        "squares=[value**2 for value in range(1,11)]\n",
        "print(squares)"
      ],
      "metadata": {
        "colab": {
          "base_uri": "https://localhost:8080/"
        },
        "id": "Eb2e8ovY-c7s",
        "outputId": "1780eb8f-379d-4ef2-8134-96ee5916d178"
      },
      "execution_count": null,
      "outputs": [
        {
          "output_type": "stream",
          "name": "stdout",
          "text": [
            "[1, 4, 9, 16, 25, 36, 49, 64, 81, 100]\n"
          ]
        }
      ]
    },
    {
      "cell_type": "markdown",
      "source": [
        "Working with Part of a List"
      ],
      "metadata": {
        "id": "ppj23_Oj_H_G"
      }
    },
    {
      "cell_type": "code",
      "source": [
        "players=[\"messi\", \"ronaldo\", \"zidane\", \"enner\", \"pogba\"]"
      ],
      "metadata": {
        "id": "sEq4PYZQ-c_F"
      },
      "execution_count": null,
      "outputs": []
    },
    {
      "cell_type": "code",
      "source": [
        "print(players[0:3])"
      ],
      "metadata": {
        "colab": {
          "base_uri": "https://localhost:8080/"
        },
        "id": "8U3IUB-a_bEe",
        "outputId": "3ce004fa-815c-4848-fc47-2fa642c2171a"
      },
      "execution_count": null,
      "outputs": [
        {
          "output_type": "stream",
          "name": "stdout",
          "text": [
            "['messi', 'ronaldo', 'zidane']\n"
          ]
        }
      ]
    },
    {
      "cell_type": "code",
      "source": [
        "print(players[1:4])"
      ],
      "metadata": {
        "colab": {
          "base_uri": "https://localhost:8080/"
        },
        "id": "dHKuEeVI-dm0",
        "outputId": "5fcf12d4-6b13-41dd-9eed-fedc22affa21"
      },
      "execution_count": null,
      "outputs": [
        {
          "output_type": "stream",
          "name": "stdout",
          "text": [
            "['ronaldo', 'zidane', 'enner']\n"
          ]
        }
      ]
    },
    {
      "cell_type": "code",
      "source": [
        "print(players[:4])"
      ],
      "metadata": {
        "id": "kqp1sUfC-dpt",
        "colab": {
          "base_uri": "https://localhost:8080/"
        },
        "outputId": "17d9044c-bd35-4b18-d470-cd9b9bc20d22"
      },
      "execution_count": null,
      "outputs": [
        {
          "output_type": "stream",
          "name": "stdout",
          "text": [
            "['messi', 'ronaldo', 'zidane', 'enner']\n"
          ]
        }
      ]
    },
    {
      "cell_type": "code",
      "source": [
        "print(players[2:])"
      ],
      "metadata": {
        "id": "0JFUQptK-dsP",
        "colab": {
          "base_uri": "https://localhost:8080/"
        },
        "outputId": "16ef71af-385a-4a3e-cb44-21c1b5b37eb1"
      },
      "execution_count": null,
      "outputs": [
        {
          "output_type": "stream",
          "name": "stdout",
          "text": [
            "['zidane', 'enner', 'pogba']\n"
          ]
        }
      ]
    },
    {
      "cell_type": "code",
      "source": [
        "print(players[-3:])"
      ],
      "metadata": {
        "id": "UQnbk5O0-duu",
        "colab": {
          "base_uri": "https://localhost:8080/"
        },
        "outputId": "1ef6b098-c816-4c10-8462-20941f8ecb20"
      },
      "execution_count": null,
      "outputs": [
        {
          "output_type": "stream",
          "name": "stdout",
          "text": [
            "['zidane', 'enner', 'pogba']\n"
          ]
        }
      ]
    },
    {
      "cell_type": "markdown",
      "source": [
        "Looping Through a Slice"
      ],
      "metadata": {
        "id": "YEXPWiiekIXK"
      }
    },
    {
      "cell_type": "code",
      "source": [
        "players=[\"messi\", \"ronaldo\", \"zidane\", \"enner\", \"pogba\"]\n",
        "print(\"Starting our program\")\n",
        "for player in players[:3]:\n",
        "  print(player.title())"
      ],
      "metadata": {
        "id": "JdwAN8la-dxX",
        "colab": {
          "base_uri": "https://localhost:8080/"
        },
        "outputId": "88c1534b-fe3b-4f3a-8954-b3cc334f46af"
      },
      "execution_count": null,
      "outputs": [
        {
          "output_type": "stream",
          "name": "stdout",
          "text": [
            "Starting our program\n",
            "Messi\n",
            "Ronaldo\n",
            "Zidane\n"
          ]
        }
      ]
    },
    {
      "cell_type": "markdown",
      "source": [
        "Copying a List"
      ],
      "metadata": {
        "id": "OGM00EVgkqqb"
      }
    },
    {
      "cell_type": "code",
      "source": [
        "my_foods=[\"pizza\",\"falafel\",\"carrot cake\"]\n",
        "friend_food=my_foods[:]\n",
        "print(\"M fovorite foods are:\")\n",
        "print(my_foods)\n",
        "print(\"\\nMY FRİEND'S FAVORİTE FOODS ARE:\")\n",
        "print(friend_food)\n",
        "\n"
      ],
      "metadata": {
        "id": "xQgrfRnD-d0w",
        "colab": {
          "base_uri": "https://localhost:8080/"
        },
        "outputId": "1201b5b1-d053-4a78-c571-bbf70a3d6837"
      },
      "execution_count": null,
      "outputs": [
        {
          "output_type": "stream",
          "name": "stdout",
          "text": [
            "M fovorite foods are:\n",
            "['pizza', 'falafel', 'carrot cake']\n",
            "\n",
            "mY FRİEND'S FAVORİTE FOODS ARE:\n",
            "['pizza', 'falafel', 'carrot cake']\n"
          ]
        }
      ]
    },
    {
      "cell_type": "code",
      "source": [
        "print(my_foods)"
      ],
      "metadata": {
        "colab": {
          "base_uri": "https://localhost:8080/"
        },
        "id": "fp6hZi4SlbHj",
        "outputId": "d2bdbdbe-c999-4273-f682-4fb5101df33e"
      },
      "execution_count": null,
      "outputs": [
        {
          "output_type": "stream",
          "name": "stdout",
          "text": [
            "['pizza', 'falafel', 'carrot cake']\n"
          ]
        }
      ]
    },
    {
      "cell_type": "code",
      "source": [
        "mel_food=my_foods"
      ],
      "metadata": {
        "id": "JHM5_HyGlbKt"
      },
      "execution_count": null,
      "outputs": []
    },
    {
      "cell_type": "code",
      "source": [
        "print(mel_food)"
      ],
      "metadata": {
        "colab": {
          "base_uri": "https://localhost:8080/"
        },
        "id": "2ceQKw5AlbOO",
        "outputId": "0fbbcff2-c84a-47d6-ace7-cdb519d5ca71"
      },
      "execution_count": null,
      "outputs": [
        {
          "output_type": "stream",
          "name": "stdout",
          "text": [
            "['pizza', 'falafel', 'carrot cake']\n"
          ]
        }
      ]
    },
    {
      "cell_type": "markdown",
      "source": [
        "# Functions\n",
        "In python, a function is defined using def keyword"
      ],
      "metadata": {
        "id": "iPf9Bk1jlzfx"
      }
    },
    {
      "cell_type": "code",
      "source": [
        "def function():\n",
        "  print(\"PYTHON ÖĞRENMEK İSTİYORUM.\")"
      ],
      "metadata": {
        "id": "eOsHDY75lbXU"
      },
      "execution_count": null,
      "outputs": []
    },
    {
      "cell_type": "code",
      "source": [
        "function()"
      ],
      "metadata": {
        "colab": {
          "base_uri": "https://localhost:8080/"
        },
        "id": "tq5_YjpVlbfK",
        "outputId": "a9dad0a8-d0a0-44ea-fe7f-8d6faff48750"
      },
      "execution_count": null,
      "outputs": [
        {
          "output_type": "stream",
          "name": "stdout",
          "text": [
            "PYTHON ÖĞRENMEK İSTİYORUM.\n"
          ]
        }
      ]
    },
    {
      "cell_type": "code",
      "source": [
        "def programming():\n",
        "  print(\"attend the lesson\")"
      ],
      "metadata": {
        "id": "0FbuGIBblbhr"
      },
      "execution_count": null,
      "outputs": []
    },
    {
      "cell_type": "code",
      "source": [
        "programming()"
      ],
      "metadata": {
        "colab": {
          "base_uri": "https://localhost:8080/"
        },
        "id": "5VkVFWelm3VB",
        "outputId": "f8385353-19a3-46df-f265-0d2e51b3f63c"
      },
      "execution_count": null,
      "outputs": [
        {
          "output_type": "stream",
          "name": "stdout",
          "text": [
            "attend the lesson\n"
          ]
        }
      ]
    },
    {
      "cell_type": "code",
      "source": [
        "def takesquare(number1):\n",
        "  result=number1*number1\n",
        "  print(result)"
      ],
      "metadata": {
        "id": "GAuE3j9ym3X8"
      },
      "execution_count": null,
      "outputs": []
    },
    {
      "cell_type": "code",
      "source": [
        "takesquare(5)"
      ],
      "metadata": {
        "colab": {
          "base_uri": "https://localhost:8080/"
        },
        "id": "Q17M_woDm3bW",
        "outputId": "1c7eb920-0fc5-4c26-aa07-10f229060bf4"
      },
      "execution_count": null,
      "outputs": [
        {
          "output_type": "stream",
          "name": "stdout",
          "text": [
            "25\n"
          ]
        }
      ]
    },
    {
      "cell_type": "code",
      "source": [
        "takesquare"
      ],
      "metadata": {
        "id": "Yi9L2niA4VVC"
      },
      "execution_count": null,
      "outputs": []
    },
    {
      "cell_type": "code",
      "source": [
        "def write(name,surname):\n",
        "  print(\"your fullname:\", name,\"\",surname)"
      ],
      "metadata": {
        "id": "jEbEBY9Znedt"
      },
      "execution_count": null,
      "outputs": []
    },
    {
      "cell_type": "code",
      "source": [
        "write(\"melike\",\"kara\")"
      ],
      "metadata": {
        "colab": {
          "base_uri": "https://localhost:8080/"
        },
        "id": "ZE2ZxfQBnef_",
        "outputId": "ecb3a43c-cfb7-422a-e80d-bfac725e901b"
      },
      "execution_count": null,
      "outputs": [
        {
          "output_type": "stream",
          "name": "stdout",
          "text": [
            "your fullname: melike  kara\n"
          ]
        }
      ]
    },
    {
      "cell_type": "code",
      "source": [
        "def describePet(animal_type,pet_name):\n",
        "  print(f\"\\nI have a {animal_type}.\")\n",
        "  print(f\"\\n {pet_name} is mine\")"
      ],
      "metadata": {
        "id": "144K2WHN4Gzd"
      },
      "execution_count": null,
      "outputs": []
    },
    {
      "cell_type": "code",
      "source": [
        "describePet(\"dog\",\"max\")"
      ],
      "metadata": {
        "colab": {
          "base_uri": "https://localhost:8080/"
        },
        "id": "lCTZBw9L4G8P",
        "outputId": "74aa3a3b-810b-48f9-8791-b87b8ba4af1f"
      },
      "execution_count": null,
      "outputs": [
        {
          "output_type": "stream",
          "name": "stdout",
          "text": [
            "\n",
            "I have a dog.\n",
            "\n",
            " max is mine\n"
          ]
        }
      ]
    },
    {
      "cell_type": "markdown",
      "source": [
        "# Arbitrary Arguments, *args\n",
        "If you do not know how many argumments that will be passed into your function, add a*before the parameter name in the function definition. This way the function will receive a tuple of arguments, and can access the items accordingly."
      ],
      "metadata": {
        "id": "8Ho6BgxH6V93"
      }
    },
    {
      "cell_type": "code",
      "source": [
        "def func(*bestfriends):\n",
        "  print(\"Your double best friend's name is\", bestfriends[0]) "
      ],
      "metadata": {
        "id": "RoPfX4cw4HIU"
      },
      "execution_count": null,
      "outputs": []
    },
    {
      "cell_type": "code",
      "source": [
        "func(\"fadik\",\"rüm\",\"assen\",\"\")"
      ],
      "metadata": {
        "colab": {
          "base_uri": "https://localhost:8080/"
        },
        "id": "jLBsS2iz4HL2",
        "outputId": "6df4cc87-1b52-478a-f936-2a5f7c024320"
      },
      "execution_count": null,
      "outputs": [
        {
          "output_type": "stream",
          "name": "stdout",
          "text": [
            "Your double best friend's name is fadik\n"
          ]
        }
      ]
    },
    {
      "cell_type": "code",
      "source": [
        "func(\"ah\",\"fad\")"
      ],
      "metadata": {
        "colab": {
          "base_uri": "https://localhost:8080/"
        },
        "id": "xDu1ylYM_kxx",
        "outputId": "ecc28d49-53e3-433a-e970-9e8963449975"
      },
      "execution_count": null,
      "outputs": [
        {
          "output_type": "stream",
          "name": "stdout",
          "text": [
            "Your double best friend's name is ah\n"
          ]
        }
      ]
    },
    {
      "cell_type": "markdown",
      "source": [
        "# KEYWORD ARGUMENTS \n",
        "You can also send arguments with the key=value syntax.\n",
        "This way the order of the arguments does not matter."
      ],
      "metadata": {
        "id": "mHcrwwvv8gAw"
      }
    },
    {
      "cell_type": "code",
      "source": [
        "def girls(girl1, girl2, girl3):\n",
        "  print(\"The youngest girl is \"+ girl1)"
      ],
      "metadata": {
        "id": "gw69KTyF8Xav"
      },
      "execution_count": null,
      "outputs": []
    },
    {
      "cell_type": "code",
      "source": [
        "girls(girl1=\"ahsen\", girl2=\"fadik\", girl3=\"rümeysa\")"
      ],
      "metadata": {
        "colab": {
          "base_uri": "https://localhost:8080/"
        },
        "id": "SoBdt_4t8XkK",
        "outputId": "22381b24-39f1-41e5-ba37-5666053d280c"
      },
      "execution_count": null,
      "outputs": [
        {
          "output_type": "stream",
          "name": "stdout",
          "text": [
            "the youngest girl is ahsen\n"
          ]
        }
      ]
    },
    {
      "cell_type": "markdown",
      "source": [
        "# Arbitrary Keyword Arguments, **kwargs\n",
        "If you do not know how many keyword arguments that will be passeed into your function, add two asteriks : **before the parameter name in the function definition.\n",
        "This way the function will receive a dictionary of arguments, and can access the items accordingly."
      ],
      "metadata": {
        "id": "MEcwIGkY9itv"
      }
    },
    {
      "cell_type": "code",
      "source": [
        "def children(**child):\n",
        "  print(\"child name:\" + child[\"name\"])"
      ],
      "metadata": {
        "id": "6hH3dMTx9bax"
      },
      "execution_count": null,
      "outputs": []
    },
    {
      "cell_type": "code",
      "source": [
        "children(name=\"melike\", surname=\"kara\")"
      ],
      "metadata": {
        "colab": {
          "base_uri": "https://localhost:8080/"
        },
        "id": "uR423eCSBC9D",
        "outputId": "694df095-da73-4814-805c-cb5b6484dd03"
      },
      "execution_count": null,
      "outputs": [
        {
          "output_type": "stream",
          "name": "stdout",
          "text": [
            "child name:melike\n"
          ]
        }
      ]
    },
    {
      "cell_type": "code",
      "source": [
        "children(surname=\"kara\")"
      ],
      "metadata": {
        "colab": {
          "base_uri": "https://localhost:8080/",
          "height": 235
        },
        "id": "jCUQU-vHBSCx",
        "outputId": "f1bd2258-0493-4fd7-fd43-da1748b8771d"
      },
      "execution_count": null,
      "outputs": [
        {
          "output_type": "error",
          "ename": "KeyError",
          "evalue": "ignored",
          "traceback": [
            "\u001b[0;31m---------------------------------------------------------------------------\u001b[0m",
            "\u001b[0;31mKeyError\u001b[0m                                  Traceback (most recent call last)",
            "\u001b[0;32m<ipython-input-44-bfd7f0a99901>\u001b[0m in \u001b[0;36m<module>\u001b[0;34m\u001b[0m\n\u001b[0;32m----> 1\u001b[0;31m \u001b[0mchildren\u001b[0m\u001b[0;34m(\u001b[0m\u001b[0msurname\u001b[0m\u001b[0;34m=\u001b[0m\u001b[0;34m\"kara\"\u001b[0m\u001b[0;34m)\u001b[0m\u001b[0;34m\u001b[0m\u001b[0;34m\u001b[0m\u001b[0m\n\u001b[0m",
            "\u001b[0;32m<ipython-input-43-3750e73b517c>\u001b[0m in \u001b[0;36mchildren\u001b[0;34m(**child)\u001b[0m\n\u001b[1;32m      1\u001b[0m \u001b[0;32mdef\u001b[0m \u001b[0mchildren\u001b[0m\u001b[0;34m(\u001b[0m\u001b[0;34m**\u001b[0m\u001b[0mchild\u001b[0m\u001b[0;34m)\u001b[0m\u001b[0;34m:\u001b[0m\u001b[0;34m\u001b[0m\u001b[0;34m\u001b[0m\u001b[0m\n\u001b[0;32m----> 2\u001b[0;31m   \u001b[0mprint\u001b[0m\u001b[0;34m(\u001b[0m\u001b[0;34m\"child name:\"\u001b[0m \u001b[0;34m+\u001b[0m \u001b[0mchild\u001b[0m\u001b[0;34m[\u001b[0m\u001b[0;34m\"name\"\u001b[0m\u001b[0;34m]\u001b[0m\u001b[0;34m)\u001b[0m\u001b[0;34m\u001b[0m\u001b[0;34m\u001b[0m\u001b[0m\n\u001b[0m",
            "\u001b[0;31mKeyError\u001b[0m: 'name'"
          ]
        }
      ]
    },
    {
      "cell_type": "code",
      "source": [
        "def my_function(food):\n",
        "  for x in food:\n",
        "    print(x)"
      ],
      "metadata": {
        "id": "Bp3MbUFeB2k2"
      },
      "execution_count": null,
      "outputs": []
    },
    {
      "cell_type": "code",
      "source": [
        "fruits=[\"banana\",\"cherry\",\"apple\"]"
      ],
      "metadata": {
        "id": "0Xys3ACWB3Ff"
      },
      "execution_count": null,
      "outputs": []
    },
    {
      "cell_type": "code",
      "source": [
        "my_function(fruits)"
      ],
      "metadata": {
        "colab": {
          "base_uri": "https://localhost:8080/"
        },
        "id": "7Urzd9SHB3Hy",
        "outputId": "5f3a6d40-0e35-4883-a981-a0a8662d81b0"
      },
      "execution_count": null,
      "outputs": [
        {
          "output_type": "stream",
          "name": "stdout",
          "text": [
            "banana\n",
            "cherry\n",
            "apple\n"
          ]
        }
      ]
    },
    {
      "cell_type": "markdown",
      "source": [
        "# Python Lambda\n",
        "A lambda function is a small anonymous function.\n",
        "A lambda function can take any number of arguments, but can only have one expression."
      ],
      "metadata": {
        "id": "eaY08hCKCyxb"
      }
    },
    {
      "cell_type": "code",
      "source": [
        "def x(a):\n",
        "  a=a+10\n",
        "  return a"
      ],
      "metadata": {
        "id": "NxD_3XS3B3KM"
      },
      "execution_count": null,
      "outputs": []
    },
    {
      "cell_type": "code",
      "source": [
        "b=x(5)"
      ],
      "metadata": {
        "id": "-noZcxevB3M1"
      },
      "execution_count": null,
      "outputs": []
    },
    {
      "cell_type": "code",
      "source": [
        "print(b)"
      ],
      "metadata": {
        "colab": {
          "base_uri": "https://localhost:8080/"
        },
        "id": "uojLkm44B3Pd",
        "outputId": "b5ffd4e4-ab23-4732-c671-ff8e7056568e"
      },
      "execution_count": null,
      "outputs": [
        {
          "output_type": "stream",
          "name": "stdout",
          "text": [
            "15\n"
          ]
        }
      ]
    },
    {
      "cell_type": "code",
      "source": [
        "x= lambda a: a+10"
      ],
      "metadata": {
        "id": "zmMvl4XpB3R3"
      },
      "execution_count": null,
      "outputs": []
    },
    {
      "cell_type": "code",
      "source": [
        "print(x(5))"
      ],
      "metadata": {
        "colab": {
          "base_uri": "https://localhost:8080/"
        },
        "id": "7Lutu_D2B3Ui",
        "outputId": "f69f3f8f-466b-48c3-c0cd-60744501e1c6"
      },
      "execution_count": null,
      "outputs": [
        {
          "output_type": "stream",
          "name": "stdout",
          "text": [
            "15\n"
          ]
        }
      ]
    },
    {
      "cell_type": "code",
      "source": [
        "x =lambda y: y*15"
      ],
      "metadata": {
        "id": "R5of6qgiD3lK"
      },
      "execution_count": null,
      "outputs": []
    },
    {
      "cell_type": "code",
      "source": [
        "print(x(7))"
      ],
      "metadata": {
        "colab": {
          "base_uri": "https://localhost:8080/"
        },
        "id": "8yAQfy73D3nh",
        "outputId": "0ff60e0b-986e-4bfd-d5df-0bb87850d8df"
      },
      "execution_count": null,
      "outputs": [
        {
          "output_type": "stream",
          "name": "stdout",
          "text": [
            "105\n"
          ]
        }
      ]
    },
    {
      "cell_type": "markdown",
      "source": [
        "# Why Use Lambda Functions\n",
        "The power of lambda is better shown when you use them as an anonymous function inside another function.\n",
        "Say you have a function definition that takess one argument, and that argument will be multiplied with an unknown number:\n"
      ],
      "metadata": {
        "id": "ncmXqWR8EH-s"
      }
    },
    {
      "cell_type": "code",
      "source": [
        "def givenNumber(number1):\n",
        "  return lambda number2 : number2+number1"
      ],
      "metadata": {
        "id": "T3VMSHbWD3qS"
      },
      "execution_count": null,
      "outputs": []
    },
    {
      "cell_type": "code",
      "source": [
        "second=givenNumber(10)"
      ],
      "metadata": {
        "id": "-obZ2mRED3tu"
      },
      "execution_count": null,
      "outputs": []
    },
    {
      "cell_type": "code",
      "source": [
        "print(second(20))"
      ],
      "metadata": {
        "colab": {
          "base_uri": "https://localhost:8080/"
        },
        "id": "3a4FuEzqHD49",
        "outputId": "3f651ec5-fea6-4d51-a429-b5da6ce1dc4c"
      },
      "execution_count": null,
      "outputs": [
        {
          "output_type": "stream",
          "name": "stdout",
          "text": [
            "30\n"
          ]
        }
      ]
    },
    {
      "cell_type": "code",
      "source": [
        "def myfunc(n):\n",
        "  return lambda a:a*n"
      ],
      "metadata": {
        "id": "dcCivrJtHD8F"
      },
      "execution_count": null,
      "outputs": []
    },
    {
      "cell_type": "code",
      "source": [
        "mydoubler=myfunc(2)\n",
        "print(mydoubler(11))"
      ],
      "metadata": {
        "colab": {
          "base_uri": "https://localhost:8080/"
        },
        "id": "QWgGQQPCHD_E",
        "outputId": "cc6b505c-a319-44d1-ea6e-5534f4201167"
      },
      "execution_count": null,
      "outputs": [
        {
          "output_type": "stream",
          "name": "stdout",
          "text": [
            "22\n"
          ]
        }
      ]
    },
    {
      "cell_type": "code",
      "source": [
        "def myfunc(m):\n",
        "  return m"
      ],
      "metadata": {
        "id": "UHS1v7-SJds_"
      },
      "execution_count": null,
      "outputs": []
    },
    {
      "cell_type": "code",
      "source": [
        "myfunc(5)"
      ],
      "metadata": {
        "colab": {
          "base_uri": "https://localhost:8080/"
        },
        "id": "JMXLd3QoJpdf",
        "outputId": "cf4a398e-d892-4ecb-b3f0-b5008c4ade0b"
      },
      "execution_count": null,
      "outputs": [
        {
          "output_type": "execute_result",
          "data": {
            "text/plain": [
              "5"
            ]
          },
          "metadata": {},
          "execution_count": 16
        }
      ]
    },
    {
      "cell_type": "code",
      "source": [
        "result=myfunc(5)"
      ],
      "metadata": {
        "id": "EhJG6EPXJpgZ"
      },
      "execution_count": null,
      "outputs": []
    },
    {
      "cell_type": "code",
      "source": [
        "print(result)"
      ],
      "metadata": {
        "colab": {
          "base_uri": "https://localhost:8080/"
        },
        "id": "iOruVixVJpji",
        "outputId": "851b00a6-ddbd-41cb-e9d8-c8da9ff7c8cf"
      },
      "execution_count": null,
      "outputs": [
        {
          "output_type": "stream",
          "name": "stdout",
          "text": [
            "5\n"
          ]
        }
      ]
    },
    {
      "cell_type": "code",
      "source": [
        "x=int(input(\"write x value:\"))\n",
        "y=int(input(\"write y value:\"))"
      ],
      "metadata": {
        "colab": {
          "base_uri": "https://localhost:8080/"
        },
        "id": "T8Cv7w-PLjGh",
        "outputId": "36628a62-25d1-4c5f-f878-c737cef815f1"
      },
      "execution_count": null,
      "outputs": [
        {
          "name": "stdout",
          "output_type": "stream",
          "text": [
            "write x value:15\n",
            "write y value:25\n"
          ]
        }
      ]
    },
    {
      "cell_type": "code",
      "source": [
        "def findGreat(x,y):\n",
        "  if x>y:\n",
        "    return x\n",
        "  else:\n",
        "    return y"
      ],
      "metadata": {
        "id": "5OY1y-c7KkjG"
      },
      "execution_count": null,
      "outputs": []
    },
    {
      "cell_type": "code",
      "source": [
        "great=findGreat(x,y)"
      ],
      "metadata": {
        "id": "tb6M7qKjKkmf"
      },
      "execution_count": null,
      "outputs": []
    },
    {
      "cell_type": "code",
      "source": [
        "print(great)"
      ],
      "metadata": {
        "colab": {
          "base_uri": "https://localhost:8080/"
        },
        "id": "oC_kJMmLKkpm",
        "outputId": "7b5d79d0-b6e6-4447-f3a3-876a9d15d9ec"
      },
      "execution_count": null,
      "outputs": [
        {
          "output_type": "stream",
          "name": "stdout",
          "text": [
            "25\n"
          ]
        }
      ]
    },
    {
      "cell_type": "code",
      "source": [
        "def myfunc(x):\n",
        "  return lambda a : a*x"
      ],
      "metadata": {
        "id": "3OgLgJzbKksC"
      },
      "execution_count": null,
      "outputs": []
    },
    {
      "cell_type": "code",
      "source": [
        "var=myfunc(20)"
      ],
      "metadata": {
        "id": "tkJ7p6KzKku2"
      },
      "execution_count": null,
      "outputs": []
    },
    {
      "cell_type": "code",
      "source": [
        "var(5)"
      ],
      "metadata": {
        "colab": {
          "base_uri": "https://localhost:8080/"
        },
        "id": "v3jALzxEMK69",
        "outputId": "b07f1167-d4f6-4a62-93c9-16b1c5ef53fa"
      },
      "execution_count": null,
      "outputs": [
        {
          "output_type": "execute_result",
          "data": {
            "text/plain": [
              "100"
            ]
          },
          "metadata": {},
          "execution_count": 30
        }
      ]
    },
    {
      "cell_type": "code",
      "source": [
        "def where(city):\n",
        "  print(\"i am from\", city)"
      ],
      "metadata": {
        "id": "qJ5szCMWMK9u"
      },
      "execution_count": null,
      "outputs": []
    },
    {
      "cell_type": "code",
      "source": [
        "where(\"Antalya\")"
      ],
      "metadata": {
        "colab": {
          "base_uri": "https://localhost:8080/"
        },
        "id": "bnY2GHiFMLAa",
        "outputId": "d091d5e4-1ebb-4166-971e-aa541877c524"
      },
      "execution_count": null,
      "outputs": [
        {
          "output_type": "stream",
          "name": "stdout",
          "text": [
            "i am from Antalya\n"
          ]
        }
      ]
    },
    {
      "cell_type": "code",
      "source": [
        "def passing(midterm, final):\n",
        "  meanMidterm=midterm*0,4\n",
        "  meanFinal=final*0.6\n",
        "  meanGeneral= meanMidterm +  meanFinal\n",
        "  if meanGeneral>45 and meanGeneral<60:\n",
        "    print(\"Your meanGeneral:\", meanGeneral)\n",
        "    print(\"You pass but you habe to work hard\")\n",
        "  elif meanGeneral>60:\n",
        "    print(\"Your meanGeneral:\", meanGeneral)\n",
        "    print(\"Yes pass the leson and dont worry\")\n",
        "  else:\n",
        "    print(\"You dont pass\")\n",
        "    print(\"Your meanGeneral:\", meanGeneral)"
      ],
      "metadata": {
        "id": "ZpTbSyb2MLDI"
      },
      "execution_count": null,
      "outputs": []
    },
    {
      "cell_type": "code",
      "source": [
        "meanMidterm=int(input(\"write midterm exam grade:\"))\n",
        "meanFinal=int(input(\"write final exam grade:\"))"
      ],
      "metadata": {
        "colab": {
          "base_uri": "https://localhost:8080/"
        },
        "id": "sGJC3YdkMLFj",
        "outputId": "6101a6e7-a267-4380-d2a1-a7ce3dfcac41"
      },
      "execution_count": null,
      "outputs": [
        {
          "name": "stdout",
          "output_type": "stream",
          "text": [
            "write midterm exam grade:45\n",
            "write final exam grade:50\n"
          ]
        }
      ]
    },
    {
      "cell_type": "code",
      "source": [
        "passing(midterm, final)"
      ],
      "metadata": {
        "colab": {
          "base_uri": "https://localhost:8080/",
          "height": 287
        },
        "id": "wDr4TkX4Y1aW",
        "outputId": "2f9f09ac-d192-4d39-fdf0-193fe57b5525"
      },
      "execution_count": null,
      "outputs": [
        {
          "output_type": "error",
          "ename": "TypeError",
          "evalue": "ignored",
          "traceback": [
            "\u001b[0;31m---------------------------------------------------------------------------\u001b[0m",
            "\u001b[0;31mTypeError\u001b[0m                                 Traceback (most recent call last)",
            "\u001b[0;32m<ipython-input-21-5e1df0910482>\u001b[0m in \u001b[0;36m<module>\u001b[0;34m\u001b[0m\n\u001b[0;32m----> 1\u001b[0;31m \u001b[0mpassing\u001b[0m\u001b[0;34m(\u001b[0m\u001b[0mmidterm\u001b[0m\u001b[0;34m,\u001b[0m \u001b[0mfinal\u001b[0m\u001b[0;34m)\u001b[0m\u001b[0;34m\u001b[0m\u001b[0;34m\u001b[0m\u001b[0m\n\u001b[0m",
            "\u001b[0;32m<ipython-input-17-d1c954b4cf46>\u001b[0m in \u001b[0;36mpassing\u001b[0;34m(midterm, final)\u001b[0m\n\u001b[1;32m      2\u001b[0m   \u001b[0mmeanMidterm\u001b[0m\u001b[0;34m=\u001b[0m\u001b[0mmidterm\u001b[0m\u001b[0;34m*\u001b[0m\u001b[0;36m0\u001b[0m\u001b[0;34m,\u001b[0m\u001b[0;36m4\u001b[0m\u001b[0;34m\u001b[0m\u001b[0;34m\u001b[0m\u001b[0m\n\u001b[1;32m      3\u001b[0m   \u001b[0mmeanFinal\u001b[0m\u001b[0;34m=\u001b[0m\u001b[0mfinal\u001b[0m\u001b[0;34m*\u001b[0m\u001b[0;36m0.6\u001b[0m\u001b[0;34m\u001b[0m\u001b[0;34m\u001b[0m\u001b[0m\n\u001b[0;32m----> 4\u001b[0;31m   \u001b[0mmeanGeneral\u001b[0m\u001b[0;34m=\u001b[0m\u001b[0mmeanMidterm\u001b[0m \u001b[0;34m+\u001b[0m  \u001b[0mmeanFinal\u001b[0m\u001b[0;34m\u001b[0m\u001b[0;34m\u001b[0m\u001b[0m\n\u001b[0m\u001b[1;32m      5\u001b[0m   \u001b[0;32mif\u001b[0m \u001b[0mmeanGeneral\u001b[0m\u001b[0;34m>\u001b[0m\u001b[0;36m45\u001b[0m \u001b[0;32mand\u001b[0m \u001b[0mmeanGeneral\u001b[0m\u001b[0;34m<\u001b[0m\u001b[0;36m60\u001b[0m\u001b[0;34m:\u001b[0m\u001b[0;34m\u001b[0m\u001b[0;34m\u001b[0m\u001b[0m\n\u001b[1;32m      6\u001b[0m     \u001b[0mprint\u001b[0m\u001b[0;34m(\u001b[0m\u001b[0;34m\"Your meanGeneral:\"\u001b[0m\u001b[0;34m,\u001b[0m \u001b[0mmeanGeneral\u001b[0m\u001b[0;34m)\u001b[0m\u001b[0;34m\u001b[0m\u001b[0;34m\u001b[0m\u001b[0m\n",
            "\u001b[0;31mTypeError\u001b[0m: can only concatenate tuple (not \"float\") to tuple"
          ]
        }
      ]
    },
    {
      "cell_type": "code",
      "source": [
        "def calculationFactorial():\n",
        "  number=int(input(\"Write a number:\"))\n",
        "  factorial =1\n",
        "\n",
        "  if number>=0:\n",
        "    for i in range(1,number+1):\n",
        "      factorial=factorial*i\n",
        "    print(\"factorial:\", factorial)\n",
        "  else:\n",
        "    print(\"Dont write nagative number\")"
      ],
      "metadata": {
        "id": "hFU2pjK6MLKy"
      },
      "execution_count": null,
      "outputs": []
    },
    {
      "cell_type": "code",
      "source": [
        "calculationFactorial()"
      ],
      "metadata": {
        "id": "tsuqDglSMLM7",
        "colab": {
          "base_uri": "https://localhost:8080/"
        },
        "outputId": "0478eb59-b325-4328-d9f7-f472b96b9544"
      },
      "execution_count": null,
      "outputs": [
        {
          "output_type": "stream",
          "name": "stdout",
          "text": [
            "Write a number:56\n",
            "factorial: 710998587804863451854045647463724949736497978881168458687447040000000000000\n"
          ]
        }
      ]
    },
    {
      "cell_type": "code",
      "source": [
        "calculationFactorial()"
      ],
      "metadata": {
        "colab": {
          "base_uri": "https://localhost:8080/"
        },
        "id": "je6JPEiDYPEy",
        "outputId": "84ac2444-544d-42d5-ab3a-c2b7f0d553b0"
      },
      "execution_count": null,
      "outputs": [
        {
          "output_type": "stream",
          "name": "stdout",
          "text": [
            "Write a number:123\n",
            "factorial: 12146304367025329675766243241881295855454217088483382315328918161829235892362167668831156960612640202170735835221294047782591091570411651472186029519906261646730733907419814952960000000000000000000000000000\n"
          ]
        }
      ]
    },
    {
      "cell_type": "code",
      "source": [
        "calculationFactorial()"
      ],
      "metadata": {
        "id": "X-bhYZilYPHd",
        "colab": {
          "base_uri": "https://localhost:8080/"
        },
        "outputId": "f9faf4e7-3938-4cad-de99-38ab71beee6e"
      },
      "execution_count": null,
      "outputs": [
        {
          "output_type": "stream",
          "name": "stdout",
          "text": [
            "Write a number:56\n",
            "factorial: 710998587804863451854045647463724949736497978881168458687447040000000000000\n"
          ]
        }
      ]
    },
    {
      "cell_type": "code",
      "source": [
        "def strToInt(x):\n",
        "  if type(x)==str:\n",
        "    print(\"variable type is string\")\n",
        "    y=int(x)\n",
        "    return y"
      ],
      "metadata": {
        "id": "J0T0epQbYPKb"
      },
      "execution_count": null,
      "outputs": []
    },
    {
      "cell_type": "code",
      "source": [
        "var=input(\"write a number:\")"
      ],
      "metadata": {
        "id": "FWUMB7zjYPN7",
        "colab": {
          "base_uri": "https://localhost:8080/"
        },
        "outputId": "f241e23c-c9f6-4caa-aaa8-140785a68642"
      },
      "execution_count": null,
      "outputs": [
        {
          "name": "stdout",
          "output_type": "stream",
          "text": [
            "write a number:12\n"
          ]
        }
      ]
    },
    {
      "cell_type": "code",
      "source": [
        "strToInt(var)"
      ],
      "metadata": {
        "id": "s_LS8INyZY7D",
        "colab": {
          "base_uri": "https://localhost:8080/"
        },
        "outputId": "5258de1e-0dc8-4098-fa24-8f28dc229665"
      },
      "execution_count": null,
      "outputs": [
        {
          "output_type": "stream",
          "name": "stdout",
          "text": [
            "variable type is string\n"
          ]
        },
        {
          "output_type": "execute_result",
          "data": {
            "text/plain": [
              "12"
            ]
          },
          "metadata": {},
          "execution_count": 4
        }
      ]
    },
    {
      "cell_type": "code",
      "source": [
        "var1=int(input(\"Write a number:\"))"
      ],
      "metadata": {
        "id": "JKLZJBxOZnWK",
        "colab": {
          "base_uri": "https://localhost:8080/"
        },
        "outputId": "e8ad3c55-693b-42d7-95ec-877aff10945b"
      },
      "execution_count": null,
      "outputs": [
        {
          "name": "stdout",
          "output_type": "stream",
          "text": [
            "Write a number:45\n"
          ]
        }
      ]
    },
    {
      "cell_type": "code",
      "source": [
        "var2=input(\"Write a number:\")"
      ],
      "metadata": {
        "id": "_P1HPSrHZnaB",
        "colab": {
          "base_uri": "https://localhost:8080/"
        },
        "outputId": "4dfd298e-68c0-49d4-e726-c53ef4f0f074"
      },
      "execution_count": null,
      "outputs": [
        {
          "name": "stdout",
          "output_type": "stream",
          "text": [
            "Write a number:89\n"
          ]
        }
      ]
    },
    {
      "cell_type": "code",
      "source": [
        "type(var2)"
      ],
      "metadata": {
        "id": "z2-uIsZTcRSY",
        "colab": {
          "base_uri": "https://localhost:8080/"
        },
        "outputId": "e0a988f6-bc7d-4071-d65b-20aff754c635"
      },
      "execution_count": null,
      "outputs": [
        {
          "output_type": "execute_result",
          "data": {
            "text/plain": [
              "str"
            ]
          },
          "metadata": {},
          "execution_count": 7
        }
      ]
    },
    {
      "cell_type": "code",
      "source": [
        "x=\"50\""
      ],
      "metadata": {
        "id": "AL2vBVdZcRVK"
      },
      "execution_count": null,
      "outputs": []
    },
    {
      "cell_type": "code",
      "source": [
        "type(x)"
      ],
      "metadata": {
        "id": "_RZ-VWSTcRYr"
      },
      "execution_count": null,
      "outputs": []
    },
    {
      "cell_type": "code",
      "source": [
        "result=strToInt(x)"
      ],
      "metadata": {
        "id": "sZZ_ohPtcaAn",
        "colab": {
          "base_uri": "https://localhost:8080/"
        },
        "outputId": "46fd17d4-0e43-41e4-8ecd-30112f0176b9"
      },
      "execution_count": null,
      "outputs": [
        {
          "output_type": "stream",
          "name": "stdout",
          "text": [
            "variable type is string\n"
          ]
        }
      ]
    },
    {
      "cell_type": "code",
      "source": [
        "type(result)"
      ],
      "metadata": {
        "id": "bYG2xQyicaDa",
        "colab": {
          "base_uri": "https://localhost:8080/"
        },
        "outputId": "ed8bc78c-35ba-4e91-c1ca-3a3dcce38711"
      },
      "execution_count": null,
      "outputs": [
        {
          "output_type": "execute_result",
          "data": {
            "text/plain": [
              "int"
            ]
          },
          "metadata": {},
          "execution_count": 11
        }
      ]
    }
  ]
}