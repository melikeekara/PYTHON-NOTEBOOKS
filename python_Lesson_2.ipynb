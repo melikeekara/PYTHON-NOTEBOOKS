{
  "nbformat": 4,
  "nbformat_minor": 0,
  "metadata": {
    "colab": {
      "provenance": [],
      "authorship_tag": "ABX9TyOyoNH+EBlEGnGiAjK2iUQ0",
      "include_colab_link": true
    },
    "kernelspec": {
      "name": "python3",
      "display_name": "Python 3"
    },
    "language_info": {
      "name": "python"
    }
  },
  "cells": [
    {
      "cell_type": "markdown",
      "metadata": {
        "id": "view-in-github",
        "colab_type": "text"
      },
      "source": [
        "<a href=\"https://colab.research.google.com/github/melikeekara/PYTHON-NOTEBOOKS/blob/main/python_Lesson_2.ipynb\" target=\"_parent\"><img src=\"https://colab.research.google.com/assets/colab-badge.svg\" alt=\"Open In Colab\"/></a>"
      ]
    },
    {
      "cell_type": "markdown",
      "source": [
        "Using Variables in Strings"
      ],
      "metadata": {
        "id": "NdXJJc4V-Kk6"
      }
    },
    {
      "cell_type": "code",
      "source": [
        "first_name=\"Melike\"\n",
        "last_name=\"Kara\"\n",
        "\n",
        "full_name=f\"{first_name} {last_name}\"\n",
        "\n",
        "print(full_name)"
      ],
      "metadata": {
        "colab": {
          "base_uri": "https://localhost:8080/"
        },
        "id": "F4zBLC5B-QUI",
        "outputId": "6aa35847-fdcd-45c7-d6a0-ef877751e50a"
      },
      "execution_count": null,
      "outputs": [
        {
          "output_type": "stream",
          "name": "stdout",
          "text": [
            "Melike Kara\n"
          ]
        }
      ]
    },
    {
      "cell_type": "markdown",
      "source": [
        "f-string "
      ],
      "metadata": {
        "id": "29V5P7sZZDAM"
      }
    },
    {
      "cell_type": "code",
      "source": [
        "print(f\"Hello, {full_name.title()}!\")"
      ],
      "metadata": {
        "colab": {
          "base_uri": "https://localhost:8080/"
        },
        "id": "0lB2TkXq-o0J",
        "outputId": "94f420c0-8fe9-4dfc-c8df-1c19a6b8f286"
      },
      "execution_count": null,
      "outputs": [
        {
          "output_type": "stream",
          "name": "stdout",
          "text": [
            "Hello, Melike Kara!\n"
          ]
        }
      ]
    },
    {
      "cell_type": "markdown",
      "source": [
        "Adding Whitespace to  Strings with Tabs or Newlines"
      ],
      "metadata": {
        "id": "IBxydmZv-q7g"
      }
    },
    {
      "cell_type": "code",
      "source": [
        "print(\"Languages: \\nPython\\nC\\nJava\")"
      ],
      "metadata": {
        "colab": {
          "base_uri": "https://localhost:8080/"
        },
        "id": "COD-VnGV-o-e",
        "outputId": "7812a52d-a1ec-427f-efa9-6ec8682469ca"
      },
      "execution_count": null,
      "outputs": [
        {
          "output_type": "stream",
          "name": "stdout",
          "text": [
            "Languages: \n",
            "Python\n",
            "C\n",
            "Java\n"
          ]
        }
      ]
    },
    {
      "cell_type": "markdown",
      "source": [
        "Stripping Whitespace"
      ],
      "metadata": {
        "id": "iApnEkrmaMm0"
      }
    },
    {
      "cell_type": "code",
      "source": [
        "language=\"python\"\n",
        "print(language)"
      ],
      "metadata": {
        "colab": {
          "base_uri": "https://localhost:8080/"
        },
        "id": "IBCZxJfjaSHZ",
        "outputId": "749a10b9-43f5-49a8-9695-4cdfed729bf1"
      },
      "execution_count": null,
      "outputs": [
        {
          "output_type": "stream",
          "name": "stdout",
          "text": [
            "python\n"
          ]
        }
      ]
    },
    {
      "cell_type": "code",
      "source": [
        "language.rstrip()"
      ],
      "metadata": {
        "colab": {
          "base_uri": "https://localhost:8080/",
          "height": 36
        },
        "id": "pSnlJXYjamG8",
        "outputId": "aa338884-10ee-4bf7-e84a-4aa52adb53af"
      },
      "execution_count": null,
      "outputs": [
        {
          "output_type": "execute_result",
          "data": {
            "text/plain": [
              "'python'"
            ],
            "application/vnd.google.colaboratory.intrinsic+json": {
              "type": "string"
            }
          },
          "metadata": {},
          "execution_count": 11
        }
      ]
    },
    {
      "cell_type": "code",
      "source": [
        "language.lstrip()"
      ],
      "metadata": {
        "colab": {
          "base_uri": "https://localhost:8080/",
          "height": 36
        },
        "id": "i1Ayuhk8arFx",
        "outputId": "2a114e2e-9ab0-4a79-9bf5-dce6edf2e405"
      },
      "execution_count": null,
      "outputs": [
        {
          "output_type": "execute_result",
          "data": {
            "text/plain": [
              "'python'"
            ],
            "application/vnd.google.colaboratory.intrinsic+json": {
              "type": "string"
            }
          },
          "metadata": {},
          "execution_count": 13
        }
      ]
    },
    {
      "cell_type": "markdown",
      "source": [
        "Underscores in Numbers"
      ],
      "metadata": {
        "id": "gRkqHeNqaze7"
      }
    },
    {
      "cell_type": "code",
      "source": [
        "universe_age=14_000_000_000\n",
        "print(universe_age)"
      ],
      "metadata": {
        "colab": {
          "base_uri": "https://localhost:8080/"
        },
        "id": "giRTRGLJa3pt",
        "outputId": "786a9aec-fbf2-495c-ae5a-119eb0bfc13c"
      },
      "execution_count": null,
      "outputs": [
        {
          "output_type": "stream",
          "name": "stdout",
          "text": [
            "14000000000\n"
          ]
        }
      ]
    },
    {
      "cell_type": "markdown",
      "source": [
        "Multiple Assignment"
      ],
      "metadata": {
        "id": "gQiPU60PbZrI"
      }
    },
    {
      "cell_type": "code",
      "source": [
        "x,y,z=0,0,0\n",
        "print(x,y,z)"
      ],
      "metadata": {
        "colab": {
          "base_uri": "https://localhost:8080/"
        },
        "id": "SSCQd2f9bc0n",
        "outputId": "c325e307-4df9-4baa-9430-e74bad25330d"
      },
      "execution_count": null,
      "outputs": [
        {
          "output_type": "stream",
          "name": "stdout",
          "text": [
            "0 0 0\n"
          ]
        }
      ]
    },
    {
      "cell_type": "markdown",
      "source": [
        "Constants"
      ],
      "metadata": {
        "id": "nIrSPO3zboFe"
      }
    },
    {
      "cell_type": "code",
      "source": [
        "MAX_CONNECTIONS=5000"
      ],
      "metadata": {
        "id": "7YSusmPlbp8h"
      },
      "execution_count": null,
      "outputs": []
    },
    {
      "cell_type": "code",
      "source": [
        "Comments"
      ],
      "metadata": {
        "id": "vieboXBXb_fn"
      },
      "execution_count": null,
      "outputs": []
    },
    {
      "cell_type": "code",
      "source": [
        "#writing name script\n",
        "#name=\"Melike\"\n",
        "name=\"Murat\"\n",
        "print(name)"
      ],
      "metadata": {
        "colab": {
          "base_uri": "https://localhost:8080/"
        },
        "id": "icDk57YZcH87",
        "outputId": "cc6eebea-8a3f-48f9-a0b1-ce3abeaf6015"
      },
      "execution_count": null,
      "outputs": [
        {
          "output_type": "stream",
          "name": "stdout",
          "text": [
            "Murat\n"
          ]
        }
      ]
    },
    {
      "cell_type": "markdown",
      "source": [
        "List"
      ],
      "metadata": {
        "id": "GdFIXTdhchdn"
      }
    },
    {
      "cell_type": "code",
      "source": [
        "cars=[\"ford\", \"mercedes\", \"bmw\", \"volvo\", \"toyota\"]\n",
        "print(cars)"
      ],
      "metadata": {
        "colab": {
          "base_uri": "https://localhost:8080/"
        },
        "id": "BtVP1gYScpvm",
        "outputId": "2e6ba737-5da8-4106-b741-233dd94b7cc5"
      },
      "execution_count": null,
      "outputs": [
        {
          "output_type": "stream",
          "name": "stdout",
          "text": [
            "['ford', 'mercedes', 'bmw', 'volvo', 'toyota']\n"
          ]
        }
      ]
    },
    {
      "cell_type": "code",
      "source": [],
      "metadata": {
        "id": "ltnCgD7AtKH-"
      },
      "execution_count": null,
      "outputs": []
    },
    {
      "cell_type": "markdown",
      "source": [
        "if you want to create a list, you have to square [] You have to seperate all list elements using comma."
      ],
      "metadata": {
        "id": "CAGqPky-dSoF"
      }
    },
    {
      "cell_type": "code",
      "source": [
        "print(cars[0])"
      ],
      "metadata": {
        "colab": {
          "base_uri": "https://localhost:8080/"
        },
        "id": "IOcmjvHSdwMB",
        "outputId": "0b45fcab-635f-4d05-cc0b-eeacc56bc482"
      },
      "execution_count": null,
      "outputs": [
        {
          "output_type": "stream",
          "name": "stdout",
          "text": [
            "ford\n"
          ]
        }
      ]
    },
    {
      "cell_type": "markdown",
      "source": [
        "list are ordered collections"
      ],
      "metadata": {
        "id": "f5_pzBokd3Qe"
      }
    },
    {
      "cell_type": "code",
      "source": [
        "print(cars[0].title())"
      ],
      "metadata": {
        "colab": {
          "base_uri": "https://localhost:8080/"
        },
        "id": "c3cxuVegd70w",
        "outputId": "7bd9c93d-ac14-4b64-e75e-1241aea7762d"
      },
      "execution_count": null,
      "outputs": [
        {
          "output_type": "stream",
          "name": "stdout",
          "text": [
            "Ford\n"
          ]
        }
      ]
    },
    {
      "cell_type": "code",
      "source": [
        "print(cars[1])"
      ],
      "metadata": {
        "colab": {
          "base_uri": "https://localhost:8080/"
        },
        "id": "R5im_M-heNQr",
        "outputId": "0cbb7048-2229-4497-9281-614fa078014f"
      },
      "execution_count": null,
      "outputs": [
        {
          "output_type": "stream",
          "name": "stdout",
          "text": [
            "mercedes\n"
          ]
        }
      ]
    },
    {
      "cell_type": "code",
      "source": [
        "print(cars[5])"
      ],
      "metadata": {
        "colab": {
          "base_uri": "https://localhost:8080/",
          "height": 165
        },
        "id": "SYB0zL7GeRsA",
        "outputId": "9b659387-68f8-40fa-b9b4-db456781f9d9"
      },
      "execution_count": null,
      "outputs": [
        {
          "output_type": "error",
          "ename": "IndexError",
          "evalue": "ignored",
          "traceback": [
            "\u001b[0;31m---------------------------------------------------------------------------\u001b[0m",
            "\u001b[0;31mIndexError\u001b[0m                                Traceback (most recent call last)",
            "\u001b[0;32m<ipython-input-27-be01cec20f16>\u001b[0m in \u001b[0;36m<module>\u001b[0;34m\u001b[0m\n\u001b[0;32m----> 1\u001b[0;31m \u001b[0mprint\u001b[0m\u001b[0;34m(\u001b[0m\u001b[0mcars\u001b[0m\u001b[0;34m[\u001b[0m\u001b[0;36m5\u001b[0m\u001b[0;34m]\u001b[0m\u001b[0;34m)\u001b[0m\u001b[0;34m\u001b[0m\u001b[0;34m\u001b[0m\u001b[0m\n\u001b[0m",
            "\u001b[0;31mIndexError\u001b[0m: list index out of range"
          ]
        }
      ]
    },
    {
      "cell_type": "markdown",
      "source": [
        "there is no elements "
      ],
      "metadata": {
        "id": "-SVMEm22eXF6"
      }
    },
    {
      "cell_type": "code",
      "source": [
        "print(cars[-1])"
      ],
      "metadata": {
        "colab": {
          "base_uri": "https://localhost:8080/"
        },
        "id": "6n4egJf_edMD",
        "outputId": "c36ca9ac-e1bc-4ea5-e656-33cdb87350fa"
      },
      "execution_count": null,
      "outputs": [
        {
          "output_type": "stream",
          "name": "stdout",
          "text": [
            "toyota\n"
          ]
        }
      ]
    },
    {
      "cell_type": "code",
      "source": [
        "massage=f\"Your car is {cars[0].title()}\"\n",
        "print(massage)"
      ],
      "metadata": {
        "colab": {
          "base_uri": "https://localhost:8080/"
        },
        "id": "mHilKKRIemed",
        "outputId": "1b34aca3-5447-4387-c8d6-2cde4f015218"
      },
      "execution_count": null,
      "outputs": [
        {
          "output_type": "stream",
          "name": "stdout",
          "text": [
            "Your car is Ford\n"
          ]
        }
      ]
    },
    {
      "cell_type": "markdown",
      "source": [
        "**Changing, adding and removing Elemnts of List**"
      ],
      "metadata": {
        "id": "kyBjc2MmfDOF"
      }
    },
    {
      "cell_type": "markdown",
      "source": [
        "List items are ordered, changeable, are allowed dublicate values,\n",
        "List items are indexed, the first item has index[0], the second item has index[1] etc."
      ],
      "metadata": {
        "id": "I6LMqk85sP4m"
      }
    },
    {
      "cell_type": "code",
      "source": [
        "cars=[\"ford\", \"mercedes\", \"bmw\", \"volvo\", \"toyota\"]\n",
        "print(cars)"
      ],
      "metadata": {
        "colab": {
          "base_uri": "https://localhost:8080/"
        },
        "id": "g12Kv_S_tMCK",
        "outputId": "276a81d0-e228-43d4-a722-cc05b43f1b14"
      },
      "execution_count": null,
      "outputs": [
        {
          "output_type": "stream",
          "name": "stdout",
          "text": [
            "['ford', 'mercedes', 'bmw', 'volvo', 'toyota']\n"
          ]
        }
      ]
    },
    {
      "cell_type": "code",
      "source": [
        "type(cars)"
      ],
      "metadata": {
        "colab": {
          "base_uri": "https://localhost:8080/"
        },
        "id": "o5N_m_NAs2RL",
        "outputId": "5ab3e9bc-6533-42a6-d8c9-c4c09601cb10"
      },
      "execution_count": null,
      "outputs": [
        {
          "output_type": "execute_result",
          "data": {
            "text/plain": [
              "list"
            ]
          },
          "metadata": {},
          "execution_count": 4
        }
      ]
    },
    {
      "cell_type": "code",
      "source": [
        "cars"
      ],
      "metadata": {
        "colab": {
          "base_uri": "https://localhost:8080/"
        },
        "id": "rt5HtwEUs9U5",
        "outputId": "2b80575b-659b-45fe-eaf4-8b3acfd480a9"
      },
      "execution_count": null,
      "outputs": [
        {
          "output_type": "execute_result",
          "data": {
            "text/plain": [
              "['ford', 'mercedes', 'bmw', 'volvo', 'toyota']"
            ]
          },
          "metadata": {},
          "execution_count": 5
        }
      ]
    },
    {
      "cell_type": "code",
      "source": [
        "cars[0]"
      ],
      "metadata": {
        "colab": {
          "base_uri": "https://localhost:8080/",
          "height": 36
        },
        "id": "BF1YISzHtSQi",
        "outputId": "fd612842-9ebf-4253-8e82-ec5f9d3afae7"
      },
      "execution_count": null,
      "outputs": [
        {
          "output_type": "execute_result",
          "data": {
            "text/plain": [
              "'ford'"
            ],
            "application/vnd.google.colaboratory.intrinsic+json": {
              "type": "string"
            }
          },
          "metadata": {},
          "execution_count": 6
        }
      ]
    },
    {
      "cell_type": "code",
      "source": [
        "cars[0]=\"honda\""
      ],
      "metadata": {
        "id": "j9fZ8Po5tVPJ"
      },
      "execution_count": null,
      "outputs": []
    },
    {
      "cell_type": "code",
      "source": [
        "cars"
      ],
      "metadata": {
        "colab": {
          "base_uri": "https://localhost:8080/"
        },
        "id": "3KuN_b7YtVR9",
        "outputId": "d7e085f2-3442-4163-bcd5-65772cf3f3ee"
      },
      "execution_count": null,
      "outputs": [
        {
          "output_type": "execute_result",
          "data": {
            "text/plain": [
              "['honda', 'mercedes', 'bmw', 'volvo', 'toyota']"
            ]
          },
          "metadata": {},
          "execution_count": 8
        }
      ]
    },
    {
      "cell_type": "code",
      "source": [
        "cars[2]=\"skoda\""
      ],
      "metadata": {
        "id": "uroMCHB3tVVi"
      },
      "execution_count": null,
      "outputs": []
    },
    {
      "cell_type": "code",
      "source": [
        "cars"
      ],
      "metadata": {
        "colab": {
          "base_uri": "https://localhost:8080/"
        },
        "id": "_2r7hnZKthfs",
        "outputId": "d9f1b4fd-730c-4d7f-b0df-1023c5d0d998"
      },
      "execution_count": null,
      "outputs": [
        {
          "output_type": "execute_result",
          "data": {
            "text/plain": [
              "['honda', 'mercedes', 'skoda', 'volvo', 'toyota']"
            ]
          },
          "metadata": {},
          "execution_count": 10
        }
      ]
    },
    {
      "cell_type": "markdown",
      "source": [
        ".append()\n",
        "in python, you can add values to a list using the .append() medhod"
      ],
      "metadata": {
        "id": "J-ZTRqhBtzh6"
      }
    },
    {
      "cell_type": "code",
      "source": [
        "cars=[\"ford\", \"mercedes\", \"bmw\", \"volvo\", \"toyota\"]\n",
        "print(cars)"
      ],
      "metadata": {
        "colab": {
          "base_uri": "https://localhost:8080/"
        },
        "id": "CSLX4bjruBmM",
        "outputId": "d755a775-6fef-49a4-bc77-12e75f453d71"
      },
      "execution_count": null,
      "outputs": [
        {
          "output_type": "stream",
          "name": "stdout",
          "text": [
            "['ford', 'mercedes', 'bmw', 'volvo', 'toyota']\n"
          ]
        }
      ]
    },
    {
      "cell_type": "code",
      "source": [
        "cars.append(\"skoda\")"
      ],
      "metadata": {
        "id": "RhXDHftzuOjf"
      },
      "execution_count": null,
      "outputs": []
    },
    {
      "cell_type": "code",
      "source": [
        "cars"
      ],
      "metadata": {
        "colab": {
          "base_uri": "https://localhost:8080/"
        },
        "id": "XcKT1Hk0ucwA",
        "outputId": "a8bfde6a-37ad-43cc-e50f-8478ab01f983"
      },
      "execution_count": null,
      "outputs": [
        {
          "output_type": "execute_result",
          "data": {
            "text/plain": [
              "['ford', 'mercedes', 'bmw', 'volvo', 'toyota', 'skoda']"
            ]
          },
          "metadata": {},
          "execution_count": 14
        }
      ]
    },
    {
      "cell_type": "code",
      "source": [
        "motorcycles=[]"
      ],
      "metadata": {
        "id": "YDjSm9n-uomY"
      },
      "execution_count": null,
      "outputs": []
    },
    {
      "cell_type": "code",
      "source": [
        "motorcycles.append(\"honda\")\n",
        "motorcycles.append(\"yamaha\")\n",
        "motorcycles.append(\"suzuki\")"
      ],
      "metadata": {
        "id": "v84dvdCMutfz"
      },
      "execution_count": null,
      "outputs": []
    },
    {
      "cell_type": "code",
      "source": [
        "motorcycles"
      ],
      "metadata": {
        "colab": {
          "base_uri": "https://localhost:8080/"
        },
        "id": "5yM69zd0u8Bs",
        "outputId": "7471c958-14ea-475d-92fe-61d12a2dd415"
      },
      "execution_count": null,
      "outputs": [
        {
          "output_type": "execute_result",
          "data": {
            "text/plain": [
              "['honda', 'yamaha', 'suzuki']"
            ]
          },
          "metadata": {},
          "execution_count": 18
        }
      ]
    },
    {
      "cell_type": "markdown",
      "source": [
        ".insert(index, new item)"
      ],
      "metadata": {
        "id": "c277-lCpxUiF"
      }
    },
    {
      "cell_type": "code",
      "source": [
        "motorcycles.insert(0, \"ducati\")"
      ],
      "metadata": {
        "id": "oFtmF32MvAmt"
      },
      "execution_count": null,
      "outputs": []
    },
    {
      "cell_type": "code",
      "source": [
        "motorcycles"
      ],
      "metadata": {
        "colab": {
          "base_uri": "https://localhost:8080/"
        },
        "id": "-gnGkm0WvMW6",
        "outputId": "0f7bc09f-cbdb-477c-c7a6-ece3611f063c"
      },
      "execution_count": null,
      "outputs": [
        {
          "output_type": "execute_result",
          "data": {
            "text/plain": [
              "['honda', 'yamaha', 'suzuki']"
            ]
          },
          "metadata": {},
          "execution_count": 23
        }
      ]
    },
    {
      "cell_type": "markdown",
      "source": [
        "removing an item using dell method"
      ],
      "metadata": {
        "id": "vbCSmZp_xKRn"
      }
    },
    {
      "cell_type": "markdown",
      "source": [
        "del medthod "
      ],
      "metadata": {
        "id": "XcNH8cXgxEra"
      }
    },
    {
      "cell_type": "code",
      "source": [
        "del motorcycles[0]"
      ],
      "metadata": {
        "id": "2d3yUAIAvNvI"
      },
      "execution_count": null,
      "outputs": []
    },
    {
      "cell_type": "code",
      "source": [
        "motorcycles"
      ],
      "metadata": {
        "colab": {
          "base_uri": "https://localhost:8080/"
        },
        "id": "avSakauUxAmS",
        "outputId": "d2878e24-a446-4eb4-959f-0633689adf26"
      },
      "execution_count": null,
      "outputs": [
        {
          "output_type": "execute_result",
          "data": {
            "text/plain": [
              "['honda', 'yamaha', 'suzuki']"
            ]
          },
          "metadata": {},
          "execution_count": 22
        }
      ]
    },
    {
      "cell_type": "markdown",
      "source": [
        "Removing an item using the pop() method"
      ],
      "metadata": {
        "id": "t4iyXXSoxcS6"
      }
    },
    {
      "cell_type": "code",
      "source": [
        "motorcycles.append(\"ducati\")"
      ],
      "metadata": {
        "id": "SFqJQr31xea0"
      },
      "execution_count": null,
      "outputs": []
    },
    {
      "cell_type": "code",
      "source": [
        "motorcycles"
      ],
      "metadata": {
        "colab": {
          "base_uri": "https://localhost:8080/"
        },
        "id": "knZRDYRpxjRK",
        "outputId": "aa96085b-5808-43f7-8471-ae24805d872b"
      },
      "execution_count": null,
      "outputs": [
        {
          "output_type": "execute_result",
          "data": {
            "text/plain": [
              "['honda', 'yamaha', 'suzuki', 'ducati']"
            ]
          },
          "metadata": {},
          "execution_count": 25
        }
      ]
    },
    {
      "cell_type": "code",
      "source": [
        "motorcycles.pop()"
      ],
      "metadata": {
        "colab": {
          "base_uri": "https://localhost:8080/",
          "height": 36
        },
        "id": "b6kGSVM6xlRd",
        "outputId": "cc3d2baa-09cf-432e-806c-27ba5a3a866a"
      },
      "execution_count": null,
      "outputs": [
        {
          "output_type": "execute_result",
          "data": {
            "text/plain": [
              "'ducati'"
            ],
            "application/vnd.google.colaboratory.intrinsic+json": {
              "type": "string"
            }
          },
          "metadata": {},
          "execution_count": 26
        }
      ]
    },
    {
      "cell_type": "code",
      "source": [
        "motorcycles"
      ],
      "metadata": {
        "colab": {
          "base_uri": "https://localhost:8080/"
        },
        "id": "8mz4dAAyxpEf",
        "outputId": "22c239f3-469c-4caf-8896-07367a6e3128"
      },
      "execution_count": null,
      "outputs": [
        {
          "output_type": "execute_result",
          "data": {
            "text/plain": [
              "['honda', 'yamaha', 'suzuki']"
            ]
          },
          "metadata": {},
          "execution_count": 27
        }
      ]
    },
    {
      "cell_type": "markdown",
      "source": [],
      "metadata": {
        "id": "7J4ql_vkxtCU"
      }
    },
    {
      "cell_type": "code",
      "source": [
        "motorcycles.append(\"suzuki\")"
      ],
      "metadata": {
        "id": "Ig0w-Ixmx1PB"
      },
      "execution_count": null,
      "outputs": []
    },
    {
      "cell_type": "code",
      "source": [
        "motorcycles"
      ],
      "metadata": {
        "colab": {
          "base_uri": "https://localhost:8080/"
        },
        "id": "1aPmZAJ6x6KU",
        "outputId": "03e35a34-0cb7-4aa1-ebc0-89038547b42d"
      },
      "execution_count": null,
      "outputs": [
        {
          "output_type": "execute_result",
          "data": {
            "text/plain": [
              "['honda', 'yamaha', 'suzuki', 'suziki', 'suzuki']"
            ]
          },
          "metadata": {},
          "execution_count": 33
        }
      ]
    },
    {
      "cell_type": "markdown",
      "source": [
        ".count()"
      ],
      "metadata": {
        "id": "TxczkV5AtVYt"
      }
    },
    {
      "cell_type": "code",
      "source": [
        "motorcycles.count(\"suzuki\")"
      ],
      "metadata": {
        "colab": {
          "base_uri": "https://localhost:8080/"
        },
        "id": "RUvcAdmvx740",
        "outputId": "7530d4c9-e488-4f43-b69f-3c4c8c5f1c0d"
      },
      "execution_count": null,
      "outputs": [
        {
          "output_type": "execute_result",
          "data": {
            "text/plain": [
              "2"
            ]
          },
          "metadata": {},
          "execution_count": 34
        }
      ]
    },
    {
      "cell_type": "code",
      "source": [
        "motorcycles=[]\n",
        "motorcycles.append(\"honda\")\n",
        "motorcycles.append(\"yamaha\")\n",
        "motorcycles.append(\"suzuki\")"
      ],
      "metadata": {
        "id": "Z7-R8YRFIu1w"
      },
      "execution_count": null,
      "outputs": []
    },
    {
      "cell_type": "markdown",
      "source": [
        "len()"
      ],
      "metadata": {
        "id": "WwUMRijOuQdZ"
      }
    },
    {
      "cell_type": "code",
      "source": [
        "print(len(motorcycles))"
      ],
      "metadata": {
        "colab": {
          "base_uri": "https://localhost:8080/"
        },
        "id": "x-gShMXitTPL",
        "outputId": "a7a6b6f5-3b7f-40a1-e1ba-dea0e0a600b9"
      },
      "execution_count": null,
      "outputs": [
        {
          "output_type": "stream",
          "name": "stdout",
          "text": [
            "3\n"
          ]
        }
      ]
    },
    {
      "cell_type": "markdown",
      "source": [
        "**Organizing the List**"
      ],
      "metadata": {
        "id": "0U1k0RpJugUj"
      }
    },
    {
      "cell_type": "markdown",
      "source": [
        ".**sort**"
      ],
      "metadata": {
        "id": "M1_-8c2QyPx7"
      }
    },
    {
      "cell_type": "markdown",
      "source": [
        "Numerical lists will be sorted in ascending order. String list will be sorted into alphabetical order. Sayısal listeler artan düzende sıralanacaktır. Dize listesi alfabetik sıraya göre sıralanacaktır."
      ],
      "metadata": {
        "id": "MD6N7sR2yXRI"
      }
    },
    {
      "cell_type": "code",
      "source": [
        "cars=[\"honda\", \"mercedes\", \"skoda\", \"volvo\", \"toyoya\", \"ford\"]"
      ],
      "metadata": {
        "id": "KXv9Y9ZTzhT2"
      },
      "execution_count": null,
      "outputs": []
    },
    {
      "cell_type": "code",
      "source": [
        "cars.sort()"
      ],
      "metadata": {
        "id": "za4SVU150RCl"
      },
      "execution_count": null,
      "outputs": []
    },
    {
      "cell_type": "code",
      "source": [
        "cars"
      ],
      "metadata": {
        "colab": {
          "base_uri": "https://localhost:8080/"
        },
        "id": "6ieU8eul0eou",
        "outputId": "a15d95b2-1da0-49c9-bce2-6d8806bba5eb"
      },
      "execution_count": null,
      "outputs": [
        {
          "output_type": "execute_result",
          "data": {
            "text/plain": [
              "['ford', 'honda', 'mercedes', 'skoda', 'toyoya', 'volvo']"
            ]
          },
          "metadata": {},
          "execution_count": 7
        }
      ]
    },
    {
      "cell_type": "code",
      "source": [
        "number_list=[4,3,2,5]"
      ],
      "metadata": {
        "id": "vpV12vjc0lIq"
      },
      "execution_count": null,
      "outputs": []
    },
    {
      "cell_type": "code",
      "source": [
        "number_list"
      ],
      "metadata": {
        "colab": {
          "base_uri": "https://localhost:8080/"
        },
        "id": "0-tD3ymS0vjJ",
        "outputId": "858fa184-2272-484c-e908-eaa22011cfb3"
      },
      "execution_count": null,
      "outputs": [
        {
          "output_type": "execute_result",
          "data": {
            "text/plain": [
              "[4, 3, 2, 5]"
            ]
          },
          "metadata": {},
          "execution_count": 9
        }
      ]
    },
    {
      "cell_type": "code",
      "source": [
        "number_list.sort()"
      ],
      "metadata": {
        "id": "cwhOY5v30wIG"
      },
      "execution_count": null,
      "outputs": []
    },
    {
      "cell_type": "code",
      "source": [
        "number_list"
      ],
      "metadata": {
        "colab": {
          "base_uri": "https://localhost:8080/"
        },
        "id": "3tdTFGQL0wK4",
        "outputId": "101442a8-819e-4cdf-818d-676c19a60702"
      },
      "execution_count": null,
      "outputs": [
        {
          "output_type": "execute_result",
          "data": {
            "text/plain": [
              "[2, 3, 4, 5]"
            ]
          },
          "metadata": {},
          "execution_count": 12
        }
      ]
    },
    {
      "cell_type": "code",
      "source": [
        "cars.sort(reverse=True)"
      ],
      "metadata": {
        "id": "Sd1TSKnS0wNd"
      },
      "execution_count": null,
      "outputs": []
    },
    {
      "cell_type": "code",
      "source": [
        "cars"
      ],
      "metadata": {
        "colab": {
          "base_uri": "https://localhost:8080/"
        },
        "id": "TJ1kGEzW0wQF",
        "outputId": "eb3f95a6-38ac-42af-f0e9-8940660bcb2b"
      },
      "execution_count": null,
      "outputs": [
        {
          "output_type": "execute_result",
          "data": {
            "text/plain": [
              "['volvo', 'toyoya', 'skoda', 'mercedes', 'honda', 'ford']"
            ]
          },
          "metadata": {},
          "execution_count": 14
        }
      ]
    },
    {
      "cell_type": "code",
      "source": [
        "print(\"Here is the original list:\")\n",
        "print(cars)\n",
        "print(\"\\nHere is the sorted list:\")\n",
        "print(cars.sort())\n",
        "print(\"\\Here is the original list:\")\n",
        "print(cars.sort(reverse=True))"
      ],
      "metadata": {
        "colab": {
          "base_uri": "https://localhost:8080/"
        },
        "id": "Rdf7wdnU0wTj",
        "outputId": "a4e0fe0e-ac4f-4ab7-b15e-ae1edfdcc67f"
      },
      "execution_count": null,
      "outputs": [
        {
          "output_type": "stream",
          "name": "stdout",
          "text": [
            "Here is the original list:\n",
            "['volvo', 'toyoya', 'skoda', 'mercedes', 'honda', 'ford']\n",
            "\n",
            "Here is the sorted list:\n",
            "None\n",
            "\\Here is the original list:\n",
            "None\n"
          ]
        }
      ]
    },
    {
      "cell_type": "code",
      "source": [
        "len(cars)"
      ],
      "metadata": {
        "colab": {
          "base_uri": "https://localhost:8080/"
        },
        "id": "aJPOLn__3zPt",
        "outputId": "8bc9e050-9a7c-41e6-9dbf-340bd12df2a8"
      },
      "execution_count": null,
      "outputs": [
        {
          "output_type": "execute_result",
          "data": {
            "text/plain": [
              "6"
            ]
          },
          "metadata": {},
          "execution_count": 17
        }
      ]
    },
    {
      "cell_type": "markdown",
      "source": [
        ".remove() medhod"
      ],
      "metadata": {
        "id": "pXfprLAz4C-c"
      }
    },
    {
      "cell_type": "markdown",
      "source": [],
      "metadata": {
        "id": "LG35EWw54ayC"
      }
    },
    {
      "cell_type": "code",
      "source": [
        "cars.remove(\"ford\")"
      ],
      "metadata": {
        "id": "M_t9MXxj31yv"
      },
      "execution_count": null,
      "outputs": []
    },
    {
      "cell_type": "code",
      "source": [
        "cars"
      ],
      "metadata": {
        "colab": {
          "base_uri": "https://localhost:8080/"
        },
        "id": "shw8pwMM4Axz",
        "outputId": "5365fbab-f471-4529-afdc-40adf7e1f47c"
      },
      "execution_count": null,
      "outputs": [
        {
          "output_type": "execute_result",
          "data": {
            "text/plain": [
              "['volvo', 'toyoya', 'skoda', 'mercedes', 'honda']"
            ]
          },
          "metadata": {},
          "execution_count": 19
        }
      ]
    },
    {
      "cell_type": "markdown",
      "source": [
        "Tuples"
      ],
      "metadata": {
        "id": "GGhYQzpz4cYb"
      }
    },
    {
      "cell_type": "markdown",
      "source": [
        "1. Tuples is also ordered sequence of items as List\n",
        "2. Tuple also hols multiple data types.\n",
        "3. The only difference in Tuple&List is that Tuple is immutuble; once created it cannot be changed.\n",
        "4. Creating a tuple is as sample as putting different comma-seperated values within round bracked.\n",
        "\n",
        "1. Demetler ayrıca Liste olarak sıralanan öğelerdir. \n",
        "2. Tuple ayrıca birden çok veri türünü de tutar. \n",
        "3. Tuple Listesindeki tek fark, Tuple'ın değişmez olmasıdır; oluşturulduktan sonra değiştirilemez.\n",
        "4. Bir demet oluşturmak, round cracked içine virgülle ayrılmış farklı değerler koymak kadar basittir.   "
      ],
      "metadata": {
        "id": "MEtjjj6F4wb2"
      }
    },
    {
      "cell_type": "code",
      "source": [
        "fruit=(\"apple\", \"banana\", \"cherry\")"
      ],
      "metadata": {
        "id": "f2zULvNI_qs6"
      },
      "execution_count": null,
      "outputs": []
    },
    {
      "cell_type": "code",
      "source": [
        "print(fruit)"
      ],
      "metadata": {
        "colab": {
          "base_uri": "https://localhost:8080/"
        },
        "id": "t5nBwBtR_rOv",
        "outputId": "7e197b7e-6692-4426-ac11-c9d53f5a35cc"
      },
      "execution_count": null,
      "outputs": [
        {
          "output_type": "stream",
          "name": "stdout",
          "text": [
            "('apple', 'banana', 'cherry')\n"
          ]
        }
      ]
    },
    {
      "cell_type": "code",
      "source": [
        "type(fruit)"
      ],
      "metadata": {
        "colab": {
          "base_uri": "https://localhost:8080/"
        },
        "id": "F0mX5qd8_rR9",
        "outputId": "bcf43023-4ab8-4241-d46d-be08b32508f3"
      },
      "execution_count": null,
      "outputs": [
        {
          "output_type": "execute_result",
          "data": {
            "text/plain": [
              "tuple"
            ]
          },
          "metadata": {},
          "execution_count": 22
        }
      ]
    },
    {
      "cell_type": "markdown",
      "source": [
        "# Tuple Items\n",
        "Tuple items are ordered, unchangeable, and dublicate values.\n",
        "Tuple items indexed, the firdt item has index [0] the second item has index [1] etc. \n",
        "Demet Öğeleri \n",
        "Demet öğeleri sıralıdır, değiştirilemez ve yinelenen değerlerdir.\n",
        "Demet öğeleri dizine eklendi, ilk öğenin [0] dizini, ikinci öğenin [1] dizini vb. var."
      ],
      "metadata": {
        "id": "nqHc78rrBobO"
      }
    },
    {
      "cell_type": "markdown",
      "source": [
        "# Ordered \n",
        "When we say that tuples are ordered, it means that the items have a defined order, and that order will not change."
      ],
      "metadata": {
        "id": "9UfzFtu6Cx75"
      }
    },
    {
      "cell_type": "markdown",
      "source": [
        "# Unchangeable\n",
        "Tuples are unchangable, meaning that we cannot change, add or remove items after the tuple has been created"
      ],
      "metadata": {
        "id": "yecFQNwpDEFK"
      }
    },
    {
      "cell_type": "markdown",
      "source": [
        "# Allow Dublicates\n",
        "Since tuples are indexed, they can have items with the same value"
      ],
      "metadata": {
        "id": "KjR5bB2uDcCA"
      }
    },
    {
      "cell_type": "code",
      "source": [
        "fruit"
      ],
      "metadata": {
        "id": "sAUQn_Mz_rUv",
        "colab": {
          "base_uri": "https://localhost:8080/"
        },
        "outputId": "20dacdcb-cbc4-48e4-9213-f77f39947c30"
      },
      "execution_count": null,
      "outputs": [
        {
          "output_type": "execute_result",
          "data": {
            "text/plain": [
              "('apple', 'banana', 'cherry')"
            ]
          },
          "metadata": {},
          "execution_count": 23
        }
      ]
    },
    {
      "cell_type": "code",
      "source": [
        "type(fruit)"
      ],
      "metadata": {
        "id": "nk_rIpJA_rXN",
        "colab": {
          "base_uri": "https://localhost:8080/"
        },
        "outputId": "e5120185-d957-4501-d816-4c306aa12159"
      },
      "execution_count": null,
      "outputs": [
        {
          "output_type": "execute_result",
          "data": {
            "text/plain": [
              "tuple"
            ]
          },
          "metadata": {},
          "execution_count": 24
        }
      ]
    },
    {
      "cell_type": "code",
      "source": [
        "variable=(\"apple\")"
      ],
      "metadata": {
        "id": "4nClOkHx_rZY"
      },
      "execution_count": null,
      "outputs": []
    },
    {
      "cell_type": "code",
      "source": [
        "type(variable)"
      ],
      "metadata": {
        "colab": {
          "base_uri": "https://localhost:8080/"
        },
        "id": "befJ5HgJFA5i",
        "outputId": "751ea609-7eb0-470b-a134-7673e5eece28"
      },
      "execution_count": null,
      "outputs": [
        {
          "output_type": "execute_result",
          "data": {
            "text/plain": [
              "str"
            ]
          },
          "metadata": {},
          "execution_count": 26
        }
      ]
    },
    {
      "cell_type": "code",
      "source": [
        "tuple1=(\"murat\",40,True,\"ahmet\",3.14)"
      ],
      "metadata": {
        "id": "anqS3XphFIW-"
      },
      "execution_count": null,
      "outputs": []
    },
    {
      "cell_type": "code",
      "source": [
        "print(tuple1[1])"
      ],
      "metadata": {
        "colab": {
          "base_uri": "https://localhost:8080/"
        },
        "id": "zg0h37QvFBE3",
        "outputId": "f24b77f4-4a4e-47e2-f41f-ad19d6d94776"
      },
      "execution_count": null,
      "outputs": [
        {
          "output_type": "stream",
          "name": "stdout",
          "text": [
            "40\n"
          ]
        }
      ]
    },
    {
      "cell_type": "markdown",
      "source": [
        "**Sets**\n"
      ],
      "metadata": {
        "id": "oRWfroYbFv3h"
      }
    },
    {
      "cell_type": "markdown",
      "source": [
        "Python Sets\n",
        "-Sets are used to store multiple items in a single variable.\n",
        "-Sets is one of 4 built-in data types in Python used to store collections of data, the other 3 are Lists, Tuple, and Dictionary, all with different qualities and usage.\n",
        "-A set is a collection which is unordere, unchangeable*, and unindexed.\n",
        "-Note Sets items are unchangeble, but you can remove items and add new items.\n",
        "\n",
        "Python Setleri\n",
        "-Setler, birden çok öğeyi tek bir değişkende depolamak için kullanılır.\n",
        "-Setler, Python'da veri koleksiyonlarını depolamak için kullanılan 4 yerleşik veri türünden biridir, diğer 3'ü Listeler, Tuple ve Sözlük'tür ve hepsi farklı niteliklere ve kullanıma sahiptir.\n",
        "-Küme, sırasız, değiştirilemez* ve dizinlenmemiş bir koleksiyondur.\n",
        "-Not Küme öğeleri değiştirilemez, ancak öğeleri kaldırabilir ve yeni öğeler ekleyebilirsiniz."
      ],
      "metadata": {
        "id": "Ls53Uo0CF6Sj"
      }
    },
    {
      "cell_type": "code",
      "source": [
        "fruitset={\"apple\", \"banana\", \"cherry\"}"
      ],
      "metadata": {
        "id": "FVbj5j5dHPgq"
      },
      "execution_count": null,
      "outputs": []
    },
    {
      "cell_type": "code",
      "source": [
        "type(fruitset)"
      ],
      "metadata": {
        "colab": {
          "base_uri": "https://localhost:8080/"
        },
        "id": "VyTqV54xHpy3",
        "outputId": "8eb4b756-5629-4203-edde-bbda6ef8405c"
      },
      "execution_count": null,
      "outputs": [
        {
          "output_type": "execute_result",
          "data": {
            "text/plain": [
              "set"
            ]
          },
          "metadata": {},
          "execution_count": 31
        }
      ]
    },
    {
      "cell_type": "markdown",
      "source": [
        "# Dublicates Not Allowed\n",
        "Sets cannot have two itmes with the same value"
      ],
      "metadata": {
        "id": "J5SL8I2xHwTQ"
      }
    },
    {
      "cell_type": "code",
      "source": [
        "set={\"apple\", \"banana\", \"cherry\"}\n",
        "print(set)"
      ],
      "metadata": {
        "colab": {
          "base_uri": "https://localhost:8080/"
        },
        "id": "n_4YPLgyHt1M",
        "outputId": "5bad41e9-8197-4434-e958-00107261b048"
      },
      "execution_count": null,
      "outputs": [
        {
          "output_type": "stream",
          "name": "stdout",
          "text": [
            "{'banana', 'apple', 'cherry'}\n"
          ]
        }
      ]
    },
    {
      "cell_type": "code",
      "source": [
        "set1={\"abc\", 123, 3.14, True}"
      ],
      "metadata": {
        "id": "0pU1wkEXHucX"
      },
      "execution_count": null,
      "outputs": []
    },
    {
      "cell_type": "markdown",
      "source": [
        ".add() method"
      ],
      "metadata": {
        "id": "6w6B3ZhMIlZq"
      }
    },
    {
      "cell_type": "code",
      "source": [
        "set1.add(\"python\")"
      ],
      "metadata": {
        "id": "W1ODH5hqHu6x"
      },
      "execution_count": null,
      "outputs": []
    },
    {
      "cell_type": "code",
      "source": [
        "set1"
      ],
      "metadata": {
        "colab": {
          "base_uri": "https://localhost:8080/"
        },
        "id": "ocOd_Pl5IVoE",
        "outputId": "797f7bcb-b841-4c07-c89e-140ee3b7d31f"
      },
      "execution_count": null,
      "outputs": [
        {
          "output_type": "execute_result",
          "data": {
            "text/plain": [
              "{123, 3.14, True, 'abc', 'python'}"
            ]
          },
          "metadata": {},
          "execution_count": 36
        }
      ]
    },
    {
      "cell_type": "markdown",
      "source": [
        "# Remove item\n",
        "To remove an item in a set, use the remove(), or the discard() method"
      ],
      "metadata": {
        "id": "OV9LeFSbIs9s"
      }
    },
    {
      "cell_type": "markdown",
      "source": [
        ".remove() method"
      ],
      "metadata": {
        "id": "Ezw-hCFAI7g8"
      }
    },
    {
      "cell_type": "code",
      "source": [
        "set1.remove(\"python\")"
      ],
      "metadata": {
        "id": "TkKozQaaIVq7"
      },
      "execution_count": null,
      "outputs": []
    },
    {
      "cell_type": "code",
      "source": [
        "set1"
      ],
      "metadata": {
        "colab": {
          "base_uri": "https://localhost:8080/"
        },
        "id": "tA2L6PbVIVtN",
        "outputId": "23a85412-df97-4c50-ea69-8aad11f5d31b"
      },
      "execution_count": null,
      "outputs": [
        {
          "output_type": "execute_result",
          "data": {
            "text/plain": [
              "{123, 3.14, True, 'abc'}"
            ]
          },
          "metadata": {},
          "execution_count": 38
        }
      ]
    },
    {
      "cell_type": "markdown",
      "source": [
        "discard() method"
      ],
      "metadata": {
        "id": "DfYp_B3XJAVK"
      }
    },
    {
      "cell_type": "code",
      "source": [
        "set1.discard(\"abc\")"
      ],
      "metadata": {
        "id": "T__uJMA8IVvq"
      },
      "execution_count": null,
      "outputs": []
    },
    {
      "cell_type": "code",
      "source": [
        "set1"
      ],
      "metadata": {
        "colab": {
          "base_uri": "https://localhost:8080/"
        },
        "id": "lzyPuTt9IVzM",
        "outputId": "36e6923b-1ab3-4c66-ae87-593e530d953e"
      },
      "execution_count": null,
      "outputs": [
        {
          "output_type": "execute_result",
          "data": {
            "text/plain": [
              "{True, 3.14, 123}"
            ]
          },
          "metadata": {},
          "execution_count": 40
        }
      ]
    },
    {
      "cell_type": "markdown",
      "source": [
        ".clear() method"
      ],
      "metadata": {
        "id": "zca01md5JUvy"
      }
    },
    {
      "cell_type": "code",
      "source": [
        "set1.clear()"
      ],
      "metadata": {
        "id": "mJyuXGFgIV1_"
      },
      "execution_count": null,
      "outputs": []
    },
    {
      "cell_type": "code",
      "source": [
        "set1"
      ],
      "metadata": {
        "colab": {
          "base_uri": "https://localhost:8080/"
        },
        "id": "1uPFudKKJaj7",
        "outputId": "a53d6a02-12ef-44f8-bcea-d9598d4f7824"
      },
      "execution_count": null,
      "outputs": [
        {
          "output_type": "execute_result",
          "data": {
            "text/plain": [
              "set()"
            ]
          },
          "metadata": {},
          "execution_count": 42
        }
      ]
    },
    {
      "cell_type": "markdown",
      "source": [
        "del method"
      ],
      "metadata": {
        "id": "wVeOPg_GJeYt"
      }
    },
    {
      "cell_type": "code",
      "source": [
        "set"
      ],
      "metadata": {
        "colab": {
          "base_uri": "https://localhost:8080/"
        },
        "id": "0hIWmOLPJam1",
        "outputId": "d448bcfd-99ff-479a-9de5-85fa86482247"
      },
      "execution_count": null,
      "outputs": [
        {
          "output_type": "execute_result",
          "data": {
            "text/plain": [
              "{'apple', 'banana', 'cherry'}"
            ]
          },
          "metadata": {},
          "execution_count": 43
        }
      ]
    },
    {
      "cell_type": "code",
      "source": [
        "del set "
      ],
      "metadata": {
        "id": "dwmiTOQrJaqD"
      },
      "execution_count": null,
      "outputs": []
    },
    {
      "cell_type": "code",
      "source": [
        "print(set)"
      ],
      "metadata": {
        "colab": {
          "base_uri": "https://localhost:8080/"
        },
        "id": "a_Z0D2OFJawD",
        "outputId": "e9e73843-eba7-454c-e7c8-56ca55aa7685"
      },
      "execution_count": null,
      "outputs": [
        {
          "output_type": "stream",
          "name": "stdout",
          "text": [
            "<class 'set'>\n"
          ]
        }
      ]
    },
    {
      "cell_type": "markdown",
      "source": [
        "# Dictionary in Python\n",
        "-Dictionaray is an unordered collection of key-values pairs.\n",
        "-Real word dictionaries are a good analogy to understand them: they contain a list of items(words), each item has a key(the word) and a value(the word's meaning.\n",
        "-It generally is used when we have a huge amount of data"
      ],
      "metadata": {
        "id": "fmAxr3jWKxir"
      }
    },
    {
      "cell_type": "markdown",
      "source": [
        "Dictionary are written with curly brackets, and have **keys** and **values**"
      ],
      "metadata": {
        "id": "Su5LXeg6PH_u"
      }
    },
    {
      "cell_type": "code",
      "source": [
        "dict_car={\"brand\":\"merdeces\", \"model\":\"c200\",\"year\":2021, \"price\":2000}"
      ],
      "metadata": {
        "id": "Rw5sCFeAJayr"
      },
      "execution_count": null,
      "outputs": []
    },
    {
      "cell_type": "code",
      "source": [
        "type(dict_car)"
      ],
      "metadata": {
        "id": "d5-_blmPJa2C",
        "colab": {
          "base_uri": "https://localhost:8080/"
        },
        "outputId": "348e1912-73b4-4221-ccd5-a08a7f1ecbe5"
      },
      "execution_count": null,
      "outputs": [
        {
          "output_type": "execute_result",
          "data": {
            "text/plain": [
              "dict"
            ]
          },
          "metadata": {},
          "execution_count": 2
        }
      ]
    },
    {
      "cell_type": "code",
      "source": [
        "print(dict_car)"
      ],
      "metadata": {
        "colab": {
          "base_uri": "https://localhost:8080/"
        },
        "id": "3YKz2TvIis6q",
        "outputId": "a48d792f-f71a-4d5e-e271-d5a4e6da4efa"
      },
      "execution_count": null,
      "outputs": [
        {
          "output_type": "stream",
          "name": "stdout",
          "text": [
            "{'brand': 'merdeces', 'model': 'c200', 'year': 2021, 'price': 2000}\n"
          ]
        }
      ]
    },
    {
      "cell_type": "code",
      "source": [
        "print(dict_car[\"price\"])"
      ],
      "metadata": {
        "colab": {
          "base_uri": "https://localhost:8080/"
        },
        "id": "ZfqfipElis9l",
        "outputId": "0ff5d829-db3d-458a-f9f7-d0962d7555c3"
      },
      "execution_count": null,
      "outputs": [
        {
          "output_type": "stream",
          "name": "stdout",
          "text": [
            "2000\n"
          ]
        }
      ]
    },
    {
      "cell_type": "code",
      "source": [
        "print(dict_car[\"year\"])"
      ],
      "metadata": {
        "colab": {
          "base_uri": "https://localhost:8080/"
        },
        "id": "XLekxFWfitAw",
        "outputId": "2a02d1e3-3f85-44c6-b1b2-8b74dca42d5b"
      },
      "execution_count": null,
      "outputs": [
        {
          "output_type": "stream",
          "name": "stdout",
          "text": [
            "2021\n"
          ]
        }
      ]
    },
    {
      "cell_type": "code",
      "source": [
        "print(dict_car[\"brand\"])"
      ],
      "metadata": {
        "colab": {
          "base_uri": "https://localhost:8080/"
        },
        "id": "Q8cDP_x0jIzk",
        "outputId": "900e3710-79bd-4eb5-aa9b-2175132cf416"
      },
      "execution_count": null,
      "outputs": [
        {
          "output_type": "stream",
          "name": "stdout",
          "text": [
            "merdeces\n"
          ]
        }
      ]
    },
    {
      "cell_type": "markdown",
      "source": [
        "**Dictionary Items **\n",
        "1. Dictionary items are ordered,changeable, and does not alllow dublicates.\n",
        "2. Dictionary items are presented in key:value pairs, and can be referred to by using the key name.\n",
        "\n",
        "\n"
      ],
      "metadata": {
        "id": "4dgAIDh_jR4X"
      }
    },
    {
      "cell_type": "code",
      "source": [
        "car2={\n",
        "    \"brand\":\"bmw\",\n",
        "    \"model1\":\"ix3\",\n",
        "    \"year\":2022,\n",
        "    \"price\":2250\n",
        "}"
      ],
      "metadata": {
        "id": "jUNmbfjgjPe1"
      },
      "execution_count": null,
      "outputs": []
    },
    {
      "cell_type": "code",
      "source": [
        "type(car2)"
      ],
      "metadata": {
        "colab": {
          "base_uri": "https://localhost:8080/"
        },
        "id": "j4bQEnQGjPhn",
        "outputId": "b49927de-e7e1-4f7e-ebbf-8c1551f4d07e"
      },
      "execution_count": null,
      "outputs": [
        {
          "output_type": "execute_result",
          "data": {
            "text/plain": [
              "dict"
            ]
          },
          "metadata": {},
          "execution_count": 8
        }
      ]
    },
    {
      "cell_type": "code",
      "source": [
        "print(car2[\"year\"])"
      ],
      "metadata": {
        "colab": {
          "base_uri": "https://localhost:8080/"
        },
        "id": "LGZiT_6YjPlF",
        "outputId": "0d6fad21-754b-43e4-8e74-662d26cc508c"
      },
      "execution_count": null,
      "outputs": [
        {
          "output_type": "stream",
          "name": "stdout",
          "text": [
            "2022\n"
          ]
        }
      ]
    },
    {
      "cell_type": "code",
      "source": [
        "car2={\n",
        "    \"brand\":\"bmw\",\n",
        "    \"model1\":\"ix3\",\n",
        "    \"year\":2022,\n",
        "    \"price\":2250,\n",
        "    \"price\":2250\n",
        "}"
      ],
      "metadata": {
        "id": "Es0yrRj7jI23"
      },
      "execution_count": null,
      "outputs": []
    },
    {
      "cell_type": "code",
      "source": [
        "print(car2)"
      ],
      "metadata": {
        "colab": {
          "base_uri": "https://localhost:8080/"
        },
        "id": "We2elJBAjI6W",
        "outputId": "ee31d3ee-0388-4675-8c4d-acc2005ee42c"
      },
      "execution_count": null,
      "outputs": [
        {
          "output_type": "stream",
          "name": "stdout",
          "text": [
            "{'brand': 'bmw', 'model1': 'ix3', 'year': 2022, 'price': 2250}\n"
          ]
        }
      ]
    },
    {
      "cell_type": "markdown",
      "source": [
        "kendime not: price bi kere gözükür çünküüü dictionary itemlar dublicate izin vermezz."
      ],
      "metadata": {
        "id": "40QkHqxWnS3h"
      }
    },
    {
      "cell_type": "code",
      "source": [
        "print(len(car2))"
      ],
      "metadata": {
        "colab": {
          "base_uri": "https://localhost:8080/"
        },
        "id": "MVDj0oAwndNF",
        "outputId": "c7545da8-4df5-4237-c2b7-18498e2bab32"
      },
      "execution_count": null,
      "outputs": [
        {
          "output_type": "stream",
          "name": "stdout",
          "text": [
            "4\n"
          ]
        }
      ]
    },
    {
      "cell_type": "code",
      "source": [
        "car3={\n",
        "    \"brand\":\"bmw\",\n",
        "    \"model1\":\"ix3\",\n",
        "    \"year\":2022,\n",
        "    \"price\":2250,\n",
        "    \"color\":[\"red\", \"white\", \"blue\"]\n",
        "}"
      ],
      "metadata": {
        "id": "UV4EBmI0ndP3"
      },
      "execution_count": null,
      "outputs": []
    },
    {
      "cell_type": "markdown",
      "source": [
        "birden fazla variable girceksen list kullanmalısın.\n",
        "mesela \"color\" : red, white, blue değil [] kullanmalısın"
      ],
      "metadata": {
        "id": "A-6O7OJbnx6e"
      }
    },
    {
      "cell_type": "code",
      "source": [
        "print(car3[\"color\"])"
      ],
      "metadata": {
        "colab": {
          "base_uri": "https://localhost:8080/"
        },
        "id": "3eiF1Y-KndSx",
        "outputId": "c4783f62-a069-4ea6-d43d-7ef0c397b2b9"
      },
      "execution_count": null,
      "outputs": [
        {
          "output_type": "stream",
          "name": "stdout",
          "text": [
            "['red', 'white', 'blue']\n"
          ]
        }
      ]
    },
    {
      "cell_type": "markdown",
      "source": [
        "**Change Values**\n",
        "1. You can change the value a specific item by refering to itd key name. Değişim değerleri\n",
        "Anahtar adına bakarak belirli bir öğenin değerini değiştirebilirsiniz."
      ],
      "metadata": {
        "id": "So3cIqFdoXtO"
      }
    },
    {
      "cell_type": "code",
      "source": [
        "car3[\"year\"]=2023"
      ],
      "metadata": {
        "id": "EKrjhCk7oWCp"
      },
      "execution_count": null,
      "outputs": []
    },
    {
      "cell_type": "code",
      "source": [
        "car3"
      ],
      "metadata": {
        "colab": {
          "base_uri": "https://localhost:8080/"
        },
        "id": "1MlPNmjZoWk5",
        "outputId": "23cd70b0-1a68-43a0-9f5f-de7a6983e97c"
      },
      "execution_count": null,
      "outputs": [
        {
          "output_type": "execute_result",
          "data": {
            "text/plain": [
              "{'brand': 'bmw',\n",
              " 'model1': 'ix3',\n",
              " 'year': 2023,\n",
              " 'price': 2250,\n",
              " 'color': ['red', 'white', 'blue']}"
            ]
          },
          "metadata": {},
          "execution_count": 18
        },
        {
          "output_type": "execute_result",
          "data": {
            "text/plain": [
              "{'brand': 'bmw',\n",
              " 'model1': 'ix3',\n",
              " 'year': 2023,\n",
              " 'price': 2250,\n",
              " 'color': ['red', 'white', 'blue']}"
            ]
          },
          "metadata": {},
          "execution_count": 19
        }
      ]
    },
    {
      "cell_type": "code",
      "source": [
        "car3.update({\"model1\":\"m3\"})"
      ],
      "metadata": {
        "id": "fMJzbbgdoWns"
      },
      "execution_count": null,
      "outputs": []
    },
    {
      "cell_type": "code",
      "source": [
        "car3"
      ],
      "metadata": {
        "colab": {
          "base_uri": "https://localhost:8080/"
        },
        "id": "7NHhkhCNoWrB",
        "outputId": "d746d964-5a7a-4cec-ccbe-859f405bf684"
      },
      "execution_count": null,
      "outputs": [
        {
          "output_type": "execute_result",
          "data": {
            "text/plain": [
              "{'brand': 'bmw',\n",
              " 'model1': 'm3',\n",
              " 'year': 2023,\n",
              " 'price': 2250,\n",
              " 'color': ['red', 'white', 'blue'],\n",
              " 'model': 'm3'}"
            ]
          },
          "metadata": {},
          "execution_count": 23
        }
      ]
    },
    {
      "cell_type": "markdown",
      "source": [
        "# Removing Items\n",
        "1. There are several methods to remove items from a dictionary.\n",
        "2. The pop() method removes the item with the specified hey name"
      ],
      "metadata": {
        "id": "ljdVrj1areKR"
      }
    },
    {
      "cell_type": "code",
      "source": [
        "car3={\n",
        "    \"brand\":\"bmw\",\n",
        "    \"model1\":\"ix3\",\n",
        "    \"year\":2022,\n",
        "    \"price\":2250,\n",
        "    \"color\":[\"red\", \"white\", \"blue\"]\n",
        "}"
      ],
      "metadata": {
        "id": "YQ-YAu_CrJ8J"
      },
      "execution_count": null,
      "outputs": []
    },
    {
      "cell_type": "code",
      "source": [
        "car3.pop(\"price\")"
      ],
      "metadata": {
        "colab": {
          "base_uri": "https://localhost:8080/"
        },
        "id": "e56urAGXrJ_R",
        "outputId": "f09ddadd-d0d4-4a1a-e614-7daf03cae420"
      },
      "execution_count": null,
      "outputs": [
        {
          "output_type": "execute_result",
          "data": {
            "text/plain": [
              "2250"
            ]
          },
          "metadata": {},
          "execution_count": 26
        }
      ]
    },
    {
      "cell_type": "code",
      "source": [
        "car3"
      ],
      "metadata": {
        "colab": {
          "base_uri": "https://localhost:8080/"
        },
        "id": "IyIllC22rKCL",
        "outputId": "d278b9f6-0451-48d2-f7dc-9da6287b5420"
      },
      "execution_count": null,
      "outputs": [
        {
          "output_type": "execute_result",
          "data": {
            "text/plain": [
              "{'brand': 'bmw',\n",
              " 'model1': 'ix3',\n",
              " 'year': 2022,\n",
              " 'color': ['red', 'white', 'blue']}"
            ]
          },
          "metadata": {},
          "execution_count": 27
        }
      ]
    },
    {
      "cell_type": "code",
      "source": [
        "del car3[\"model1\"]"
      ],
      "metadata": {
        "id": "GEt6bCFcrKFn"
      },
      "execution_count": null,
      "outputs": []
    },
    {
      "cell_type": "code",
      "source": [
        "car3"
      ],
      "metadata": {
        "colab": {
          "base_uri": "https://localhost:8080/"
        },
        "id": "E1LGwRcmsOCs",
        "outputId": "a617c976-b5cb-4d78-b22c-7ee8f06c12d8"
      },
      "execution_count": null,
      "outputs": [
        {
          "output_type": "execute_result",
          "data": {
            "text/plain": [
              "{'brand': 'bmw', 'year': 2022, 'color': ['red', 'white', 'blue']}"
            ]
          },
          "metadata": {},
          "execution_count": 29
        }
      ]
    },
    {
      "cell_type": "code",
      "source": [
        "car3.clear()"
      ],
      "metadata": {
        "id": "Tm-QEnFdsOE2"
      },
      "execution_count": null,
      "outputs": []
    },
    {
      "cell_type": "code",
      "source": [
        "print(car3)"
      ],
      "metadata": {
        "colab": {
          "base_uri": "https://localhost:8080/"
        },
        "id": "aCjGLZ6tsOHn",
        "outputId": "23ff9559-91cc-4343-9c3e-9431d6178fe0"
      },
      "execution_count": null,
      "outputs": [
        {
          "output_type": "stream",
          "name": "stdout",
          "text": [
            "{}\n"
          ]
        }
      ]
    }
  ]
}