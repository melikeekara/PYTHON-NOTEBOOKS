{
  "nbformat": 4,
  "nbformat_minor": 0,
  "metadata": {
    "colab": {
      "provenance": [],
      "authorship_tag": "ABX9TyMlcX68Ts6ES8YjIJ20m7tE",
      "include_colab_link": true
    },
    "kernelspec": {
      "name": "python3",
      "display_name": "Python 3"
    },
    "language_info": {
      "name": "python"
    }
  },
  "cells": [
    {
      "cell_type": "markdown",
      "metadata": {
        "id": "view-in-github",
        "colab_type": "text"
      },
      "source": [
        "<a href=\"https://colab.research.google.com/github/melikeekara/PYTHON-NOTEBOOKS/blob/main/lesson_5.ipynb\" target=\"_parent\"><img src=\"https://colab.research.google.com/assets/colab-badge.svg\" alt=\"Open In Colab\"/></a>"
      ]
    },
    {
      "cell_type": "markdown",
      "source": [
        "# WEEK-5 Object Oriented Programming\n",
        "*   Class\n",
        "*   Inheritance\n",
        "*   Polymorphism\n",
        "*   Encapsulation\n",
        "*   Overriding\n",
        "*   Abstraction\n",
        "\n",
        "\n",
        "\n"
      ],
      "metadata": {
        "id": "712oc9e5Nwat"
      }
    },
    {
      "cell_type": "markdown",
      "source": [
        "# **Python Classes/Object**\n",
        "Python is an object oriented programming language.\n",
        "Almost everything in Python is an object, with its properties and methods.\n",
        "A Class is like an object constructor."
      ],
      "metadata": {
        "id": "lzX9PPkuSED_"
      }
    },
    {
      "cell_type": "markdown",
      "source": [
        "A class is a collection of object or you can say it is blueprint of objects defining the common attributes and behavior Now the question aries, how you do that? Class is defined under a Class Keyword"
      ],
      "metadata": {
        "id": "gScD73dUSkOt"
      }
    },
    {
      "cell_type": "markdown",
      "source": [
        "Classes are the building blocks in Object Oriented Programming.\n",
        "Classes can be seen as blueprints from which you create your Instances."
      ],
      "metadata": {
        "id": "rqKO7Y6YTcKt"
      }
    },
    {
      "cell_type": "code",
      "source": [
        "#Create Class:\n",
        "\n",
        "class Students:\n",
        "  #attribute= age, address, name \n",
        "  #behavior=pass\n",
        "\n",
        "  pass "
      ],
      "metadata": {
        "id": "U8MdUHRvSjVb"
      },
      "execution_count": null,
      "outputs": []
    },
    {
      "cell_type": "markdown",
      "source": [
        "Create Object"
      ],
      "metadata": {
        "id": "-g7eFm2zULmA"
      }
    },
    {
      "cell_type": "code",
      "source": [
        "obj=Students()"
      ],
      "metadata": {
        "id": "g38CFLDmT9fL"
      },
      "execution_count": null,
      "outputs": []
    },
    {
      "cell_type": "code",
      "source": [
        "obj"
      ],
      "metadata": {
        "colab": {
          "base_uri": "https://localhost:8080/"
        },
        "id": "3lxgFcrgUEUO",
        "outputId": "e67e3163-c69a-4c12-c179-4069e87017c4"
      },
      "execution_count": null,
      "outputs": [
        {
          "output_type": "execute_result",
          "data": {
            "text/plain": [
              "<__main__.Students at 0x7fa99320e3a0>"
            ]
          },
          "metadata": {},
          "execution_count": 3
        }
      ]
    },
    {
      "cell_type": "code",
      "source": [
        "class Footballer:\n",
        "  football_club=\"fenerbahce\"\n",
        "  age=21"
      ],
      "metadata": {
        "id": "T5ATZXsoUEXK"
      },
      "execution_count": null,
      "outputs": []
    },
    {
      "cell_type": "code",
      "source": [
        "footballer=Footballer()"
      ],
      "metadata": {
        "id": "pWg_Aa2FUEZ8"
      },
      "execution_count": null,
      "outputs": []
    },
    {
      "cell_type": "code",
      "source": [
        "footballer.age"
      ],
      "metadata": {
        "colab": {
          "base_uri": "https://localhost:8080/"
        },
        "id": "QnzllrarUEcv",
        "outputId": "8a9e0bf2-e24c-4a88-a2b4-1f3380e8770b"
      },
      "execution_count": null,
      "outputs": [
        {
          "output_type": "execute_result",
          "data": {
            "text/plain": [
              "21"
            ]
          },
          "metadata": {},
          "execution_count": 7
        }
      ]
    },
    {
      "cell_type": "code",
      "source": [
        "footballer.football_club"
      ],
      "metadata": {
        "colab": {
          "base_uri": "https://localhost:8080/",
          "height": 36
        },
        "id": "Mbb-AfNtRpQo",
        "outputId": "39bebe55-7473-4fbd-f410-062c113f7bbf"
      },
      "execution_count": null,
      "outputs": [
        {
          "output_type": "execute_result",
          "data": {
            "text/plain": [
              "'fenerbahce'"
            ],
            "application/vnd.google.colaboratory.intrinsic+json": {
              "type": "string"
            }
          },
          "metadata": {},
          "execution_count": 8
        }
      ]
    },
    {
      "cell_type": "markdown",
      "source": [
        "New class"
      ],
      "metadata": {
        "id": "UpjSteRNU2ue"
      }
    },
    {
      "cell_type": "code",
      "source": [
        "class Square:\n",
        "  edge=5\n",
        "  area=0\n",
        "  def area1(self):\n",
        "    self.area=self.edge*self.edge   #5*5\n",
        "    print(\"Area:\", self.area)"
      ],
      "metadata": {
        "id": "rHAT9nNfU50I"
      },
      "execution_count": null,
      "outputs": []
    },
    {
      "cell_type": "code",
      "source": [
        "square=Square"
      ],
      "metadata": {
        "id": "5kh2J20mU53D"
      },
      "execution_count": null,
      "outputs": []
    },
    {
      "cell_type": "code",
      "source": [
        "square.area1"
      ],
      "metadata": {
        "colab": {
          "base_uri": "https://localhost:8080/"
        },
        "id": "CW-8-s68U552",
        "outputId": "fc7fd102-cfef-49c5-bb1f-4890ff2bdd29"
      },
      "execution_count": null,
      "outputs": [
        {
          "output_type": "execute_result",
          "data": {
            "text/plain": [
              "<function __main__.Square.area1(self)>"
            ]
          },
          "metadata": {},
          "execution_count": 11
        }
      ]
    },
    {
      "cell_type": "code",
      "source": [
        "s1=Square()"
      ],
      "metadata": {
        "id": "_UfYilWfVd6z"
      },
      "execution_count": null,
      "outputs": []
    },
    {
      "cell_type": "code",
      "source": [
        "s1"
      ],
      "metadata": {
        "colab": {
          "base_uri": "https://localhost:8080/"
        },
        "id": "NA2zzSxOVd9o",
        "outputId": "7dcbf78a-c22d-4e78-897a-eca894a12b2c"
      },
      "execution_count": null,
      "outputs": [
        {
          "output_type": "execute_result",
          "data": {
            "text/plain": [
              "<__main__.Square at 0x7fa99318b490>"
            ]
          },
          "metadata": {},
          "execution_count": 13
        }
      ]
    },
    {
      "cell_type": "code",
      "source": [
        "s1.edge"
      ],
      "metadata": {
        "colab": {
          "base_uri": "https://localhost:8080/"
        },
        "id": "zEahxb_rVeAa",
        "outputId": "4c629603-1231-48dc-cab2-4d39dbeba8d9"
      },
      "execution_count": null,
      "outputs": [
        {
          "output_type": "execute_result",
          "data": {
            "text/plain": [
              "5"
            ]
          },
          "metadata": {},
          "execution_count": 14
        }
      ]
    },
    {
      "cell_type": "code",
      "source": [
        "s1.area"
      ],
      "metadata": {
        "colab": {
          "base_uri": "https://localhost:8080/"
        },
        "id": "Hd6egswHVeD7",
        "outputId": "d629297e-4ccb-4ac7-af9c-b816b1848943"
      },
      "execution_count": null,
      "outputs": [
        {
          "output_type": "execute_result",
          "data": {
            "text/plain": [
              "0"
            ]
          },
          "metadata": {},
          "execution_count": 16
        }
      ]
    },
    {
      "cell_type": "code",
      "source": [
        "s1.area1"
      ],
      "metadata": {
        "colab": {
          "base_uri": "https://localhost:8080/"
        },
        "id": "b0sgl1t2V4Kj",
        "outputId": "3dd8cd00-0fcd-4bc1-bb97-866f75c17b13"
      },
      "execution_count": null,
      "outputs": [
        {
          "output_type": "execute_result",
          "data": {
            "text/plain": [
              "<bound method Square.area1 of <__main__.Square object at 0x7fa99318b490>>"
            ]
          },
          "metadata": {},
          "execution_count": 19
        }
      ]
    },
    {
      "cell_type": "code",
      "source": [
        "s1.area1()"
      ],
      "metadata": {
        "colab": {
          "base_uri": "https://localhost:8080/"
        },
        "id": "qdWg3qyGV4Nn",
        "outputId": "ee81ca44-b99e-48cc-b073-efd62ec75c70"
      },
      "execution_count": null,
      "outputs": [
        {
          "output_type": "stream",
          "name": "stdout",
          "text": [
            "Area: 25\n"
          ]
        }
      ]
    },
    {
      "cell_type": "code",
      "source": [
        "x=int(input(\"Write edge value:\"))"
      ],
      "metadata": {
        "colab": {
          "base_uri": "https://localhost:8080/"
        },
        "id": "4ev9CeUmV4Q_",
        "outputId": "1258ce50-9f0f-432f-e245-8c66472c5d36"
      },
      "execution_count": null,
      "outputs": [
        {
          "name": "stdout",
          "output_type": "stream",
          "text": [
            "Write edge value:12\n"
          ]
        }
      ]
    },
    {
      "cell_type": "code",
      "source": [
        "s1.edge=x"
      ],
      "metadata": {
        "id": "71Fr5b71YYVW"
      },
      "execution_count": null,
      "outputs": []
    },
    {
      "cell_type": "code",
      "source": [
        "s1.area1()"
      ],
      "metadata": {
        "colab": {
          "base_uri": "https://localhost:8080/"
        },
        "id": "aa2IiR5TYYYS",
        "outputId": "fbbc56f3-dc4a-4c24-c15d-778ba5f7f159"
      },
      "execution_count": null,
      "outputs": [
        {
          "output_type": "stream",
          "name": "stdout",
          "text": [
            "Area: 144\n"
          ]
        }
      ]
    },
    {
      "cell_type": "code",
      "source": [
        "s1.edge=15248\n",
        "s1.area1()"
      ],
      "metadata": {
        "colab": {
          "base_uri": "https://localhost:8080/"
        },
        "id": "97ao09nLYYa9",
        "outputId": "7df9f048-6468-4340-e212-54c4139caf11"
      },
      "execution_count": null,
      "outputs": [
        {
          "output_type": "stream",
          "name": "stdout",
          "text": [
            "Area: 232501504\n"
          ]
        }
      ]
    },
    {
      "cell_type": "markdown",
      "source": [
        "New Class"
      ],
      "metadata": {
        "id": "mRWKbZsvU242"
      }
    },
    {
      "cell_type": "code",
      "source": [
        "class Emp:\n",
        "\n",
        "  age =25\n",
        "  salary=1000\n",
        "\n",
        "  def ageSalaryRatio(self):\n",
        "    a=self.age/self.salary\n",
        "    print(\"medhod:\",a)"
      ],
      "metadata": {
        "id": "byyR4HfPYuZ7"
      },
      "execution_count": null,
      "outputs": []
    },
    {
      "cell_type": "code",
      "source": [
        "emp=Emp()"
      ],
      "metadata": {
        "id": "H3OxwzkaYucX"
      },
      "execution_count": null,
      "outputs": []
    },
    {
      "cell_type": "code",
      "source": [
        "emp.age"
      ],
      "metadata": {
        "colab": {
          "base_uri": "https://localhost:8080/"
        },
        "id": "E9HCF4VoYufC",
        "outputId": "171a5c1b-e88f-4bb0-8e36-44bda5178a6c"
      },
      "execution_count": null,
      "outputs": [
        {
          "output_type": "execute_result",
          "data": {
            "text/plain": [
              "25"
            ]
          },
          "metadata": {},
          "execution_count": 28
        }
      ]
    },
    {
      "cell_type": "code",
      "source": [
        "emp.salary"
      ],
      "metadata": {
        "colab": {
          "base_uri": "https://localhost:8080/"
        },
        "id": "WGtvoI9cYuhg",
        "outputId": "77a1d02e-f974-4255-be26-7e10b9bfd7e1"
      },
      "execution_count": null,
      "outputs": [
        {
          "output_type": "execute_result",
          "data": {
            "text/plain": [
              "1000"
            ]
          },
          "metadata": {},
          "execution_count": 29
        }
      ]
    },
    {
      "cell_type": "code",
      "source": [
        "emp.ageSalaryRatio()"
      ],
      "metadata": {
        "colab": {
          "base_uri": "https://localhost:8080/"
        },
        "id": "-CxhU5hRYukj",
        "outputId": "403a7542-238d-43c1-9ad0-05772aa13fd8"
      },
      "execution_count": null,
      "outputs": [
        {
          "output_type": "stream",
          "name": "stdout",
          "text": [
            "medhod: 0.025\n"
          ]
        }
      ]
    },
    {
      "cell_type": "markdown",
      "source": [
        "New Class"
      ],
      "metadata": {
        "id": "D_sgFSdNZSwJ"
      }
    },
    {
      "cell_type": "markdown",
      "source": [
        "The init() Function\n",
        "The examples above are classes and objects in their simplest form, and are not really useful in real life applications. \n",
        "\n",
        "To understand the meaning of classes we have to understand the built-in init() function. All classes have a function called init(), which is always executed when the class is being initiated.\n",
        "\n",
        "Use the Init() function to assign values to object properties, or other operations that are necessary to do when the object is being created:\n"
      ],
      "metadata": {
        "id": "and1Vy2xZw5Y"
      }
    },
    {
      "cell_type": "code",
      "source": [
        "class Employers:\n",
        "  def __init__(self, name, surname, age):\n",
        "    self.name=name\n",
        "    self.surname=surname\n",
        "    self.age=age"
      ],
      "metadata": {
        "id": "exoPeldMZUWg"
      },
      "execution_count": null,
      "outputs": []
    },
    {
      "cell_type": "code",
      "source": [
        "emp1=Employers(\"melike\", \"kara\", 22)"
      ],
      "metadata": {
        "id": "Xz3mp75bZUZ2"
      },
      "execution_count": null,
      "outputs": []
    },
    {
      "cell_type": "code",
      "source": [
        "emp1.age"
      ],
      "metadata": {
        "colab": {
          "base_uri": "https://localhost:8080/"
        },
        "id": "j8RzIFlcd5oR",
        "outputId": "e8c75d20-3243-49da-e13e-09b164e39277"
      },
      "execution_count": null,
      "outputs": [
        {
          "output_type": "execute_result",
          "data": {
            "text/plain": [
              "22"
            ]
          },
          "metadata": {},
          "execution_count": 34
        }
      ]
    },
    {
      "cell_type": "code",
      "source": [
        "emp1.surname"
      ],
      "metadata": {
        "colab": {
          "base_uri": "https://localhost:8080/",
          "height": 36
        },
        "id": "3pRYPKjVd5q7",
        "outputId": "8c17c913-dd4d-40e6-d7cd-b2629d5ab798"
      },
      "execution_count": null,
      "outputs": [
        {
          "output_type": "execute_result",
          "data": {
            "text/plain": [
              "'kara'"
            ],
            "application/vnd.google.colaboratory.intrinsic+json": {
              "type": "string"
            }
          },
          "metadata": {},
          "execution_count": 35
        }
      ]
    },
    {
      "cell_type": "code",
      "source": [
        "emp1.name"
      ],
      "metadata": {
        "colab": {
          "base_uri": "https://localhost:8080/",
          "height": 36
        },
        "id": "5LtukPx2d5uX",
        "outputId": "79d68c42-dd40-4f7f-fbde-a79e7922722d"
      },
      "execution_count": null,
      "outputs": [
        {
          "output_type": "execute_result",
          "data": {
            "text/plain": [
              "'melike'"
            ],
            "application/vnd.google.colaboratory.intrinsic+json": {
              "type": "string"
            }
          },
          "metadata": {},
          "execution_count": 36
        }
      ]
    },
    {
      "cell_type": "markdown",
      "source": [
        "New Class"
      ],
      "metadata": {
        "id": "441H-U7_eD9A"
      }
    },
    {
      "cell_type": "code",
      "source": [
        "class Person:\n",
        "  def __init__(self,name,age):\n",
        "    self.name=name\n",
        "    self.age=age"
      ],
      "metadata": {
        "id": "1e_cGlIqeFiG"
      },
      "execution_count": null,
      "outputs": []
    },
    {
      "cell_type": "code",
      "source": [
        "p1=Person(\"Melike\", 22)"
      ],
      "metadata": {
        "id": "vUMb-ns3eFlf"
      },
      "execution_count": null,
      "outputs": []
    },
    {
      "cell_type": "code",
      "source": [
        "p2=Person(\"fadik\", 21)"
      ],
      "metadata": {
        "id": "VUwLxb8deY4h"
      },
      "execution_count": null,
      "outputs": []
    },
    {
      "cell_type": "code",
      "source": [
        "print(p1.name)"
      ],
      "metadata": {
        "colab": {
          "base_uri": "https://localhost:8080/"
        },
        "id": "7fQZWCtWeY76",
        "outputId": "17cda7ec-321f-4d61-8c3b-7ef3f4f5fdbf"
      },
      "execution_count": null,
      "outputs": [
        {
          "output_type": "stream",
          "name": "stdout",
          "text": [
            "Melike\n"
          ]
        }
      ]
    },
    {
      "cell_type": "code",
      "source": [
        "print(p2.name)"
      ],
      "metadata": {
        "colab": {
          "base_uri": "https://localhost:8080/"
        },
        "id": "0bLMsOzXeyyj",
        "outputId": "085acda3-d83e-4e18-b3ed-f685039ddeb4"
      },
      "execution_count": null,
      "outputs": [
        {
          "output_type": "stream",
          "name": "stdout",
          "text": [
            "fadik\n"
          ]
        }
      ]
    },
    {
      "cell_type": "code",
      "source": [
        "print(p1.age)"
      ],
      "metadata": {
        "colab": {
          "base_uri": "https://localhost:8080/"
        },
        "id": "8T4e1TbAey2B",
        "outputId": "2379399a-4888-4842-a1f5-53adae5c46d7"
      },
      "execution_count": null,
      "outputs": [
        {
          "output_type": "stream",
          "name": "stdout",
          "text": [
            "22\n"
          ]
        }
      ]
    },
    {
      "cell_type": "code",
      "source": [
        "print(p2.age)"
      ],
      "metadata": {
        "colab": {
          "base_uri": "https://localhost:8080/"
        },
        "id": "HIUzsq6Je7j0",
        "outputId": "dcd57d44-e87e-489c-f600-faf50eca29a3"
      },
      "execution_count": null,
      "outputs": [
        {
          "output_type": "stream",
          "name": "stdout",
          "text": [
            "21\n"
          ]
        }
      ]
    },
    {
      "cell_type": "code",
      "source": [
        "print(p1.name, p1.age)"
      ],
      "metadata": {
        "colab": {
          "base_uri": "https://localhost:8080/"
        },
        "id": "ECDCLtXSe-o4",
        "outputId": "c43f1d8a-76cf-4143-be9b-5b5dd4456b20"
      },
      "execution_count": null,
      "outputs": [
        {
          "output_type": "stream",
          "name": "stdout",
          "text": [
            "Melike 22\n"
          ]
        }
      ]
    },
    {
      "cell_type": "markdown",
      "source": [
        "# The self Parameter\n",
        "The self parameter is a reference to the current instance of the class, and is used to access variables that belongs to the class. \n",
        "\n",
        "It does not have to be named self, you can call it whatever you like , but it has to be the first parameter of any function in the class:"
      ],
      "metadata": {
        "id": "JQ6PgGGdU28Z"
      }
    },
    {
      "cell_type": "code",
      "source": [
        "class Person:\n",
        "  def __init__(self, name, age):\n",
        "    self.name=name\n",
        "    self.age=age\n",
        "\n",
        "  def myfunc(self):\n",
        "    print(\"Hello my name is\"+ self.name)"
      ],
      "metadata": {
        "id": "ieQiyYoHLhTE"
      },
      "execution_count": null,
      "outputs": []
    },
    {
      "cell_type": "code",
      "source": [
        "person=Person(\"melike\", 22)"
      ],
      "metadata": {
        "id": "NiZHhRr3MaQD"
      },
      "execution_count": null,
      "outputs": []
    },
    {
      "cell_type": "code",
      "source": [
        "person.myfunc()"
      ],
      "metadata": {
        "colab": {
          "base_uri": "https://localhost:8080/"
        },
        "id": "7-WNz0wvMgw0",
        "outputId": "26570c28-a5fd-43e0-8a4c-3ba8a424db82"
      },
      "execution_count": null,
      "outputs": [
        {
          "output_type": "stream",
          "name": "stdout",
          "text": [
            "Hello my name ismelike\n"
          ]
        }
      ]
    },
    {
      "cell_type": "code",
      "source": [
        "class Animal:\n",
        "  \n",
        "  def __init__(self,a,b):\n",
        "    self.name=a\n",
        "    self.age=b\n",
        "\n",
        "  def getAge(self):\n",
        "    print(\" \")\n",
        "    return self.age\n",
        "\n",
        "  def getName(self):\n",
        "    print(self.name)"
      ],
      "metadata": {
        "id": "BfF8LmGaMgzY"
      },
      "execution_count": null,
      "outputs": []
    },
    {
      "cell_type": "code",
      "source": [
        "animal1=Animal(\"dog\",2)"
      ],
      "metadata": {
        "id": "c0G8XDj9Mg2A"
      },
      "execution_count": null,
      "outputs": []
    },
    {
      "cell_type": "code",
      "source": [
        "animal1.getAge()"
      ],
      "metadata": {
        "colab": {
          "base_uri": "https://localhost:8080/"
        },
        "id": "Gcj0RDSiMg5b",
        "outputId": "b486af96-d415-4aa6-f2a7-308c2648ab51"
      },
      "execution_count": null,
      "outputs": [
        {
          "output_type": "stream",
          "name": "stdout",
          "text": [
            " \n"
          ]
        },
        {
          "output_type": "execute_result",
          "data": {
            "text/plain": [
              "2"
            ]
          },
          "metadata": {},
          "execution_count": 13
        }
      ]
    },
    {
      "cell_type": "code",
      "source": [
        "animal1.getName()"
      ],
      "metadata": {
        "colab": {
          "base_uri": "https://localhost:8080/"
        },
        "id": "Fs3HzyQuNuiy",
        "outputId": "d6220af9-8dff-44c0-b608-3864406860ad"
      },
      "execution_count": null,
      "outputs": [
        {
          "output_type": "stream",
          "name": "stdout",
          "text": [
            "dog\n"
          ]
        }
      ]
    },
    {
      "cell_type": "code",
      "source": [
        "a2=Animal(\"cat\", 4)\n",
        "a2.getName"
      ],
      "metadata": {
        "colab": {
          "base_uri": "https://localhost:8080/"
        },
        "id": "QaebQ0pTNu3n",
        "outputId": "1509d06f-2702-4029-edf4-6c984e64d2d1"
      },
      "execution_count": null,
      "outputs": [
        {
          "output_type": "execute_result",
          "data": {
            "text/plain": [
              "<bound method Animal.getName of <__main__.Animal object at 0x7f1810b7f490>>"
            ]
          },
          "metadata": {},
          "execution_count": 16
        }
      ]
    },
    {
      "cell_type": "markdown",
      "source": [
        "New Class"
      ],
      "metadata": {
        "id": "pqfJum8SN8_U"
      }
    },
    {
      "cell_type": "code",
      "source": [
        "class MyNum:\n",
        "  def __init__(self):\n",
        "    print(\"Calling the __init__() constructor!/n\")\n",
        "    self.val=0\n",
        "\n",
        "  def increment(self):\n",
        "    self.val=self.val+1\n",
        "    print(self.val)"
      ],
      "metadata": {
        "id": "CD2sNutaNu6t"
      },
      "execution_count": null,
      "outputs": []
    },
    {
      "cell_type": "code",
      "source": [
        "mynum=MyNum()"
      ],
      "metadata": {
        "colab": {
          "base_uri": "https://localhost:8080/"
        },
        "id": "pbMqTU-bNu9G",
        "outputId": "9c33fc71-9742-40f7-e890-018ee89b7811"
      },
      "execution_count": null,
      "outputs": [
        {
          "output_type": "stream",
          "name": "stdout",
          "text": [
            "Calling the __init__() constructor!/n\n"
          ]
        }
      ]
    },
    {
      "cell_type": "code",
      "source": [
        "mynum.increment()"
      ],
      "metadata": {
        "colab": {
          "base_uri": "https://localhost:8080/"
        },
        "id": "mMvWcWJsNu_s",
        "outputId": "acd64362-8692-4c36-9414-d1e25de983fc"
      },
      "execution_count": null,
      "outputs": [
        {
          "output_type": "stream",
          "name": "stdout",
          "text": [
            "4\n"
          ]
        }
      ]
    },
    {
      "cell_type": "markdown",
      "source": [
        "New Class"
      ],
      "metadata": {
        "id": "YWU3OYzVPBZa"
      }
    },
    {
      "cell_type": "code",
      "source": [
        "class MyNum:\n",
        "  def __init__(self,value):\n",
        "    try:\n",
        "      value=int(value)\n",
        "    except ValueError:\n",
        "      value=0\n",
        "    self.value=value\n",
        "\n",
        "  def increment(self):\n",
        "    self.value=self.value+1\n",
        "    print(self.value)"
      ],
      "metadata": {
        "id": "VpUtUNhUNvCb"
      },
      "execution_count": null,
      "outputs": []
    },
    {
      "cell_type": "code",
      "source": [
        "number=MyNum(10)"
      ],
      "metadata": {
        "id": "3vG44hScuBig"
      },
      "execution_count": null,
      "outputs": []
    },
    {
      "cell_type": "code",
      "source": [
        "number.increment()"
      ],
      "metadata": {
        "id": "jbN7Pb20NvFx",
        "colab": {
          "base_uri": "https://localhost:8080/"
        },
        "outputId": "ce46810b-a561-4f17-d8fd-51013ac921f0"
      },
      "execution_count": null,
      "outputs": [
        {
          "output_type": "stream",
          "name": "stdout",
          "text": [
            "12\n"
          ]
        }
      ]
    },
    {
      "cell_type": "code",
      "source": [
        "number1=MyNum(\"adgfvasjghdfvajhgfkhaj\")"
      ],
      "metadata": {
        "id": "S0uy2SRuNvOU"
      },
      "execution_count": null,
      "outputs": []
    },
    {
      "cell_type": "code",
      "source": [
        "number1.increment()"
      ],
      "metadata": {
        "id": "SQaitIe1uLJz",
        "outputId": "9aad0e0b-5ca6-42fc-a85c-e34cd3dd5268",
        "colab": {
          "base_uri": "https://localhost:8080/"
        }
      },
      "execution_count": null,
      "outputs": [
        {
          "output_type": "stream",
          "name": "stdout",
          "text": [
            "1\n"
          ]
        }
      ]
    },
    {
      "cell_type": "markdown",
      "source": [
        "New Class"
      ],
      "metadata": {
        "id": "D2fKH0tYE48a"
      }
    },
    {
      "cell_type": "code",
      "source": [
        "class MyNumber:\n",
        "  def __init__(self,value):\n",
        "    self.value=int(value)\n",
        "\n",
        "  def increment(self):\n",
        "    self.value=self.value+1\n",
        "    print(self.value)"
      ],
      "metadata": {
        "id": "GH26L70muLMt"
      },
      "execution_count": null,
      "outputs": []
    },
    {
      "cell_type": "code",
      "source": [
        "number=MyNumber(10)"
      ],
      "metadata": {
        "id": "wi9o76bYuLQO"
      },
      "execution_count": null,
      "outputs": []
    },
    {
      "cell_type": "code",
      "source": [
        "number.increment()"
      ],
      "metadata": {
        "colab": {
          "base_uri": "https://localhost:8080/"
        },
        "id": "SE6TwedDFJtL",
        "outputId": "d7a23123-2d3c-4028-8e63-e1fb3ff39a3b"
      },
      "execution_count": null,
      "outputs": [
        {
          "output_type": "stream",
          "name": "stdout",
          "text": [
            "11\n"
          ]
        }
      ]
    },
    {
      "cell_type": "code",
      "source": [
        "class MyNumber:\n",
        "  def __init__(self, value):\n",
        "    try:\n",
        "      value=int(value)\n",
        "    except ValueError:\n",
        "      value=0\n",
        "    self.value=value\n",
        "  \n",
        "  def increment(self):\n",
        "    self.value=self.value+1\n",
        "    print(self.value)"
      ],
      "metadata": {
        "id": "AoL2d5PDFJvt"
      },
      "execution_count": null,
      "outputs": []
    },
    {
      "cell_type": "code",
      "source": [
        "a=MyNumber(10)"
      ],
      "metadata": {
        "id": "bcY_0yNCFJzX"
      },
      "execution_count": null,
      "outputs": []
    },
    {
      "cell_type": "code",
      "source": [
        "a.increment()"
      ],
      "metadata": {
        "colab": {
          "base_uri": "https://localhost:8080/"
        },
        "id": "ZT4c4tU1FJ2V",
        "outputId": "8cb87c03-12e2-47d9-af64-37116fcdf243"
      },
      "execution_count": null,
      "outputs": [
        {
          "output_type": "stream",
          "name": "stdout",
          "text": [
            "11\n"
          ]
        }
      ]
    },
    {
      "cell_type": "code",
      "source": [
        "a3=MyNumber(\"jdfkjfbvsçkfbg\")"
      ],
      "metadata": {
        "id": "XwsBoewyFJ5J"
      },
      "execution_count": null,
      "outputs": []
    },
    {
      "cell_type": "code",
      "source": [
        "a3.increment()"
      ],
      "metadata": {
        "colab": {
          "base_uri": "https://localhost:8080/"
        },
        "id": "8ex1icBJFJ8l",
        "outputId": "acc805b8-5792-4a89-fb67-c42c0a8f89a4"
      },
      "execution_count": null,
      "outputs": [
        {
          "output_type": "stream",
          "name": "stdout",
          "text": [
            "1\n"
          ]
        }
      ]
    },
    {
      "cell_type": "code",
      "source": [
        "a4=MyNumber(\"Melike\")"
      ],
      "metadata": {
        "id": "gu0rGXaAG0Wx"
      },
      "execution_count": null,
      "outputs": []
    },
    {
      "cell_type": "code",
      "source": [
        "a4.increment()"
      ],
      "metadata": {
        "colab": {
          "base_uri": "https://localhost:8080/"
        },
        "id": "I87T1aeSGtsB",
        "outputId": "3595815a-e9cc-47de-e8e6-a0bcd0f50c8c"
      },
      "execution_count": null,
      "outputs": [
        {
          "output_type": "stream",
          "name": "stdout",
          "text": [
            "1\n"
          ]
        }
      ]
    },
    {
      "cell_type": "markdown",
      "source": [
        "New Class"
      ],
      "metadata": {
        "id": "t3DzI5qBG_Yt"
      }
    },
    {
      "cell_type": "code",
      "source": [
        "class Yourclass:\n",
        "  classy=10\n",
        "\n",
        "  def set_val(self):\n",
        "    self.insty=100\n",
        "    print(self.insty)"
      ],
      "metadata": {
        "id": "VWDD9XvDGtvG"
      },
      "execution_count": null,
      "outputs": []
    },
    {
      "cell_type": "code",
      "source": [
        "obj=Yourclass()"
      ],
      "metadata": {
        "id": "Nfh_R46YGtye"
      },
      "execution_count": null,
      "outputs": []
    },
    {
      "cell_type": "code",
      "source": [
        "obj.classy"
      ],
      "metadata": {
        "colab": {
          "base_uri": "https://localhost:8080/"
        },
        "id": "k__7mVVbGt1r",
        "outputId": "e62911a4-3833-4052-c04c-2749f9024803"
      },
      "execution_count": null,
      "outputs": [
        {
          "output_type": "execute_result",
          "data": {
            "text/plain": [
              "10"
            ]
          },
          "metadata": {},
          "execution_count": 30
        }
      ]
    },
    {
      "cell_type": "code",
      "source": [
        "obj.set_val()"
      ],
      "metadata": {
        "colab": {
          "base_uri": "https://localhost:8080/"
        },
        "id": "pOlAfMWBGt4j",
        "outputId": "ff066ca7-5119-44d9-ba9a-2eea8acc98de"
      },
      "execution_count": null,
      "outputs": [
        {
          "output_type": "stream",
          "name": "stdout",
          "text": [
            "100\n"
          ]
        }
      ]
    },
    {
      "cell_type": "code",
      "source": [
        "obj.insty"
      ],
      "metadata": {
        "colab": {
          "base_uri": "https://localhost:8080/"
        },
        "id": "PAlHkkoSGt7H",
        "outputId": "56e979a7-fb8a-47e6-e5ba-efc7d14b0dcc"
      },
      "execution_count": null,
      "outputs": [
        {
          "output_type": "execute_result",
          "data": {
            "text/plain": [
              "100"
            ]
          },
          "metadata": {},
          "execution_count": 32
        }
      ]
    },
    {
      "cell_type": "markdown",
      "source": [
        "New Class"
      ],
      "metadata": {
        "id": "cCgVh_oIH7kX"
      }
    },
    {
      "cell_type": "code",
      "source": [
        "class Car:\n",
        "\n",
        "  def __init__(self, manufacturer, model, year):\n",
        "    self.manufacturer=manufacturer\n",
        "    self.model=model\n",
        "    self.year=year\n",
        "    self.odometer_reading=0\n",
        "\n",
        "  def welcome(self):\n",
        "    print(\"welcome our car class\")\n",
        "\n",
        "  def getInformation(self):\n",
        "    long_name=str(self.year)+ \" \" + self.manufacturer+ \" \"+self.model\n",
        "\n",
        "    return long_name.title()\n",
        "\n",
        "  def read_odometer(self):\n",
        "    print(\"Car has \"+ str(self.odometer_reading)+ \"km on it\")\n",
        "\n",
        "  def update_odometer(self, kilometer):\n",
        "\n",
        "    if kilometer>=self.odometer_reading:\n",
        "      self.odometer_reading=kilometer\n",
        "    else:\n",
        "      print(\"There is no change\")\n",
        "\n",
        "  def increment_odometer(self, kilometer):\n",
        "    self.odometer_reading+=kilometer"
      ],
      "metadata": {
        "id": "_5-GvKsxGt-A"
      },
      "execution_count": 1,
      "outputs": []
    },
    {
      "cell_type": "code",
      "source": [
        "my_car=Car(\"mercedes\", \"c200\", 2022)"
      ],
      "metadata": {
        "id": "QkqSnqcDIkdf"
      },
      "execution_count": null,
      "outputs": []
    },
    {
      "cell_type": "code",
      "source": [
        "my_car.manufacturer"
      ],
      "metadata": {
        "colab": {
          "base_uri": "https://localhost:8080/",
          "height": 36
        },
        "id": "8BhXvL6jIkgK",
        "outputId": "047b1aa2-1076-4dfe-c946-abb4f2bbba27"
      },
      "execution_count": null,
      "outputs": [
        {
          "output_type": "execute_result",
          "data": {
            "text/plain": [
              "'mercedes'"
            ],
            "application/vnd.google.colaboratory.intrinsic+json": {
              "type": "string"
            }
          },
          "metadata": {},
          "execution_count": 48
        }
      ]
    },
    {
      "cell_type": "code",
      "source": [
        "my_car.model"
      ],
      "metadata": {
        "colab": {
          "base_uri": "https://localhost:8080/",
          "height": 36
        },
        "id": "7pggOVQmIkjm",
        "outputId": "4ef7709e-0d64-485a-8f6a-3e4dc018a0c1"
      },
      "execution_count": null,
      "outputs": [
        {
          "output_type": "execute_result",
          "data": {
            "text/plain": [
              "'c200'"
            ],
            "application/vnd.google.colaboratory.intrinsic+json": {
              "type": "string"
            }
          },
          "metadata": {},
          "execution_count": 49
        }
      ]
    },
    {
      "cell_type": "code",
      "source": [
        "my_car.year"
      ],
      "metadata": {
        "colab": {
          "base_uri": "https://localhost:8080/"
        },
        "id": "-Ft343BfIkme",
        "outputId": "87ea537c-db6a-403e-9e42-201f9ddc043d"
      },
      "execution_count": null,
      "outputs": [
        {
          "output_type": "execute_result",
          "data": {
            "text/plain": [
              "2022"
            ]
          },
          "metadata": {},
          "execution_count": 50
        }
      ]
    },
    {
      "cell_type": "code",
      "source": [
        "my_car.welcome"
      ],
      "metadata": {
        "colab": {
          "base_uri": "https://localhost:8080/"
        },
        "id": "kpquRiS4IkpU",
        "outputId": "f249a691-e75d-42b4-952a-5054e5d26c21"
      },
      "execution_count": null,
      "outputs": [
        {
          "output_type": "execute_result",
          "data": {
            "text/plain": [
              "<bound method Car.welcome of <__main__.Car object at 0x7f63c7f1f9a0>>"
            ]
          },
          "metadata": {},
          "execution_count": 51
        }
      ]
    },
    {
      "cell_type": "code",
      "source": [
        "my_car.getInformation"
      ],
      "metadata": {
        "colab": {
          "base_uri": "https://localhost:8080/"
        },
        "id": "RSl7gJOrIksl",
        "outputId": "1d2c95f1-9fcb-4bd7-c1e6-a30f603ec89e"
      },
      "execution_count": null,
      "outputs": [
        {
          "output_type": "execute_result",
          "data": {
            "text/plain": [
              "<bound method Car.getInformation of <__main__.Car object at 0x7f63c7f1f9a0>>"
            ]
          },
          "metadata": {},
          "execution_count": 52
        }
      ]
    },
    {
      "cell_type": "code",
      "source": [
        "my_car.read_odometer()"
      ],
      "metadata": {
        "colab": {
          "base_uri": "https://localhost:8080/"
        },
        "id": "aMWam9T-GuBu",
        "outputId": "8a188cbf-f329-4916-bd62-77aedb70f3e0"
      },
      "execution_count": null,
      "outputs": [
        {
          "output_type": "stream",
          "name": "stdout",
          "text": [
            "Car has 0km on it\n"
          ]
        }
      ]
    },
    {
      "cell_type": "code",
      "source": [
        "my_car.odemeter_reading=25"
      ],
      "metadata": {
        "id": "hQUREa8xL3Xm"
      },
      "execution_count": null,
      "outputs": []
    },
    {
      "cell_type": "code",
      "source": [
        "my_car.read_odometer()"
      ],
      "metadata": {
        "colab": {
          "base_uri": "https://localhost:8080/"
        },
        "id": "Xe2Odu2qL3a3",
        "outputId": "7883d696-3d9f-4732-d309-039737adf872"
      },
      "execution_count": null,
      "outputs": [
        {
          "output_type": "stream",
          "name": "stdout",
          "text": [
            "Car has 0km on it\n"
          ]
        }
      ]
    },
    {
      "cell_type": "code",
      "source": [
        "my_car.update_odometer(50)"
      ],
      "metadata": {
        "id": "REE-cjuFMFPp"
      },
      "execution_count": null,
      "outputs": []
    },
    {
      "cell_type": "code",
      "source": [
        "my_car.read_odometer()"
      ],
      "metadata": {
        "colab": {
          "base_uri": "https://localhost:8080/"
        },
        "id": "5AEcBRvZMFTT",
        "outputId": "c2951a2e-b8c4-4d0a-8c28-f72627ab0747"
      },
      "execution_count": null,
      "outputs": [
        {
          "output_type": "stream",
          "name": "stdout",
          "text": [
            "Car has 50km on it\n"
          ]
        }
      ]
    },
    {
      "cell_type": "markdown",
      "source": [
        "# HOMEWORK\n",
        "CREATE YOUR CLASS ABOUT ANYTHING\n",
        "YOU CAN USE ALL INFORMATION"
      ],
      "metadata": {
        "id": "XyJGRAYwMbxg"
      }
    },
    {
      "cell_type": "code",
      "source": [
        "class theater_ticket:\n",
        "  def __init__(self, name, type_theater, actors_number, duration_theater, ticket_capacity):\n",
        "    self.name=name\n",
        "    self.type_theater=type_theater\n",
        "    self.actors=actors_number\n",
        "    self.duration_theater=duration_theater\n",
        "    self.ticket_capacity=ticket_capacity\n",
        "\n",
        "  def get_info(self):\n",
        "    print(\"Our show called\", self.name, \" is a \", self.type_theater, \" and will last \", self.duration_theater, \"minutes. We wish you a good time.\")\n",
        "\n",
        "\n",
        "  def is_ticket_available(self):\n",
        "    if self.ticket_capacity == 0:\n",
        "      print(\"The sale of tickets has been suspended.\")\n",
        "      \n",
        "    else:\n",
        "      print(f\"Number of tickets remaining: {100 - self.ticket_capacity}. Ticket sales continue\")\n"
      ],
      "metadata": {
        "id": "G6TMC07yMq-0"
      },
      "execution_count": 34,
      "outputs": []
    },
    {
      "cell_type": "code",
      "source": [
        "theaterTicket=theater_ticket(\"Ölümcül Oyun\",\"psychological/thriller\", 3, \"80 minutes\", 60)"
      ],
      "metadata": {
        "id": "RM0_O_vbJgS9"
      },
      "execution_count": 35,
      "outputs": []
    },
    {
      "cell_type": "code",
      "source": [
        "theaterTicket.name"
      ],
      "metadata": {
        "colab": {
          "base_uri": "https://localhost:8080/",
          "height": 36
        },
        "id": "CIKsP8XvKyRF",
        "outputId": "4bd3e659-2dde-42ac-c17c-c91c3c9991bb"
      },
      "execution_count": 36,
      "outputs": [
        {
          "output_type": "execute_result",
          "data": {
            "text/plain": [
              "'Ölümcül Oyun'"
            ],
            "application/vnd.google.colaboratory.intrinsic+json": {
              "type": "string"
            }
          },
          "metadata": {},
          "execution_count": 36
        }
      ]
    },
    {
      "cell_type": "code",
      "source": [
        "theaterTicket.type_theater"
      ],
      "metadata": {
        "colab": {
          "base_uri": "https://localhost:8080/",
          "height": 36
        },
        "id": "JUYpAId0WDjx",
        "outputId": "24be0f9a-ed2f-4e72-aff3-d6515bd89e25"
      },
      "execution_count": 37,
      "outputs": [
        {
          "output_type": "execute_result",
          "data": {
            "text/plain": [
              "'psychological/thriller'"
            ],
            "application/vnd.google.colaboratory.intrinsic+json": {
              "type": "string"
            }
          },
          "metadata": {},
          "execution_count": 37
        }
      ]
    },
    {
      "cell_type": "code",
      "source": [
        "theaterTicket.actors"
      ],
      "metadata": {
        "colab": {
          "base_uri": "https://localhost:8080/"
        },
        "id": "MOlJkmRHWDn8",
        "outputId": "6d828e36-8f9f-4c24-ea1c-69d26ea5ef42"
      },
      "execution_count": 38,
      "outputs": [
        {
          "output_type": "execute_result",
          "data": {
            "text/plain": [
              "3"
            ]
          },
          "metadata": {},
          "execution_count": 38
        }
      ]
    },
    {
      "cell_type": "code",
      "source": [
        "theaterTicket.duration_theater"
      ],
      "metadata": {
        "colab": {
          "base_uri": "https://localhost:8080/",
          "height": 36
        },
        "id": "wDQ1LXmKWDtr",
        "outputId": "b2e8cdd3-b306-43f4-9625-34888a4cfdb8"
      },
      "execution_count": 39,
      "outputs": [
        {
          "output_type": "execute_result",
          "data": {
            "text/plain": [
              "'80 minutes'"
            ],
            "application/vnd.google.colaboratory.intrinsic+json": {
              "type": "string"
            }
          },
          "metadata": {},
          "execution_count": 39
        }
      ]
    },
    {
      "cell_type": "code",
      "source": [
        "theaterTicket.ticket_capacity"
      ],
      "metadata": {
        "colab": {
          "base_uri": "https://localhost:8080/"
        },
        "id": "dIjvvIP7WDyd",
        "outputId": "ca74530c-9701-4b71-a307-43894c81673f"
      },
      "execution_count": 40,
      "outputs": [
        {
          "output_type": "execute_result",
          "data": {
            "text/plain": [
              "60"
            ]
          },
          "metadata": {},
          "execution_count": 40
        }
      ]
    },
    {
      "cell_type": "code",
      "source": [
        "print(theaterTicket.is_ticket_available())"
      ],
      "metadata": {
        "colab": {
          "base_uri": "https://localhost:8080/"
        },
        "id": "o7MzzPAhWD01",
        "outputId": "780852cd-3a36-4ef4-8494-ee1358a0a470"
      },
      "execution_count": 41,
      "outputs": [
        {
          "output_type": "stream",
          "name": "stdout",
          "text": [
            "Number of tickets remaining: 40. Ticket sales continue\n",
            "None\n"
          ]
        }
      ]
    }
  ]
}